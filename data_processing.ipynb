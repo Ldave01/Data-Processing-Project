{
 "metadata": {
  "language_info": {
   "codemirror_mode": {
    "name": "ipython",
    "version": 3
   },
   "file_extension": ".py",
   "mimetype": "text/x-python",
   "name": "python",
   "nbconvert_exporter": "python",
   "pygments_lexer": "ipython3",
   "version": "3.7.4"
  },
  "orig_nbformat": 4,
  "kernelspec": {
   "name": "python3",
   "display_name": "Python 3.7.4 64-bit ('base': conda)"
  },
  "interpreter": {
   "hash": "28e6fdb9d573fb7695c59a9cacf33245f364d691ecbc4b7fe5008679860ec6b3"
  }
 },
 "nbformat": 4,
 "nbformat_minor": 2,
 "cells": [
  {
   "cell_type": "code",
   "execution_count": 393,
   "metadata": {},
   "outputs": [],
   "source": [
    "import numpy as np\n",
    "import pandas as pd\n",
    "import matplotlib.pyplot as plt\n",
    "import seaborn as sns"
   ]
  },
  {
   "cell_type": "code",
   "execution_count": 420,
   "metadata": {},
   "outputs": [],
   "source": [
    "commune_path=\"commune.xlsx\"\n",
    "commune_data= pd.read_excel(commune_path)\n",
    "drop_cols=['Commune_en']\n",
    "commune_data.drop(columns=drop_cols, inplace=True)\n",
    "commune_cols=['commune','commune_id', 'departement','departement_id']\n",
    "commune_data.columns=commune_cols\n",
    "commune_data=commune_data.set_index('commune_id')\n",
    "#commune_data.head()"
   ]
  },
  {
   "cell_type": "code",
   "execution_count": 421,
   "metadata": {},
   "outputs": [
    {
     "output_type": "execute_result",
     "data": {
      "text/plain": [
       "commune           0\n",
       "departement       0\n",
       "departement_id    0\n",
       "dtype: int64"
      ]
     },
     "metadata": {},
     "execution_count": 421
    }
   ],
   "source": [
    "commune_data.isna().sum()"
   ]
  },
  {
   "cell_type": "code",
   "execution_count": 422,
   "metadata": {},
   "outputs": [],
   "source": [
    "#commune_data.loc[commune_data['commune'] == 'Abricots']\n",
    "def fill_depart(string):\n",
    "    data=commune_data.loc[commune_data['commune'] == string]\n",
    "    res=data['departement_id'].str.upper()\n",
    "    print(str(res))\n",
    "#fill_depart('Abricots')"
   ]
  },
  {
   "cell_type": "code",
   "execution_count": 397,
   "metadata": {},
   "outputs": [
    {
     "output_type": "execute_result",
     "data": {
      "text/plain": [
       "False"
      ]
     },
     "metadata": {},
     "execution_count": 397
    }
   ],
   "source": [
    "check_null=commune_data.isnull().values.any()\n",
    "check_null"
   ]
  },
  {
   "cell_type": "code",
   "execution_count": 429,
   "metadata": {},
   "outputs": [],
   "source": [
    "quest_path=\"quest.csv\" \n",
    "quest_data=pd.read_csv(quest_path, index_col=0)\n",
    "drop_cols=['modified_at','formal_sector_job','after_AA','department']\n",
    "quest_data.drop(columns=drop_cols, inplace=True)\n",
    "quest_cols=['gender','dob','commune_id','created_at','education_level','university','study_domain','current_employed','computer_home','internet_home','hear_AA','quest_id']\n",
    "quest_data.columns=quest_cols\n",
    "quest_data['commune_id']=quest_data['commune_id'].str.upper()\n",
    "quest_data['dob'] = quest_data['dob'].replace(['3 aout 1977'],'03/08/1977')\n",
    "quest_data=quest_data.set_index('commune_id')\n",
    "quest_data['dob'] = pd.to_datetime(quest_data['dob'])\n",
    "#quest_data['created_at'] = pd.to_datetime(quest_data['created_at'])\n",
    "#quest_data.head()"
   ]
  },
  {
   "cell_type": "code",
   "execution_count": 430,
   "metadata": {},
   "outputs": [],
   "source": [
    "#This line fill all the null values in dob column\n",
    "quest_data.dob=quest_data['dob'].fillna(value=quest_data.dob.mean())"
   ]
  },
  {
   "cell_type": "code",
   "execution_count": 431,
   "metadata": {},
   "outputs": [],
   "source": [
    "quest_data['study_domain'] = quest_data['study_domain'].replace(['[]'],\"['item1']\")"
   ]
  },
  {
   "cell_type": "code",
   "execution_count": 432,
   "metadata": {},
   "outputs": [
    {
     "output_type": "execute_result",
     "data": {
      "text/plain": [
       "['item1']                      86\n",
       "['other']                      63\n",
       "['item6']                      19\n",
       "['item3']                      12\n",
       "['item2']                       9\n",
       "['item5']                       8\n",
       "['item7']                       8\n",
       "['item2', 'item3']              7\n",
       "['item8']                       6\n",
       "['item1', 'item6']              5\n",
       "['item3', 'item6']              2\n",
       "['item4', 'item1']              2\n",
       "['item1', 'other']              2\n",
       "['item6', 'item7']              2\n",
       "['item6', 'item3']              2\n",
       "['item6', 'other']              2\n",
       "['item3', 'item2']              2\n",
       "['item5', 'item6', 'other']     1\n",
       "['item4', 'item3']              1\n",
       "['item1', 'item7']              1\n",
       "['item7', 'other']              1\n",
       "['item1', 'item5']              1\n",
       "['item6', 'item1']              1\n",
       "['item5', 'other']              1\n",
       "['item4', 'item1', 'item6']     1\n",
       "['item3', 'item1']              1\n",
       "['item2', 'item3', 'other']     1\n",
       "['item1', 'item3']              1\n",
       "['item5', 'item6']              1\n",
       "['item1', 'other', 'item6']     1\n",
       "Name: study_domain, dtype: int64"
      ]
     },
     "metadata": {},
     "execution_count": 432
    }
   ],
   "source": [
    "quest_data['study_domain'].value_counts()"
   ]
  },
  {
   "cell_type": "code",
   "execution_count": 353,
   "metadata": {},
   "outputs": [
    {
     "output_type": "execute_result",
     "data": {
      "text/plain": [
       "gender              0\n",
       "dob                 0\n",
       "education_level     0\n",
       "university          0\n",
       "study_domain        0\n",
       "current_employed    0\n",
       "computer_home       0\n",
       "internet_home       0\n",
       "hear_AA             0\n",
       "quest_id            0\n",
       "dtype: int64"
      ]
     },
     "metadata": {},
     "execution_count": 353
    }
   ],
   "source": [
    "quest_data.isna().sum()"
   ]
  },
  {
   "cell_type": "code",
   "execution_count": 433,
   "metadata": {},
   "outputs": [
    {
     "output_type": "execute_result",
     "data": {
      "text/plain": [
       "            gender        dob                   created_at  \\\n",
       "commune_id                                                   \n",
       "HT0111        male 1998-08-25  2021-02-14T23:03:52.768400Z   \n",
       "HT0111      female 1996-09-29  2021-02-16T16:01:10.861844Z   \n",
       "HT0111        male 1996-05-17  2021-02-16T16:56:30.579504Z   \n",
       "HT0111        male 1996-11-24  2021-02-16T16:57:55.754541Z   \n",
       "HT0111        male 1997-07-20  2021-02-16T17:05:40.907948Z   \n",
       "\n",
       "                   education_level  \\\n",
       "commune_id                           \n",
       "HT0111                     unknown   \n",
       "HT0111         Bachelors (bacc +4)   \n",
       "HT0111         Bachelors (bacc +4)   \n",
       "HT0111         Bachelors (bacc +4)   \n",
       "HT0111      High School (16 years)   \n",
       "\n",
       "                                                university  \\\n",
       "commune_id                                                   \n",
       "HT0111                                             unknown   \n",
       "HT0111                                               other   \n",
       "HT0111                     Université d'Etat d'Haïti (UEH)   \n",
       "HT0111      Ecole Supérieure d'Infotronique d'Haïti (ESIH)   \n",
       "HT0111                                             unknown   \n",
       "\n",
       "                  study_domain current_employed computer_home internet_home  \\\n",
       "commune_id                                                                    \n",
       "HT0111               ['item1']          unknown       unknown       unknown   \n",
       "HT0111               ['other']               No           Yes           Yes   \n",
       "HT0111               ['item1']               No           Yes           Yes   \n",
       "HT0111      ['item1', 'item6']               No           Yes           Yes   \n",
       "HT0111               ['other']               No           Yes           Yes   \n",
       "\n",
       "             hear_AA                              quest_id  \n",
       "commune_id                                                  \n",
       "HT0111       unknown  905dc006-ce95-11eb-b2f9-7c67a234f601  \n",
       "HT0111        Friend  905ddcf2-ce95-11eb-9a92-7c67a234f601  \n",
       "HT0111        Friend  905e2608-ce95-11eb-809f-7c67a234f601  \n",
       "HT0111          ESIH  905e4cf5-ce95-11eb-96a9-7c67a234f601  \n",
       "HT0111      WhatsApp  905e73fd-ce95-11eb-a7b0-7c67a234f601  "
      ],
      "text/html": "<div>\n<style scoped>\n    .dataframe tbody tr th:only-of-type {\n        vertical-align: middle;\n    }\n\n    .dataframe tbody tr th {\n        vertical-align: top;\n    }\n\n    .dataframe thead th {\n        text-align: right;\n    }\n</style>\n<table border=\"1\" class=\"dataframe\">\n  <thead>\n    <tr style=\"text-align: right;\">\n      <th></th>\n      <th>gender</th>\n      <th>dob</th>\n      <th>created_at</th>\n      <th>education_level</th>\n      <th>university</th>\n      <th>study_domain</th>\n      <th>current_employed</th>\n      <th>computer_home</th>\n      <th>internet_home</th>\n      <th>hear_AA</th>\n      <th>quest_id</th>\n    </tr>\n    <tr>\n      <th>commune_id</th>\n      <th></th>\n      <th></th>\n      <th></th>\n      <th></th>\n      <th></th>\n      <th></th>\n      <th></th>\n      <th></th>\n      <th></th>\n      <th></th>\n      <th></th>\n    </tr>\n  </thead>\n  <tbody>\n    <tr>\n      <td>HT0111</td>\n      <td>male</td>\n      <td>1998-08-25</td>\n      <td>2021-02-14T23:03:52.768400Z</td>\n      <td>unknown</td>\n      <td>unknown</td>\n      <td>['item1']</td>\n      <td>unknown</td>\n      <td>unknown</td>\n      <td>unknown</td>\n      <td>unknown</td>\n      <td>905dc006-ce95-11eb-b2f9-7c67a234f601</td>\n    </tr>\n    <tr>\n      <td>HT0111</td>\n      <td>female</td>\n      <td>1996-09-29</td>\n      <td>2021-02-16T16:01:10.861844Z</td>\n      <td>Bachelors (bacc +4)</td>\n      <td>other</td>\n      <td>['other']</td>\n      <td>No</td>\n      <td>Yes</td>\n      <td>Yes</td>\n      <td>Friend</td>\n      <td>905ddcf2-ce95-11eb-9a92-7c67a234f601</td>\n    </tr>\n    <tr>\n      <td>HT0111</td>\n      <td>male</td>\n      <td>1996-05-17</td>\n      <td>2021-02-16T16:56:30.579504Z</td>\n      <td>Bachelors (bacc +4)</td>\n      <td>Université d'Etat d'Haïti (UEH)</td>\n      <td>['item1']</td>\n      <td>No</td>\n      <td>Yes</td>\n      <td>Yes</td>\n      <td>Friend</td>\n      <td>905e2608-ce95-11eb-809f-7c67a234f601</td>\n    </tr>\n    <tr>\n      <td>HT0111</td>\n      <td>male</td>\n      <td>1996-11-24</td>\n      <td>2021-02-16T16:57:55.754541Z</td>\n      <td>Bachelors (bacc +4)</td>\n      <td>Ecole Supérieure d'Infotronique d'Haïti (ESIH)</td>\n      <td>['item1', 'item6']</td>\n      <td>No</td>\n      <td>Yes</td>\n      <td>Yes</td>\n      <td>ESIH</td>\n      <td>905e4cf5-ce95-11eb-96a9-7c67a234f601</td>\n    </tr>\n    <tr>\n      <td>HT0111</td>\n      <td>male</td>\n      <td>1997-07-20</td>\n      <td>2021-02-16T17:05:40.907948Z</td>\n      <td>High School (16 years)</td>\n      <td>unknown</td>\n      <td>['other']</td>\n      <td>No</td>\n      <td>Yes</td>\n      <td>Yes</td>\n      <td>WhatsApp</td>\n      <td>905e73fd-ce95-11eb-a7b0-7c67a234f601</td>\n    </tr>\n  </tbody>\n</table>\n</div>"
     },
     "metadata": {},
     "execution_count": 433
    }
   ],
   "source": [
    "quest_data.head()"
   ]
  },
  {
   "cell_type": "code",
   "execution_count": 434,
   "metadata": {},
   "outputs": [],
   "source": [
    "quest_data['created_at'] = quest_data['created_at'].str[:10]"
   ]
  },
  {
   "cell_type": "code",
   "execution_count": 435,
   "metadata": {},
   "outputs": [
    {
     "output_type": "execute_result",
     "data": {
      "text/plain": [
       "            gender        dob  created_at         education_level  \\\n",
       "commune_id                                                          \n",
       "HT0111        male 1998-08-25  2021-02-14                 unknown   \n",
       "HT0111      female 1996-09-29  2021-02-16     Bachelors (bacc +4)   \n",
       "HT0111        male 1996-05-17  2021-02-16     Bachelors (bacc +4)   \n",
       "HT0111        male 1996-11-24  2021-02-16     Bachelors (bacc +4)   \n",
       "HT0111        male 1997-07-20  2021-02-16  High School (16 years)   \n",
       "...            ...        ...         ...                     ...   \n",
       "HT0621        male 1994-02-15  2021-03-02     Bachelors (bacc +4)   \n",
       "HT0621        male 1990-08-10  2021-03-10     Bachelors (bacc +4)   \n",
       "HT0621        male 1993-12-28  2021-03-14     Bachelors (bacc +4)   \n",
       "HT0412        male 1992-04-17  2021-03-08     Bachelors (bacc +4)   \n",
       "HT1012        male 1993-07-22  2021-03-10                 Masters   \n",
       "\n",
       "                                                   university  \\\n",
       "commune_id                                                      \n",
       "HT0111                                                unknown   \n",
       "HT0111                                                  other   \n",
       "HT0111                        Université d'Etat d'Haïti (UEH)   \n",
       "HT0111         Ecole Supérieure d'Infotronique d'Haïti (ESIH)   \n",
       "HT0111                                                unknown   \n",
       "...                                                       ...   \n",
       "HT0621                                                  other   \n",
       "HT0621                        Université d'Etat d'Haïti (UEH)   \n",
       "HT0621      Centre de Techniques de Planification et d'Eco...   \n",
       "HT0412                                                  other   \n",
       "HT1012                                                  other   \n",
       "\n",
       "                  study_domain current_employed computer_home internet_home  \\\n",
       "commune_id                                                                    \n",
       "HT0111               ['item1']          unknown       unknown       unknown   \n",
       "HT0111               ['other']               No           Yes           Yes   \n",
       "HT0111               ['item1']               No           Yes           Yes   \n",
       "HT0111      ['item1', 'item6']               No           Yes           Yes   \n",
       "HT0111               ['other']               No           Yes           Yes   \n",
       "...                        ...              ...           ...           ...   \n",
       "HT0621               ['other']              Yes           Yes           Yes   \n",
       "HT0621               ['item8']              Yes           Yes           Yes   \n",
       "HT0621               ['item2']              Yes           Yes           Yes   \n",
       "HT0412               ['item1']               No           Yes           Yes   \n",
       "HT1012               ['other']               No           Yes           Yes   \n",
       "\n",
       "             hear_AA                              quest_id  \n",
       "commune_id                                                  \n",
       "HT0111       unknown  905dc006-ce95-11eb-b2f9-7c67a234f601  \n",
       "HT0111        Friend  905ddcf2-ce95-11eb-9a92-7c67a234f601  \n",
       "HT0111        Friend  905e2608-ce95-11eb-809f-7c67a234f601  \n",
       "HT0111          ESIH  905e4cf5-ce95-11eb-96a9-7c67a234f601  \n",
       "HT0111      WhatsApp  905e73fd-ce95-11eb-a7b0-7c67a234f601  \n",
       "...              ...                                   ...  \n",
       "HT0621      Facebook  906b3c84-ce95-11eb-8c2a-7c67a234f601  \n",
       "HT0621        Friend  906b3c85-ce95-11eb-9b87-7c67a234f601  \n",
       "HT0621        Friend  906b3c86-ce95-11eb-b6a7-7c67a234f601  \n",
       "HT0412      Facebook  906b65e2-ce95-11eb-8b5c-7c67a234f601  \n",
       "HT1012      Facebook  906b65e3-ce95-11eb-a294-7c67a234f601  \n",
       "\n",
       "[250 rows x 11 columns]"
      ],
      "text/html": "<div>\n<style scoped>\n    .dataframe tbody tr th:only-of-type {\n        vertical-align: middle;\n    }\n\n    .dataframe tbody tr th {\n        vertical-align: top;\n    }\n\n    .dataframe thead th {\n        text-align: right;\n    }\n</style>\n<table border=\"1\" class=\"dataframe\">\n  <thead>\n    <tr style=\"text-align: right;\">\n      <th></th>\n      <th>gender</th>\n      <th>dob</th>\n      <th>created_at</th>\n      <th>education_level</th>\n      <th>university</th>\n      <th>study_domain</th>\n      <th>current_employed</th>\n      <th>computer_home</th>\n      <th>internet_home</th>\n      <th>hear_AA</th>\n      <th>quest_id</th>\n    </tr>\n    <tr>\n      <th>commune_id</th>\n      <th></th>\n      <th></th>\n      <th></th>\n      <th></th>\n      <th></th>\n      <th></th>\n      <th></th>\n      <th></th>\n      <th></th>\n      <th></th>\n      <th></th>\n    </tr>\n  </thead>\n  <tbody>\n    <tr>\n      <td>HT0111</td>\n      <td>male</td>\n      <td>1998-08-25</td>\n      <td>2021-02-14</td>\n      <td>unknown</td>\n      <td>unknown</td>\n      <td>['item1']</td>\n      <td>unknown</td>\n      <td>unknown</td>\n      <td>unknown</td>\n      <td>unknown</td>\n      <td>905dc006-ce95-11eb-b2f9-7c67a234f601</td>\n    </tr>\n    <tr>\n      <td>HT0111</td>\n      <td>female</td>\n      <td>1996-09-29</td>\n      <td>2021-02-16</td>\n      <td>Bachelors (bacc +4)</td>\n      <td>other</td>\n      <td>['other']</td>\n      <td>No</td>\n      <td>Yes</td>\n      <td>Yes</td>\n      <td>Friend</td>\n      <td>905ddcf2-ce95-11eb-9a92-7c67a234f601</td>\n    </tr>\n    <tr>\n      <td>HT0111</td>\n      <td>male</td>\n      <td>1996-05-17</td>\n      <td>2021-02-16</td>\n      <td>Bachelors (bacc +4)</td>\n      <td>Université d'Etat d'Haïti (UEH)</td>\n      <td>['item1']</td>\n      <td>No</td>\n      <td>Yes</td>\n      <td>Yes</td>\n      <td>Friend</td>\n      <td>905e2608-ce95-11eb-809f-7c67a234f601</td>\n    </tr>\n    <tr>\n      <td>HT0111</td>\n      <td>male</td>\n      <td>1996-11-24</td>\n      <td>2021-02-16</td>\n      <td>Bachelors (bacc +4)</td>\n      <td>Ecole Supérieure d'Infotronique d'Haïti (ESIH)</td>\n      <td>['item1', 'item6']</td>\n      <td>No</td>\n      <td>Yes</td>\n      <td>Yes</td>\n      <td>ESIH</td>\n      <td>905e4cf5-ce95-11eb-96a9-7c67a234f601</td>\n    </tr>\n    <tr>\n      <td>HT0111</td>\n      <td>male</td>\n      <td>1997-07-20</td>\n      <td>2021-02-16</td>\n      <td>High School (16 years)</td>\n      <td>unknown</td>\n      <td>['other']</td>\n      <td>No</td>\n      <td>Yes</td>\n      <td>Yes</td>\n      <td>WhatsApp</td>\n      <td>905e73fd-ce95-11eb-a7b0-7c67a234f601</td>\n    </tr>\n    <tr>\n      <td>...</td>\n      <td>...</td>\n      <td>...</td>\n      <td>...</td>\n      <td>...</td>\n      <td>...</td>\n      <td>...</td>\n      <td>...</td>\n      <td>...</td>\n      <td>...</td>\n      <td>...</td>\n      <td>...</td>\n    </tr>\n    <tr>\n      <td>HT0621</td>\n      <td>male</td>\n      <td>1994-02-15</td>\n      <td>2021-03-02</td>\n      <td>Bachelors (bacc +4)</td>\n      <td>other</td>\n      <td>['other']</td>\n      <td>Yes</td>\n      <td>Yes</td>\n      <td>Yes</td>\n      <td>Facebook</td>\n      <td>906b3c84-ce95-11eb-8c2a-7c67a234f601</td>\n    </tr>\n    <tr>\n      <td>HT0621</td>\n      <td>male</td>\n      <td>1990-08-10</td>\n      <td>2021-03-10</td>\n      <td>Bachelors (bacc +4)</td>\n      <td>Université d'Etat d'Haïti (UEH)</td>\n      <td>['item8']</td>\n      <td>Yes</td>\n      <td>Yes</td>\n      <td>Yes</td>\n      <td>Friend</td>\n      <td>906b3c85-ce95-11eb-9b87-7c67a234f601</td>\n    </tr>\n    <tr>\n      <td>HT0621</td>\n      <td>male</td>\n      <td>1993-12-28</td>\n      <td>2021-03-14</td>\n      <td>Bachelors (bacc +4)</td>\n      <td>Centre de Techniques de Planification et d'Eco...</td>\n      <td>['item2']</td>\n      <td>Yes</td>\n      <td>Yes</td>\n      <td>Yes</td>\n      <td>Friend</td>\n      <td>906b3c86-ce95-11eb-b6a7-7c67a234f601</td>\n    </tr>\n    <tr>\n      <td>HT0412</td>\n      <td>male</td>\n      <td>1992-04-17</td>\n      <td>2021-03-08</td>\n      <td>Bachelors (bacc +4)</td>\n      <td>other</td>\n      <td>['item1']</td>\n      <td>No</td>\n      <td>Yes</td>\n      <td>Yes</td>\n      <td>Facebook</td>\n      <td>906b65e2-ce95-11eb-8b5c-7c67a234f601</td>\n    </tr>\n    <tr>\n      <td>HT1012</td>\n      <td>male</td>\n      <td>1993-07-22</td>\n      <td>2021-03-10</td>\n      <td>Masters</td>\n      <td>other</td>\n      <td>['other']</td>\n      <td>No</td>\n      <td>Yes</td>\n      <td>Yes</td>\n      <td>Facebook</td>\n      <td>906b65e3-ce95-11eb-a294-7c67a234f601</td>\n    </tr>\n  </tbody>\n</table>\n<p>250 rows × 11 columns</p>\n</div>"
     },
     "metadata": {},
     "execution_count": 435
    }
   ],
   "source": [
    "quest_data"
   ]
  },
  {
   "cell_type": "code",
   "execution_count": 402,
   "metadata": {},
   "outputs": [
    {
     "output_type": "stream",
     "name": "stdout",
     "text": [
      "False\n"
     ]
    }
   ],
   "source": [
    "check_null=quest_data.isnull().values.any()\n",
    "print(check_null)"
   ]
  },
  {
   "cell_type": "code",
   "execution_count": 403,
   "metadata": {},
   "outputs": [
    {
     "output_type": "execute_result",
     "data": {
      "text/plain": [
       "0"
      ]
     },
     "metadata": {},
     "execution_count": 403
    }
   ],
   "source": [
    "quest_data.duplicated().sum()"
   ]
  },
  {
   "cell_type": "code",
   "execution_count": 404,
   "metadata": {},
   "outputs": [
    {
     "output_type": "stream",
     "name": "stdout",
     "text": [
      "(250, 10)\n(140, 3)\n"
     ]
    }
   ],
   "source": [
    "# we know that column 'id' is unique, but what if we drop it?\n",
    "#df_dedupped = quest_data.drop('quest_id', axis=1).drop_duplicates()\n",
    "\n",
    "# there were duplicate rows\n",
    "print(quest_data.shape)\n",
    "print(commune_data.shape)"
   ]
  },
  {
   "cell_type": "code",
   "execution_count": 436,
   "metadata": {},
   "outputs": [],
   "source": [
    "dataset = pd.merge(left =commune_data,right=quest_data,how=\"inner\",on=\"commune_id\")"
   ]
  },
  {
   "cell_type": "code",
   "execution_count": 437,
   "metadata": {},
   "outputs": [
    {
     "output_type": "execute_result",
     "data": {
      "text/plain": [
       "                commune departement departement_id gender        dob  \\\n",
       "commune_id                                                             \n",
       "HT0731            Aquin       South           HT07   male 1995-12-05   \n",
       "HT0311      Cap-Haïtien       North           HT03   male 1995-09-16   \n",
       "HT0311      Cap-Haïtien       North           HT03   male 1987-04-19   \n",
       "HT0311      Cap-Haïtien       North           HT03   male 1991-09-08   \n",
       "HT0311      Cap-Haïtien       North           HT03   male 1987-02-22   \n",
       "...                 ...         ...            ...    ...        ...   \n",
       "HT0118          Tabarre        West           HT01   male 1988-09-17   \n",
       "HT0118          Tabarre        West           HT01   male 1997-11-23   \n",
       "HT0532        Verrettes  Artibonite           HT05   male 1980-12-04   \n",
       "HT0532        Verrettes  Artibonite           HT05   male 1984-01-22   \n",
       "HT0532        Verrettes  Artibonite           HT05   male 1985-03-28   \n",
       "\n",
       "            created_at      education_level  \\\n",
       "commune_id                                    \n",
       "HT0731      2021-02-16  Bachelors (bacc +4)   \n",
       "HT0311      2021-02-21  Bachelors (bacc +4)   \n",
       "HT0311      2021-02-21  Bachelors (bacc +4)   \n",
       "HT0311      2021-03-03                Other   \n",
       "HT0311      2021-03-05  Bachelors (bacc +4)   \n",
       "...                ...                  ...   \n",
       "HT0118      2021-03-07  Bachelors (bacc +4)   \n",
       "HT0118      2021-03-09  Bachelors (bacc +4)   \n",
       "HT0532      2021-02-21                Other   \n",
       "HT0532      2021-02-22                Other   \n",
       "HT0532      2021-03-04  Bachelors (bacc +4)   \n",
       "\n",
       "                                                   university  \\\n",
       "commune_id                                                      \n",
       "HT0731         Ecole Supérieure d'Infotronique d'Haïti (ESIH)   \n",
       "HT0311                        Université d'Etat d'Haïti (UEH)   \n",
       "HT0311                        Université d'Etat d'Haïti (UEH)   \n",
       "HT0311                                                unknown   \n",
       "HT0311                        Université d'Etat d'Haïti (UEH)   \n",
       "...                                                       ...   \n",
       "HT0118                                                unknown   \n",
       "HT0118      Centre de Techniques de Planification et d'Eco...   \n",
       "HT0532                                                unknown   \n",
       "HT0532                                                unknown   \n",
       "HT0532                                                  other   \n",
       "\n",
       "                  study_domain current_employed computer_home internet_home  \\\n",
       "commune_id                                                                    \n",
       "HT0731      ['item6', 'item1']               No           Yes           Yes   \n",
       "HT0311               ['other']              Yes           Yes           Yes   \n",
       "HT0311               ['item1']               No           Yes            No   \n",
       "HT0311               ['item7']               No           Yes            No   \n",
       "HT0311      ['item7', 'other']               No           Yes           Yes   \n",
       "...                        ...              ...           ...           ...   \n",
       "HT0118      ['item6', 'item3']               No           Yes            No   \n",
       "HT0118      ['item2', 'item3']               No           Yes           Yes   \n",
       "HT0532      ['item1', 'item7']              Yes           Yes           Yes   \n",
       "HT0532               ['item1']              Yes           Yes           Yes   \n",
       "HT0532               ['item1']              Yes           Yes           Yes   \n",
       "\n",
       "             hear_AA                              quest_id  \n",
       "commune_id                                                  \n",
       "HT0731        Friend  9069789e-ce95-11eb-883e-7c67a234f601  \n",
       "HT0311      Facebook  906a79ae-ce95-11eb-98c3-7c67a234f601  \n",
       "HT0311        Friend  906a79af-ce95-11eb-bd36-7c67a234f601  \n",
       "HT0311      Facebook  906aa0a0-ce95-11eb-8355-7c67a234f601  \n",
       "HT0311      Facebook  906aa0a1-ce95-11eb-899e-7c67a234f601  \n",
       "...              ...                                   ...  \n",
       "HT0118      LinkedIn  9066879b-ce95-11eb-9d4a-7c67a234f601  \n",
       "HT0118      WhatsApp  9066abb5-ce95-11eb-aa16-7c67a234f601  \n",
       "HT0532      WhatsApp  906a52b7-ce95-11eb-9c4b-7c67a234f601  \n",
       "HT0532      WhatsApp  906a79ab-ce95-11eb-a1b8-7c67a234f601  \n",
       "HT0532        Friend  906a79ac-ce95-11eb-9f8a-7c67a234f601  \n",
       "\n",
       "[250 rows x 14 columns]"
      ],
      "text/html": "<div>\n<style scoped>\n    .dataframe tbody tr th:only-of-type {\n        vertical-align: middle;\n    }\n\n    .dataframe tbody tr th {\n        vertical-align: top;\n    }\n\n    .dataframe thead th {\n        text-align: right;\n    }\n</style>\n<table border=\"1\" class=\"dataframe\">\n  <thead>\n    <tr style=\"text-align: right;\">\n      <th></th>\n      <th>commune</th>\n      <th>departement</th>\n      <th>departement_id</th>\n      <th>gender</th>\n      <th>dob</th>\n      <th>created_at</th>\n      <th>education_level</th>\n      <th>university</th>\n      <th>study_domain</th>\n      <th>current_employed</th>\n      <th>computer_home</th>\n      <th>internet_home</th>\n      <th>hear_AA</th>\n      <th>quest_id</th>\n    </tr>\n    <tr>\n      <th>commune_id</th>\n      <th></th>\n      <th></th>\n      <th></th>\n      <th></th>\n      <th></th>\n      <th></th>\n      <th></th>\n      <th></th>\n      <th></th>\n      <th></th>\n      <th></th>\n      <th></th>\n      <th></th>\n      <th></th>\n    </tr>\n  </thead>\n  <tbody>\n    <tr>\n      <td>HT0731</td>\n      <td>Aquin</td>\n      <td>South</td>\n      <td>HT07</td>\n      <td>male</td>\n      <td>1995-12-05</td>\n      <td>2021-02-16</td>\n      <td>Bachelors (bacc +4)</td>\n      <td>Ecole Supérieure d'Infotronique d'Haïti (ESIH)</td>\n      <td>['item6', 'item1']</td>\n      <td>No</td>\n      <td>Yes</td>\n      <td>Yes</td>\n      <td>Friend</td>\n      <td>9069789e-ce95-11eb-883e-7c67a234f601</td>\n    </tr>\n    <tr>\n      <td>HT0311</td>\n      <td>Cap-Haïtien</td>\n      <td>North</td>\n      <td>HT03</td>\n      <td>male</td>\n      <td>1995-09-16</td>\n      <td>2021-02-21</td>\n      <td>Bachelors (bacc +4)</td>\n      <td>Université d'Etat d'Haïti (UEH)</td>\n      <td>['other']</td>\n      <td>Yes</td>\n      <td>Yes</td>\n      <td>Yes</td>\n      <td>Facebook</td>\n      <td>906a79ae-ce95-11eb-98c3-7c67a234f601</td>\n    </tr>\n    <tr>\n      <td>HT0311</td>\n      <td>Cap-Haïtien</td>\n      <td>North</td>\n      <td>HT03</td>\n      <td>male</td>\n      <td>1987-04-19</td>\n      <td>2021-02-21</td>\n      <td>Bachelors (bacc +4)</td>\n      <td>Université d'Etat d'Haïti (UEH)</td>\n      <td>['item1']</td>\n      <td>No</td>\n      <td>Yes</td>\n      <td>No</td>\n      <td>Friend</td>\n      <td>906a79af-ce95-11eb-bd36-7c67a234f601</td>\n    </tr>\n    <tr>\n      <td>HT0311</td>\n      <td>Cap-Haïtien</td>\n      <td>North</td>\n      <td>HT03</td>\n      <td>male</td>\n      <td>1991-09-08</td>\n      <td>2021-03-03</td>\n      <td>Other</td>\n      <td>unknown</td>\n      <td>['item7']</td>\n      <td>No</td>\n      <td>Yes</td>\n      <td>No</td>\n      <td>Facebook</td>\n      <td>906aa0a0-ce95-11eb-8355-7c67a234f601</td>\n    </tr>\n    <tr>\n      <td>HT0311</td>\n      <td>Cap-Haïtien</td>\n      <td>North</td>\n      <td>HT03</td>\n      <td>male</td>\n      <td>1987-02-22</td>\n      <td>2021-03-05</td>\n      <td>Bachelors (bacc +4)</td>\n      <td>Université d'Etat d'Haïti (UEH)</td>\n      <td>['item7', 'other']</td>\n      <td>No</td>\n      <td>Yes</td>\n      <td>Yes</td>\n      <td>Facebook</td>\n      <td>906aa0a1-ce95-11eb-899e-7c67a234f601</td>\n    </tr>\n    <tr>\n      <td>...</td>\n      <td>...</td>\n      <td>...</td>\n      <td>...</td>\n      <td>...</td>\n      <td>...</td>\n      <td>...</td>\n      <td>...</td>\n      <td>...</td>\n      <td>...</td>\n      <td>...</td>\n      <td>...</td>\n      <td>...</td>\n      <td>...</td>\n      <td>...</td>\n    </tr>\n    <tr>\n      <td>HT0118</td>\n      <td>Tabarre</td>\n      <td>West</td>\n      <td>HT01</td>\n      <td>male</td>\n      <td>1988-09-17</td>\n      <td>2021-03-07</td>\n      <td>Bachelors (bacc +4)</td>\n      <td>unknown</td>\n      <td>['item6', 'item3']</td>\n      <td>No</td>\n      <td>Yes</td>\n      <td>No</td>\n      <td>LinkedIn</td>\n      <td>9066879b-ce95-11eb-9d4a-7c67a234f601</td>\n    </tr>\n    <tr>\n      <td>HT0118</td>\n      <td>Tabarre</td>\n      <td>West</td>\n      <td>HT01</td>\n      <td>male</td>\n      <td>1997-11-23</td>\n      <td>2021-03-09</td>\n      <td>Bachelors (bacc +4)</td>\n      <td>Centre de Techniques de Planification et d'Eco...</td>\n      <td>['item2', 'item3']</td>\n      <td>No</td>\n      <td>Yes</td>\n      <td>Yes</td>\n      <td>WhatsApp</td>\n      <td>9066abb5-ce95-11eb-aa16-7c67a234f601</td>\n    </tr>\n    <tr>\n      <td>HT0532</td>\n      <td>Verrettes</td>\n      <td>Artibonite</td>\n      <td>HT05</td>\n      <td>male</td>\n      <td>1980-12-04</td>\n      <td>2021-02-21</td>\n      <td>Other</td>\n      <td>unknown</td>\n      <td>['item1', 'item7']</td>\n      <td>Yes</td>\n      <td>Yes</td>\n      <td>Yes</td>\n      <td>WhatsApp</td>\n      <td>906a52b7-ce95-11eb-9c4b-7c67a234f601</td>\n    </tr>\n    <tr>\n      <td>HT0532</td>\n      <td>Verrettes</td>\n      <td>Artibonite</td>\n      <td>HT05</td>\n      <td>male</td>\n      <td>1984-01-22</td>\n      <td>2021-02-22</td>\n      <td>Other</td>\n      <td>unknown</td>\n      <td>['item1']</td>\n      <td>Yes</td>\n      <td>Yes</td>\n      <td>Yes</td>\n      <td>WhatsApp</td>\n      <td>906a79ab-ce95-11eb-a1b8-7c67a234f601</td>\n    </tr>\n    <tr>\n      <td>HT0532</td>\n      <td>Verrettes</td>\n      <td>Artibonite</td>\n      <td>HT05</td>\n      <td>male</td>\n      <td>1985-03-28</td>\n      <td>2021-03-04</td>\n      <td>Bachelors (bacc +4)</td>\n      <td>other</td>\n      <td>['item1']</td>\n      <td>Yes</td>\n      <td>Yes</td>\n      <td>Yes</td>\n      <td>Friend</td>\n      <td>906a79ac-ce95-11eb-9f8a-7c67a234f601</td>\n    </tr>\n  </tbody>\n</table>\n<p>250 rows × 14 columns</p>\n</div>"
     },
     "metadata": {},
     "execution_count": 437
    }
   ],
   "source": [
    "dataset"
   ]
  },
  {
   "cell_type": "code",
   "execution_count": 438,
   "metadata": {},
   "outputs": [
    {
     "output_type": "execute_result",
     "data": {
      "text/plain": [
       "(250, 14)"
      ]
     },
     "metadata": {},
     "execution_count": 438
    }
   ],
   "source": [
    "dataset.isna().sum()\n",
    "dataset.shape"
   ]
  },
  {
   "cell_type": "code",
   "execution_count": 408,
   "metadata": {},
   "outputs": [],
   "source": [
    "#study_domain_path=\"study_domain.csv\"\n",
    "#study_domain_data=pd.read_csv(study_domain_path, index_col=0)\n",
    "#study_domain_data.drop(columns='key', inplace=True)\n",
    "#study_domain_cols=['key','study_domain','quest_id']\n",
    "#study_domain_data.columns=study_domain_cols\n",
    "#study_domain_data=study_domain_data.set_index('quest_id')\n",
    "#study_domain_data"
   ]
  },
  {
   "cell_type": "code",
   "execution_count": 409,
   "metadata": {},
   "outputs": [],
   "source": [
    "#vartest=study_domain_data['quest_id'].value_counts()\n",
    "#vartest.head(25)"
   ]
  },
  {
   "cell_type": "code",
   "execution_count": 315,
   "metadata": {},
   "outputs": [],
   "source": [
    "#Extract each values of \"Study_domain\" and place them into a separate Columns before Merge\n",
    "# study_domain_data = pd.get_dummies(data=study_domain_data[[\"quest_id\",\"key\", \"study_domain\"]], columns=['study_domain'], prefix=\"\",prefix_sep=\"\")\n",
    "# study_domain_data = study_domain_data.groupby(\"quest_id\").sum()\n"
   ]
  },
  {
   "cell_type": "code",
   "execution_count": 410,
   "metadata": {},
   "outputs": [],
   "source": [
    "#study_domain_data"
   ]
  },
  {
   "cell_type": "code",
   "execution_count": 411,
   "metadata": {},
   "outputs": [],
   "source": [
    "#dataset.set_index('quest_id')"
   ]
  },
  {
   "cell_type": "code",
   "execution_count": 391,
   "metadata": {},
   "outputs": [],
   "source": [
    "# dataset = pd.merge(left =dataset,right=study_domain_data,how=\"inner\",on=\"quest_id\")"
   ]
  },
  {
   "cell_type": "code",
   "execution_count": 412,
   "metadata": {},
   "outputs": [],
   "source": [
    "# dataset"
   ]
  },
  {
   "cell_type": "code",
   "execution_count": 413,
   "metadata": {},
   "outputs": [],
   "source": [
    "#dataset.set_index('quest_id')"
   ]
  },
  {
   "cell_type": "code",
   "execution_count": 414,
   "metadata": {},
   "outputs": [],
   "source": [
    "# technology_path='technology.csv'\n",
    "# technology_data=pd.read_csv(technology_path, index_col=0)\n",
    "# #technology_data.drop(columns='key', inplace=True)\n",
    "# technology_cols=[\"key\", 'technology', 'quest_id']\n",
    "# technology_data.columns=technology_cols\n",
    "# #technology_data=technology_data.set_index('quest_id')\n",
    "# technology_data"
   ]
  },
  {
   "cell_type": "code",
   "execution_count": 415,
   "metadata": {},
   "outputs": [],
   "source": [
    "# #Extract each values of \"Study_domain\" and place them into a separate Columns before Merge\n",
    "# technology_data = pd.get_dummies(data=technology_data[[\"quest_id\",\"key\", \"technology\"]], columns=['technology'], prefix=\"\",prefix_sep=\"\")\n",
    "# technology_data = technology_data.groupby(\"quest_id\").sum()"
   ]
  },
  {
   "cell_type": "code",
   "execution_count": 416,
   "metadata": {},
   "outputs": [],
   "source": [
    "# dataset = pd.merge(left =dataset,right=technology_data,how=\"inner\",on=\"quest_id\")"
   ]
  },
  {
   "cell_type": "code",
   "execution_count": 451,
   "metadata": {},
   "outputs": [
    {
     "output_type": "execute_result",
     "data": {
      "text/plain": [
       "                commune departement departement_id gender        dob  \\\n",
       "commune_id                                                             \n",
       "HT0731            Aquin       South           HT07   male 1995-12-05   \n",
       "HT0311      Cap-Haïtien       North           HT03   male 1995-09-16   \n",
       "HT0311      Cap-Haïtien       North           HT03   male 1987-04-19   \n",
       "HT0311      Cap-Haïtien       North           HT03   male 1991-09-08   \n",
       "HT0311      Cap-Haïtien       North           HT03   male 1987-02-22   \n",
       "...                 ...         ...            ...    ...        ...   \n",
       "HT0118          Tabarre        West           HT01   male 1988-09-17   \n",
       "HT0118          Tabarre        West           HT01   male 1997-11-23   \n",
       "HT0532        Verrettes  Artibonite           HT05   male 1980-12-04   \n",
       "HT0532        Verrettes  Artibonite           HT05   male 1984-01-22   \n",
       "HT0532        Verrettes  Artibonite           HT05   male 1985-03-28   \n",
       "\n",
       "            created_at      education_level  \\\n",
       "commune_id                                    \n",
       "HT0731      2021-02-16  Bachelors (bacc +4)   \n",
       "HT0311      2021-02-21  Bachelors (bacc +4)   \n",
       "HT0311      2021-02-21  Bachelors (bacc +4)   \n",
       "HT0311      2021-03-03                Other   \n",
       "HT0311      2021-03-05  Bachelors (bacc +4)   \n",
       "...                ...                  ...   \n",
       "HT0118      2021-03-07  Bachelors (bacc +4)   \n",
       "HT0118      2021-03-09  Bachelors (bacc +4)   \n",
       "HT0532      2021-02-21                Other   \n",
       "HT0532      2021-02-22                Other   \n",
       "HT0532      2021-03-04  Bachelors (bacc +4)   \n",
       "\n",
       "                                                   university  \\\n",
       "commune_id                                                      \n",
       "HT0731         Ecole Supérieure d'Infotronique d'Haïti (ESIH)   \n",
       "HT0311                        Université d'Etat d'Haïti (UEH)   \n",
       "HT0311                        Université d'Etat d'Haïti (UEH)   \n",
       "HT0311                                                unknown   \n",
       "HT0311                        Université d'Etat d'Haïti (UEH)   \n",
       "...                                                       ...   \n",
       "HT0118                                                unknown   \n",
       "HT0118      Centre de Techniques de Planification et d'Eco...   \n",
       "HT0532                                                unknown   \n",
       "HT0532                                                unknown   \n",
       "HT0532                                                  other   \n",
       "\n",
       "                  study_domain current_employed computer_home internet_home  \\\n",
       "commune_id                                                                    \n",
       "HT0731      ['item6', 'item1']               No           Yes           Yes   \n",
       "HT0311               ['other']              Yes           Yes           Yes   \n",
       "HT0311               ['item1']               No           Yes            No   \n",
       "HT0311               ['item7']               No           Yes            No   \n",
       "HT0311      ['item7', 'other']               No           Yes           Yes   \n",
       "...                        ...              ...           ...           ...   \n",
       "HT0118      ['item6', 'item3']               No           Yes            No   \n",
       "HT0118      ['item2', 'item3']               No           Yes           Yes   \n",
       "HT0532      ['item1', 'item7']              Yes           Yes           Yes   \n",
       "HT0532               ['item1']              Yes           Yes           Yes   \n",
       "HT0532               ['item1']              Yes           Yes           Yes   \n",
       "\n",
       "             hear_AA                              quest_id  \n",
       "commune_id                                                  \n",
       "HT0731        Friend  9069789e-ce95-11eb-883e-7c67a234f601  \n",
       "HT0311      Facebook  906a79ae-ce95-11eb-98c3-7c67a234f601  \n",
       "HT0311        Friend  906a79af-ce95-11eb-bd36-7c67a234f601  \n",
       "HT0311      Facebook  906aa0a0-ce95-11eb-8355-7c67a234f601  \n",
       "HT0311      Facebook  906aa0a1-ce95-11eb-899e-7c67a234f601  \n",
       "...              ...                                   ...  \n",
       "HT0118      LinkedIn  9066879b-ce95-11eb-9d4a-7c67a234f601  \n",
       "HT0118      WhatsApp  9066abb5-ce95-11eb-aa16-7c67a234f601  \n",
       "HT0532      WhatsApp  906a52b7-ce95-11eb-9c4b-7c67a234f601  \n",
       "HT0532      WhatsApp  906a79ab-ce95-11eb-a1b8-7c67a234f601  \n",
       "HT0532        Friend  906a79ac-ce95-11eb-9f8a-7c67a234f601  \n",
       "\n",
       "[250 rows x 14 columns]"
      ],
      "text/html": "<div>\n<style scoped>\n    .dataframe tbody tr th:only-of-type {\n        vertical-align: middle;\n    }\n\n    .dataframe tbody tr th {\n        vertical-align: top;\n    }\n\n    .dataframe thead th {\n        text-align: right;\n    }\n</style>\n<table border=\"1\" class=\"dataframe\">\n  <thead>\n    <tr style=\"text-align: right;\">\n      <th></th>\n      <th>commune</th>\n      <th>departement</th>\n      <th>departement_id</th>\n      <th>gender</th>\n      <th>dob</th>\n      <th>created_at</th>\n      <th>education_level</th>\n      <th>university</th>\n      <th>study_domain</th>\n      <th>current_employed</th>\n      <th>computer_home</th>\n      <th>internet_home</th>\n      <th>hear_AA</th>\n      <th>quest_id</th>\n    </tr>\n    <tr>\n      <th>commune_id</th>\n      <th></th>\n      <th></th>\n      <th></th>\n      <th></th>\n      <th></th>\n      <th></th>\n      <th></th>\n      <th></th>\n      <th></th>\n      <th></th>\n      <th></th>\n      <th></th>\n      <th></th>\n      <th></th>\n    </tr>\n  </thead>\n  <tbody>\n    <tr>\n      <td>HT0731</td>\n      <td>Aquin</td>\n      <td>South</td>\n      <td>HT07</td>\n      <td>male</td>\n      <td>1995-12-05</td>\n      <td>2021-02-16</td>\n      <td>Bachelors (bacc +4)</td>\n      <td>Ecole Supérieure d'Infotronique d'Haïti (ESIH)</td>\n      <td>['item6', 'item1']</td>\n      <td>No</td>\n      <td>Yes</td>\n      <td>Yes</td>\n      <td>Friend</td>\n      <td>9069789e-ce95-11eb-883e-7c67a234f601</td>\n    </tr>\n    <tr>\n      <td>HT0311</td>\n      <td>Cap-Haïtien</td>\n      <td>North</td>\n      <td>HT03</td>\n      <td>male</td>\n      <td>1995-09-16</td>\n      <td>2021-02-21</td>\n      <td>Bachelors (bacc +4)</td>\n      <td>Université d'Etat d'Haïti (UEH)</td>\n      <td>['other']</td>\n      <td>Yes</td>\n      <td>Yes</td>\n      <td>Yes</td>\n      <td>Facebook</td>\n      <td>906a79ae-ce95-11eb-98c3-7c67a234f601</td>\n    </tr>\n    <tr>\n      <td>HT0311</td>\n      <td>Cap-Haïtien</td>\n      <td>North</td>\n      <td>HT03</td>\n      <td>male</td>\n      <td>1987-04-19</td>\n      <td>2021-02-21</td>\n      <td>Bachelors (bacc +4)</td>\n      <td>Université d'Etat d'Haïti (UEH)</td>\n      <td>['item1']</td>\n      <td>No</td>\n      <td>Yes</td>\n      <td>No</td>\n      <td>Friend</td>\n      <td>906a79af-ce95-11eb-bd36-7c67a234f601</td>\n    </tr>\n    <tr>\n      <td>HT0311</td>\n      <td>Cap-Haïtien</td>\n      <td>North</td>\n      <td>HT03</td>\n      <td>male</td>\n      <td>1991-09-08</td>\n      <td>2021-03-03</td>\n      <td>Other</td>\n      <td>unknown</td>\n      <td>['item7']</td>\n      <td>No</td>\n      <td>Yes</td>\n      <td>No</td>\n      <td>Facebook</td>\n      <td>906aa0a0-ce95-11eb-8355-7c67a234f601</td>\n    </tr>\n    <tr>\n      <td>HT0311</td>\n      <td>Cap-Haïtien</td>\n      <td>North</td>\n      <td>HT03</td>\n      <td>male</td>\n      <td>1987-02-22</td>\n      <td>2021-03-05</td>\n      <td>Bachelors (bacc +4)</td>\n      <td>Université d'Etat d'Haïti (UEH)</td>\n      <td>['item7', 'other']</td>\n      <td>No</td>\n      <td>Yes</td>\n      <td>Yes</td>\n      <td>Facebook</td>\n      <td>906aa0a1-ce95-11eb-899e-7c67a234f601</td>\n    </tr>\n    <tr>\n      <td>...</td>\n      <td>...</td>\n      <td>...</td>\n      <td>...</td>\n      <td>...</td>\n      <td>...</td>\n      <td>...</td>\n      <td>...</td>\n      <td>...</td>\n      <td>...</td>\n      <td>...</td>\n      <td>...</td>\n      <td>...</td>\n      <td>...</td>\n      <td>...</td>\n    </tr>\n    <tr>\n      <td>HT0118</td>\n      <td>Tabarre</td>\n      <td>West</td>\n      <td>HT01</td>\n      <td>male</td>\n      <td>1988-09-17</td>\n      <td>2021-03-07</td>\n      <td>Bachelors (bacc +4)</td>\n      <td>unknown</td>\n      <td>['item6', 'item3']</td>\n      <td>No</td>\n      <td>Yes</td>\n      <td>No</td>\n      <td>LinkedIn</td>\n      <td>9066879b-ce95-11eb-9d4a-7c67a234f601</td>\n    </tr>\n    <tr>\n      <td>HT0118</td>\n      <td>Tabarre</td>\n      <td>West</td>\n      <td>HT01</td>\n      <td>male</td>\n      <td>1997-11-23</td>\n      <td>2021-03-09</td>\n      <td>Bachelors (bacc +4)</td>\n      <td>Centre de Techniques de Planification et d'Eco...</td>\n      <td>['item2', 'item3']</td>\n      <td>No</td>\n      <td>Yes</td>\n      <td>Yes</td>\n      <td>WhatsApp</td>\n      <td>9066abb5-ce95-11eb-aa16-7c67a234f601</td>\n    </tr>\n    <tr>\n      <td>HT0532</td>\n      <td>Verrettes</td>\n      <td>Artibonite</td>\n      <td>HT05</td>\n      <td>male</td>\n      <td>1980-12-04</td>\n      <td>2021-02-21</td>\n      <td>Other</td>\n      <td>unknown</td>\n      <td>['item1', 'item7']</td>\n      <td>Yes</td>\n      <td>Yes</td>\n      <td>Yes</td>\n      <td>WhatsApp</td>\n      <td>906a52b7-ce95-11eb-9c4b-7c67a234f601</td>\n    </tr>\n    <tr>\n      <td>HT0532</td>\n      <td>Verrettes</td>\n      <td>Artibonite</td>\n      <td>HT05</td>\n      <td>male</td>\n      <td>1984-01-22</td>\n      <td>2021-02-22</td>\n      <td>Other</td>\n      <td>unknown</td>\n      <td>['item1']</td>\n      <td>Yes</td>\n      <td>Yes</td>\n      <td>Yes</td>\n      <td>WhatsApp</td>\n      <td>906a79ab-ce95-11eb-a1b8-7c67a234f601</td>\n    </tr>\n    <tr>\n      <td>HT0532</td>\n      <td>Verrettes</td>\n      <td>Artibonite</td>\n      <td>HT05</td>\n      <td>male</td>\n      <td>1985-03-28</td>\n      <td>2021-03-04</td>\n      <td>Bachelors (bacc +4)</td>\n      <td>other</td>\n      <td>['item1']</td>\n      <td>Yes</td>\n      <td>Yes</td>\n      <td>Yes</td>\n      <td>Friend</td>\n      <td>906a79ac-ce95-11eb-9f8a-7c67a234f601</td>\n    </tr>\n  </tbody>\n</table>\n<p>250 rows × 14 columns</p>\n</div>"
     },
     "metadata": {},
     "execution_count": 451
    }
   ],
   "source": [
    "dataset"
   ]
  },
  {
   "cell_type": "code",
   "execution_count": 418,
   "metadata": {},
   "outputs": [],
   "source": [
    "#dataset.set_index('quest_id')"
   ]
  },
  {
   "cell_type": "code",
   "execution_count": 440,
   "metadata": {},
   "outputs": [
    {
     "output_type": "stream",
     "name": "stdout",
     "text": [
      "<class 'pandas.core.frame.DataFrame'>\nIndex: 250 entries, HT0731 to HT0532\nData columns (total 14 columns):\ncommune             250 non-null object\ndepartement         250 non-null object\ndepartement_id      250 non-null object\ngender              250 non-null object\ndob                 250 non-null datetime64[ns]\ncreated_at          250 non-null object\neducation_level     250 non-null object\nuniversity          250 non-null object\nstudy_domain        250 non-null object\ncurrent_employed    250 non-null object\ncomputer_home       250 non-null object\ninternet_home       250 non-null object\nhear_AA             250 non-null object\nquest_id            250 non-null object\ndtypes: datetime64[ns](1), object(13)\nmemory usage: 29.3+ KB\n"
     ]
    }
   ],
   "source": [
    "dataset.info()"
   ]
  },
  {
   "cell_type": "code",
   "execution_count": 442,
   "metadata": {},
   "outputs": [
    {
     "output_type": "execute_result",
     "data": {
      "text/plain": [
       "       commune departement departement_id gender  \\\n",
       "count      250         250            250    250   \n",
       "unique      35           9              9      2   \n",
       "top     Delmas        West           HT01   male   \n",
       "freq        71         214            214    203   \n",
       "first      NaN         NaN            NaN    NaN   \n",
       "last       NaN         NaN            NaN    NaN   \n",
       "\n",
       "                                  dob  created_at      education_level  \\\n",
       "count                             250         250                  250   \n",
       "unique                            237          28                    6   \n",
       "top     1994-03-13 18:05:54.098360704  2021-02-17  Bachelors (bacc +4)   \n",
       "freq                                6          41                  148   \n",
       "first             1970-07-12 00:00:00         NaN                  NaN   \n",
       "last              2021-08-14 00:00:00         NaN                  NaN   \n",
       "\n",
       "       university study_domain current_employed computer_home internet_home  \\\n",
       "count         250          250              250           250           250   \n",
       "unique          7           30                3             3             3   \n",
       "top       unknown    ['item1']               No           Yes           Yes   \n",
       "freq           95           86              180           234           210   \n",
       "first         NaN          NaN              NaN           NaN           NaN   \n",
       "last          NaN          NaN              NaN           NaN           NaN   \n",
       "\n",
       "       hear_AA                              quest_id  \n",
       "count      250                                   250  \n",
       "unique      10                                   250  \n",
       "top     Friend  90652a93-ce95-11eb-a8af-7c67a234f601  \n",
       "freq        67                                     1  \n",
       "first      NaN                                   NaN  \n",
       "last       NaN                                   NaN  "
      ],
      "text/html": "<div>\n<style scoped>\n    .dataframe tbody tr th:only-of-type {\n        vertical-align: middle;\n    }\n\n    .dataframe tbody tr th {\n        vertical-align: top;\n    }\n\n    .dataframe thead th {\n        text-align: right;\n    }\n</style>\n<table border=\"1\" class=\"dataframe\">\n  <thead>\n    <tr style=\"text-align: right;\">\n      <th></th>\n      <th>commune</th>\n      <th>departement</th>\n      <th>departement_id</th>\n      <th>gender</th>\n      <th>dob</th>\n      <th>created_at</th>\n      <th>education_level</th>\n      <th>university</th>\n      <th>study_domain</th>\n      <th>current_employed</th>\n      <th>computer_home</th>\n      <th>internet_home</th>\n      <th>hear_AA</th>\n      <th>quest_id</th>\n    </tr>\n  </thead>\n  <tbody>\n    <tr>\n      <td>count</td>\n      <td>250</td>\n      <td>250</td>\n      <td>250</td>\n      <td>250</td>\n      <td>250</td>\n      <td>250</td>\n      <td>250</td>\n      <td>250</td>\n      <td>250</td>\n      <td>250</td>\n      <td>250</td>\n      <td>250</td>\n      <td>250</td>\n      <td>250</td>\n    </tr>\n    <tr>\n      <td>unique</td>\n      <td>35</td>\n      <td>9</td>\n      <td>9</td>\n      <td>2</td>\n      <td>237</td>\n      <td>28</td>\n      <td>6</td>\n      <td>7</td>\n      <td>30</td>\n      <td>3</td>\n      <td>3</td>\n      <td>3</td>\n      <td>10</td>\n      <td>250</td>\n    </tr>\n    <tr>\n      <td>top</td>\n      <td>Delmas</td>\n      <td>West</td>\n      <td>HT01</td>\n      <td>male</td>\n      <td>1994-03-13 18:05:54.098360704</td>\n      <td>2021-02-17</td>\n      <td>Bachelors (bacc +4)</td>\n      <td>unknown</td>\n      <td>['item1']</td>\n      <td>No</td>\n      <td>Yes</td>\n      <td>Yes</td>\n      <td>Friend</td>\n      <td>90652a93-ce95-11eb-a8af-7c67a234f601</td>\n    </tr>\n    <tr>\n      <td>freq</td>\n      <td>71</td>\n      <td>214</td>\n      <td>214</td>\n      <td>203</td>\n      <td>6</td>\n      <td>41</td>\n      <td>148</td>\n      <td>95</td>\n      <td>86</td>\n      <td>180</td>\n      <td>234</td>\n      <td>210</td>\n      <td>67</td>\n      <td>1</td>\n    </tr>\n    <tr>\n      <td>first</td>\n      <td>NaN</td>\n      <td>NaN</td>\n      <td>NaN</td>\n      <td>NaN</td>\n      <td>1970-07-12 00:00:00</td>\n      <td>NaN</td>\n      <td>NaN</td>\n      <td>NaN</td>\n      <td>NaN</td>\n      <td>NaN</td>\n      <td>NaN</td>\n      <td>NaN</td>\n      <td>NaN</td>\n      <td>NaN</td>\n    </tr>\n    <tr>\n      <td>last</td>\n      <td>NaN</td>\n      <td>NaN</td>\n      <td>NaN</td>\n      <td>NaN</td>\n      <td>2021-08-14 00:00:00</td>\n      <td>NaN</td>\n      <td>NaN</td>\n      <td>NaN</td>\n      <td>NaN</td>\n      <td>NaN</td>\n      <td>NaN</td>\n      <td>NaN</td>\n      <td>NaN</td>\n      <td>NaN</td>\n    </tr>\n  </tbody>\n</table>\n</div>"
     },
     "metadata": {},
     "execution_count": 442
    }
   ],
   "source": [
    "dataset.describe()"
   ]
  },
  {
   "cell_type": "code",
   "execution_count": 1,
   "metadata": {},
   "outputs": [
    {
     "output_type": "error",
     "ename": "NameError",
     "evalue": "name 'dataset' is not defined",
     "traceback": [
      "\u001b[1;31m---------------------------------------------------------------------------\u001b[0m",
      "\u001b[1;31mNameError\u001b[0m                                 Traceback (most recent call last)",
      "\u001b[1;32m<ipython-input-1-1316e529737a>\u001b[0m in \u001b[0;36m<module>\u001b[1;34m\u001b[0m\n\u001b[0;32m      3\u001b[0m    \u001b[1;32mreturn\u001b[0m \u001b[0mresult\u001b[0m\u001b[1;33m[\u001b[0m\u001b[0mresult\u001b[0m\u001b[1;33m>\u001b[0m\u001b[1;36m0.0\u001b[0m\u001b[1;33m]\u001b[0m\u001b[1;33m\u001b[0m\u001b[1;33m\u001b[0m\u001b[0m\n\u001b[0;32m      4\u001b[0m \u001b[1;33m\u001b[0m\u001b[0m\n\u001b[1;32m----> 5\u001b[1;33m \u001b[0mpercent_colunm_null_values\u001b[0m\u001b[1;33m(\u001b[0m\u001b[0mdata\u001b[0m\u001b[1;33m=\u001b[0m\u001b[0mdataset\u001b[0m\u001b[1;33m)\u001b[0m\u001b[1;33m\u001b[0m\u001b[1;33m\u001b[0m\u001b[0m\n\u001b[0m",
      "\u001b[1;31mNameError\u001b[0m: name 'dataset' is not defined"
     ]
    }
   ],
   "source": [
    "def percent_colunm_null_values(data):\n",
    "   result =  data.isna().sum()/data.shape[0]\n",
    "   return result[result>0.0]\n",
    "\n",
    "percent_colunm_null_values(data=dataset)"
   ]
  },
  {
   "cell_type": "code",
   "execution_count": 444,
   "metadata": {},
   "outputs": [
    {
     "output_type": "execute_result",
     "data": {
      "text/plain": [
       "male      203\n",
       "female     47\n",
       "Name: gender, dtype: int64"
      ]
     },
     "metadata": {},
     "execution_count": 444
    }
   ],
   "source": [
    "dataset['gender'].value_counts()"
   ]
  },
  {
   "cell_type": "code",
   "execution_count": 448,
   "metadata": {},
   "outputs": [
    {
     "output_type": "execute_result",
     "data": {
      "text/plain": [
       "188.0"
      ]
     },
     "metadata": {},
     "execution_count": 448
    }
   ],
   "source": [
    "prob_female =  dataset[dataset.gender == \"female\"].shape[0] / 0.25\n",
    "prob_female"
   ]
  },
  {
   "cell_type": "code",
   "execution_count": 449,
   "metadata": {},
   "outputs": [
    {
     "output_type": "execute_result",
     "data": {
      "text/plain": [
       "250"
      ]
     },
     "metadata": {},
     "execution_count": 449
    }
   ],
   "source": [
    "dataset.shape[0]"
   ]
  },
  {
   "cell_type": "code",
   "execution_count": 450,
   "metadata": {},
   "outputs": [
    {
     "output_type": "execute_result",
     "data": {
      "text/plain": [
       "47"
      ]
     },
     "metadata": {},
     "execution_count": 450
    }
   ],
   "source": [
    "dataset[dataset.gender == \"female\"].shape[0]"
   ]
  },
  {
   "cell_type": "code",
   "execution_count": 453,
   "metadata": {},
   "outputs": [],
   "source": [
    "def generate_barchart(data=\"\", title =\"\",abs_value =\"\",rel_value=\"\",figsize =(10,6)):\n",
    "  plt.figure(figsize=figsize)\n",
    "  axes = sns.barplot(data=data,x=data.index,y=abs_value)\n",
    "  i=0\n",
    "  for tot, perc in zip(data[abs_value],data[rel_value]):\n",
    "    axes.text(i,\n",
    "              tot/2,\n",
    "              str(np.round(perc*100,2))+ \"%\",\n",
    "               fontdict=dict(color='White',fontsize=12,horizontalalignment=\"center\")\n",
    "              )\n",
    "    axes.text(i,\n",
    "              tot+ 3,\n",
    "              str(tot),\n",
    "               fontdict=dict(color='blue',fontsize=12,horizontalalignment=\"center\")\n",
    "              )\n",
    "    \n",
    "    i+=1\n",
    "  plt.title(title)\n",
    "  plt.show()\n"
   ]
  },
  {
   "cell_type": "code",
   "execution_count": 454,
   "metadata": {},
   "outputs": [
    {
     "output_type": "error",
     "ename": "AttributeError",
     "evalue": "'str' object has no attribute 'get'",
     "traceback": [
      "\u001b[1;31m---------------------------------------------------------------------------\u001b[0m",
      "\u001b[1;31mAttributeError\u001b[0m                            Traceback (most recent call last)",
      "\u001b[1;32m<ipython-input-454-7142f058034d>\u001b[0m in \u001b[0;36m<module>\u001b[1;34m\u001b[0m\n\u001b[1;32m----> 1\u001b[1;33m \u001b[0mgenerate_barchart\u001b[0m\u001b[1;33m(\u001b[0m\u001b[0mdata\u001b[0m\u001b[1;33m=\u001b[0m\u001b[1;34m\"dataset\"\u001b[0m\u001b[1;33m,\u001b[0m\u001b[0mtitle\u001b[0m\u001b[1;33m=\u001b[0m\u001b[1;34m\"gender\"\u001b[0m\u001b[1;33m,\u001b[0m\u001b[0mabs_value\u001b[0m\u001b[1;33m=\u001b[0m\u001b[1;34m\"departement\"\u001b[0m\u001b[1;33m,\u001b[0m\u001b[0mrel_value\u001b[0m\u001b[1;33m=\u001b[0m\u001b[1;34m\"Percent\"\u001b[0m\u001b[1;33m)\u001b[0m\u001b[1;33m\u001b[0m\u001b[1;33m\u001b[0m\u001b[0m\n\u001b[0m",
      "\u001b[1;32m<ipython-input-453-af5cf6f3d98b>\u001b[0m in \u001b[0;36mgenerate_barchart\u001b[1;34m(data, title, abs_value, rel_value, figsize)\u001b[0m\n\u001b[0;32m      1\u001b[0m \u001b[1;32mdef\u001b[0m \u001b[0mgenerate_barchart\u001b[0m\u001b[1;33m(\u001b[0m\u001b[0mdata\u001b[0m\u001b[1;33m=\u001b[0m\u001b[1;34m\"\"\u001b[0m\u001b[1;33m,\u001b[0m \u001b[0mtitle\u001b[0m \u001b[1;33m=\u001b[0m\u001b[1;34m\"\"\u001b[0m\u001b[1;33m,\u001b[0m\u001b[0mabs_value\u001b[0m \u001b[1;33m=\u001b[0m\u001b[1;34m\"\"\u001b[0m\u001b[1;33m,\u001b[0m\u001b[0mrel_value\u001b[0m\u001b[1;33m=\u001b[0m\u001b[1;34m\"\"\u001b[0m\u001b[1;33m,\u001b[0m\u001b[0mfigsize\u001b[0m \u001b[1;33m=\u001b[0m\u001b[1;33m(\u001b[0m\u001b[1;36m10\u001b[0m\u001b[1;33m,\u001b[0m\u001b[1;36m6\u001b[0m\u001b[1;33m)\u001b[0m\u001b[1;33m)\u001b[0m\u001b[1;33m:\u001b[0m\u001b[1;33m\u001b[0m\u001b[1;33m\u001b[0m\u001b[0m\n\u001b[0;32m      2\u001b[0m   \u001b[0mplt\u001b[0m\u001b[1;33m.\u001b[0m\u001b[0mfigure\u001b[0m\u001b[1;33m(\u001b[0m\u001b[0mfigsize\u001b[0m\u001b[1;33m=\u001b[0m\u001b[0mfigsize\u001b[0m\u001b[1;33m)\u001b[0m\u001b[1;33m\u001b[0m\u001b[1;33m\u001b[0m\u001b[0m\n\u001b[1;32m----> 3\u001b[1;33m   \u001b[0maxes\u001b[0m \u001b[1;33m=\u001b[0m \u001b[0msns\u001b[0m\u001b[1;33m.\u001b[0m\u001b[0mbarplot\u001b[0m\u001b[1;33m(\u001b[0m\u001b[0mdata\u001b[0m\u001b[1;33m=\u001b[0m\u001b[0mdata\u001b[0m\u001b[1;33m,\u001b[0m\u001b[0mx\u001b[0m\u001b[1;33m=\u001b[0m\u001b[0mdata\u001b[0m\u001b[1;33m.\u001b[0m\u001b[0mindex\u001b[0m\u001b[1;33m,\u001b[0m\u001b[0my\u001b[0m\u001b[1;33m=\u001b[0m\u001b[0mabs_value\u001b[0m\u001b[1;33m)\u001b[0m\u001b[1;33m\u001b[0m\u001b[1;33m\u001b[0m\u001b[0m\n\u001b[0m\u001b[0;32m      4\u001b[0m   \u001b[0mi\u001b[0m\u001b[1;33m=\u001b[0m\u001b[1;36m0\u001b[0m\u001b[1;33m\u001b[0m\u001b[1;33m\u001b[0m\u001b[0m\n\u001b[0;32m      5\u001b[0m   \u001b[1;32mfor\u001b[0m \u001b[0mtot\u001b[0m\u001b[1;33m,\u001b[0m \u001b[0mperc\u001b[0m \u001b[1;32min\u001b[0m \u001b[0mzip\u001b[0m\u001b[1;33m(\u001b[0m\u001b[0mdata\u001b[0m\u001b[1;33m[\u001b[0m\u001b[0mabs_value\u001b[0m\u001b[1;33m]\u001b[0m\u001b[1;33m,\u001b[0m\u001b[0mdata\u001b[0m\u001b[1;33m[\u001b[0m\u001b[0mrel_value\u001b[0m\u001b[1;33m]\u001b[0m\u001b[1;33m)\u001b[0m\u001b[1;33m:\u001b[0m\u001b[1;33m\u001b[0m\u001b[1;33m\u001b[0m\u001b[0m\n",
      "\u001b[1;32m~\\Anaconda3\\lib\\site-packages\\seaborn\\categorical.py\u001b[0m in \u001b[0;36mbarplot\u001b[1;34m(x, y, hue, data, order, hue_order, estimator, ci, n_boot, units, orient, color, palette, saturation, errcolor, errwidth, capsize, dodge, ax, **kwargs)\u001b[0m\n\u001b[0;32m   3147\u001b[0m                           \u001b[0mestimator\u001b[0m\u001b[1;33m,\u001b[0m \u001b[0mci\u001b[0m\u001b[1;33m,\u001b[0m \u001b[0mn_boot\u001b[0m\u001b[1;33m,\u001b[0m \u001b[0munits\u001b[0m\u001b[1;33m,\u001b[0m\u001b[1;33m\u001b[0m\u001b[1;33m\u001b[0m\u001b[0m\n\u001b[0;32m   3148\u001b[0m                           \u001b[0morient\u001b[0m\u001b[1;33m,\u001b[0m \u001b[0mcolor\u001b[0m\u001b[1;33m,\u001b[0m \u001b[0mpalette\u001b[0m\u001b[1;33m,\u001b[0m \u001b[0msaturation\u001b[0m\u001b[1;33m,\u001b[0m\u001b[1;33m\u001b[0m\u001b[1;33m\u001b[0m\u001b[0m\n\u001b[1;32m-> 3149\u001b[1;33m                           errcolor, errwidth, capsize, dodge)\n\u001b[0m\u001b[0;32m   3150\u001b[0m \u001b[1;33m\u001b[0m\u001b[0m\n\u001b[0;32m   3151\u001b[0m     \u001b[1;32mif\u001b[0m \u001b[0max\u001b[0m \u001b[1;32mis\u001b[0m \u001b[1;32mNone\u001b[0m\u001b[1;33m:\u001b[0m\u001b[1;33m\u001b[0m\u001b[1;33m\u001b[0m\u001b[0m\n",
      "\u001b[1;32m~\\Anaconda3\\lib\\site-packages\\seaborn\\categorical.py\u001b[0m in \u001b[0;36m__init__\u001b[1;34m(self, x, y, hue, data, order, hue_order, estimator, ci, n_boot, units, orient, color, palette, saturation, errcolor, errwidth, capsize, dodge)\u001b[0m\n\u001b[0;32m   1605\u001b[0m         \u001b[1;34m\"\"\"Initialize the plotter.\"\"\"\u001b[0m\u001b[1;33m\u001b[0m\u001b[1;33m\u001b[0m\u001b[0m\n\u001b[0;32m   1606\u001b[0m         self.establish_variables(x, y, hue, data, orient,\n\u001b[1;32m-> 1607\u001b[1;33m                                  order, hue_order, units)\n\u001b[0m\u001b[0;32m   1608\u001b[0m         \u001b[0mself\u001b[0m\u001b[1;33m.\u001b[0m\u001b[0mestablish_colors\u001b[0m\u001b[1;33m(\u001b[0m\u001b[0mcolor\u001b[0m\u001b[1;33m,\u001b[0m \u001b[0mpalette\u001b[0m\u001b[1;33m,\u001b[0m \u001b[0msaturation\u001b[0m\u001b[1;33m)\u001b[0m\u001b[1;33m\u001b[0m\u001b[1;33m\u001b[0m\u001b[0m\n\u001b[0;32m   1609\u001b[0m         \u001b[0mself\u001b[0m\u001b[1;33m.\u001b[0m\u001b[0mestimate_statistic\u001b[0m\u001b[1;33m(\u001b[0m\u001b[0mestimator\u001b[0m\u001b[1;33m,\u001b[0m \u001b[0mci\u001b[0m\u001b[1;33m,\u001b[0m \u001b[0mn_boot\u001b[0m\u001b[1;33m)\u001b[0m\u001b[1;33m\u001b[0m\u001b[1;33m\u001b[0m\u001b[0m\n",
      "\u001b[1;32m~\\Anaconda3\\lib\\site-packages\\seaborn\\categorical.py\u001b[0m in \u001b[0;36mestablish_variables\u001b[1;34m(self, x, y, hue, data, orient, order, hue_order, units)\u001b[0m\n\u001b[0;32m    144\u001b[0m             \u001b[1;31m# See if we need to get variables from `data`\u001b[0m\u001b[1;33m\u001b[0m\u001b[1;33m\u001b[0m\u001b[1;33m\u001b[0m\u001b[0m\n\u001b[0;32m    145\u001b[0m             \u001b[1;32mif\u001b[0m \u001b[0mdata\u001b[0m \u001b[1;32mis\u001b[0m \u001b[1;32mnot\u001b[0m \u001b[1;32mNone\u001b[0m\u001b[1;33m:\u001b[0m\u001b[1;33m\u001b[0m\u001b[1;33m\u001b[0m\u001b[0m\n\u001b[1;32m--> 146\u001b[1;33m                 \u001b[0mx\u001b[0m \u001b[1;33m=\u001b[0m \u001b[0mdata\u001b[0m\u001b[1;33m.\u001b[0m\u001b[0mget\u001b[0m\u001b[1;33m(\u001b[0m\u001b[0mx\u001b[0m\u001b[1;33m,\u001b[0m \u001b[0mx\u001b[0m\u001b[1;33m)\u001b[0m\u001b[1;33m\u001b[0m\u001b[1;33m\u001b[0m\u001b[0m\n\u001b[0m\u001b[0;32m    147\u001b[0m                 \u001b[0my\u001b[0m \u001b[1;33m=\u001b[0m \u001b[0mdata\u001b[0m\u001b[1;33m.\u001b[0m\u001b[0mget\u001b[0m\u001b[1;33m(\u001b[0m\u001b[0my\u001b[0m\u001b[1;33m,\u001b[0m \u001b[0my\u001b[0m\u001b[1;33m)\u001b[0m\u001b[1;33m\u001b[0m\u001b[1;33m\u001b[0m\u001b[0m\n\u001b[0;32m    148\u001b[0m                 \u001b[0mhue\u001b[0m \u001b[1;33m=\u001b[0m \u001b[0mdata\u001b[0m\u001b[1;33m.\u001b[0m\u001b[0mget\u001b[0m\u001b[1;33m(\u001b[0m\u001b[0mhue\u001b[0m\u001b[1;33m,\u001b[0m \u001b[0mhue\u001b[0m\u001b[1;33m)\u001b[0m\u001b[1;33m\u001b[0m\u001b[1;33m\u001b[0m\u001b[0m\n",
      "\u001b[1;31mAttributeError\u001b[0m: 'str' object has no attribute 'get'"
     ]
    }
   ],
   "source": [
    "generate_barchart(data=\"dataset\",title=\"gender\",abs_value=\"departement\",rel_value=\"Percent\")"
   ]
  },
  {
   "cell_type": "code",
   "execution_count": 456,
   "metadata": {},
   "outputs": [],
   "source": [
    "total =dataset.groupby(by=[\"gender\"]).departement.count().to_frame()\n",
    "total.columns = [\"% Per Departement\"]"
   ]
  },
  {
   "cell_type": "code",
   "execution_count": null,
   "metadata": {},
   "outputs": [],
   "source": []
  },
  {
   "cell_type": "code",
   "execution_count": null,
   "metadata": {},
   "outputs": [],
   "source": []
  }
 ]
}