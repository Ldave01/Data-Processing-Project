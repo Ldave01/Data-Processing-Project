{
 "metadata": {
  "language_info": {
   "codemirror_mode": {
    "name": "ipython",
    "version": 3
   },
   "file_extension": ".py",
   "mimetype": "text/x-python",
   "name": "python",
   "nbconvert_exporter": "python",
   "pygments_lexer": "ipython3",
   "version": "3.7.4"
  },
  "orig_nbformat": 4,
  "kernelspec": {
   "name": "python3",
   "display_name": "Python 3.7.4 64-bit ('base': conda)"
  },
  "interpreter": {
   "hash": "28e6fdb9d573fb7695c59a9cacf33245f364d691ecbc4b7fe5008679860ec6b3"
  }
 },
 "nbformat": 4,
 "nbformat_minor": 2,
 "cells": [
  {
   "source": [
    "Data Analysis with Kaggle Data Set\n",
    "\n",
    "Retreve Dataset\n",
    "\n",
    "Data cleansing\n",
    "\n",
    "Data Processing\n",
    "\n",
    "Data Analysis Univariate\n",
    "\n",
    "Data Analysis Multivariate\n",
    "\n",
    "Hypthesis Test\n",
    "\n",
    "Feature Engineering\n",
    "\n",
    "Model\n",
    "\n",
    "Measure and Performence\n",
    "\n",
    "Conclusion and Recomnandations"
   ],
   "cell_type": "code",
   "metadata": {},
   "execution_count": null,
   "outputs": []
  },
  {
   "cell_type": "code",
   "execution_count": 80,
   "metadata": {},
   "outputs": [],
   "source": [
    "import numpy as np\n",
    "import pandas as pd\n",
    "import matplotlib.pyplot as plt\n",
    "import seaborn as sns"
   ]
  },
  {
   "cell_type": "code",
   "execution_count": 81,
   "metadata": {},
   "outputs": [
    {
     "output_type": "execute_result",
     "data": {
      "text/plain": [
       "                  commune  departement departement_id\n",
       "commune_id                                           \n",
       "HT0812           Abricots  Grande'Anse           HT08\n",
       "HT0321       Acul du Nord        North           HT03\n",
       "HT0922      Anse-à-Foleur   North-West           HT09\n",
       "HT0234       Anse-à-Pître   South-East           HT02\n",
       "HT1021        Anse-à-Veau       Nippes           HT10"
      ],
      "text/html": "<div>\n<style scoped>\n    .dataframe tbody tr th:only-of-type {\n        vertical-align: middle;\n    }\n\n    .dataframe tbody tr th {\n        vertical-align: top;\n    }\n\n    .dataframe thead th {\n        text-align: right;\n    }\n</style>\n<table border=\"1\" class=\"dataframe\">\n  <thead>\n    <tr style=\"text-align: right;\">\n      <th></th>\n      <th>commune</th>\n      <th>departement</th>\n      <th>departement_id</th>\n    </tr>\n    <tr>\n      <th>commune_id</th>\n      <th></th>\n      <th></th>\n      <th></th>\n    </tr>\n  </thead>\n  <tbody>\n    <tr>\n      <td>HT0812</td>\n      <td>Abricots</td>\n      <td>Grande'Anse</td>\n      <td>HT08</td>\n    </tr>\n    <tr>\n      <td>HT0321</td>\n      <td>Acul du Nord</td>\n      <td>North</td>\n      <td>HT03</td>\n    </tr>\n    <tr>\n      <td>HT0922</td>\n      <td>Anse-à-Foleur</td>\n      <td>North-West</td>\n      <td>HT09</td>\n    </tr>\n    <tr>\n      <td>HT0234</td>\n      <td>Anse-à-Pître</td>\n      <td>South-East</td>\n      <td>HT02</td>\n    </tr>\n    <tr>\n      <td>HT1021</td>\n      <td>Anse-à-Veau</td>\n      <td>Nippes</td>\n      <td>HT10</td>\n    </tr>\n  </tbody>\n</table>\n</div>"
     },
     "metadata": {},
     "execution_count": 81
    }
   ],
   "source": [
    "#Retreive dataset for commune file\n",
    "commune_path=\"commune.xlsx\"\n",
    "commune_data= pd.read_excel(commune_path)\n",
    "\n",
    "# Dataset Cleaning for commune file\n",
    "# First i remove a repeated column and \n",
    "# after that i rename the column of the dataset\n",
    "drop_cols=['Commune_en']\n",
    "commune_data.drop(columns=drop_cols, inplace=True)\n",
    "commune_cols=['commune','commune_id', 'departement','departement_id']\n",
    "commune_data.columns=commune_cols\n",
    "commune_data=commune_data.set_index('commune_id')\n",
    "commune_data.head()"
   ]
  },
  {
   "cell_type": "code",
   "execution_count": 100,
   "metadata": {},
   "outputs": [],
   "source": [
    "#check for null values in commune dataset\n",
    "def check_null(data):\n",
    "    null=data.isna().sum()\n",
    "    return null"
   ]
  },
  {
   "cell_type": "code",
   "execution_count": 101,
   "metadata": {},
   "outputs": [
    {
     "output_type": "execute_result",
     "data": {
      "text/plain": [
       "commune           0\n",
       "departement       0\n",
       "departement_id    0\n",
       "dtype: int64"
      ]
     },
     "metadata": {},
     "execution_count": 101
    }
   ],
   "source": [
    "check_null(commune_data)"
   ]
  },
  {
   "cell_type": "code",
   "execution_count": 82,
   "metadata": {},
   "outputs": [
    {
     "output_type": "execute_result",
     "data": {
      "text/plain": [
       "False"
      ]
     },
     "metadata": {},
     "execution_count": 82
    }
   ],
   "source": [
    "check_null=commune_data.isnull().values.any()\n",
    "check_null"
   ]
  },
  {
   "cell_type": "code",
   "execution_count": 88,
   "metadata": {},
   "outputs": [],
   "source": [
    "#Retreive dataset for quest file\n",
    "quest_path=\"quest.csv\" \n",
    "quest_data=pd.read_csv(quest_path, index_col=0)\n",
    "\n",
    "# Dataset Cleaning for quest file\n",
    "# First i remove some unnecessary columns and \n",
    "# after that i rename the other columns of the dataset\n",
    "drop_cols=['modified_at','formal_sector_job','after_AA','department']\n",
    "quest_data.drop(columns=drop_cols, inplace=True)\n",
    "\n",
    "quest_cols=['gender','dob','commune_id','created_at','education_level','university','study_domain','current_employed','computer_home','internet_home','hear_AA','quest_id']\n",
    "quest_data.columns=quest_cols\n",
    "\n",
    "#set the data in quest.commune_id to upper\n",
    "quest_data['commune_id']=quest_data['commune_id'].str.upper()\n",
    "\n",
    "#replace a wrong date format in the dataset\n",
    "quest_data['dob'] = quest_data['dob'].replace(['3 aout 1977'],'03/08/1977')\n",
    "\n",
    "#set commune_id to index\n",
    "quest_data=quest_data.set_index('commune_id')\n",
    "\n",
    "#set dob column to datetime type\n",
    "quest_data['dob'] = pd.to_datetime(quest_data['dob'])\n",
    "#quest_data['created_at'] = pd.to_datetime(quest_data['created_at'])\n",
    "#quest_data.head()"
   ]
  },
  {
   "cell_type": "code",
   "execution_count": 91,
   "metadata": {},
   "outputs": [],
   "source": [
    "#This line fill all the null values in dob column\n",
    "quest_data.dob=quest_data['dob'].fillna(value=quest_data.dob.mean())"
   ]
  },
  {
   "cell_type": "code",
   "execution_count": 92,
   "metadata": {},
   "outputs": [],
   "source": [
    "#replace null value in study_domain with the mode value\n",
    "quest_data['study_domain'] = quest_data['study_domain'].replace(['[]'],quest_data['study_domain'].mode())"
   ]
  },
  {
   "cell_type": "code",
   "execution_count": 93,
   "metadata": {},
   "outputs": [
    {
     "output_type": "execute_result",
     "data": {
      "text/plain": [
       "['item1']                      86\n",
       "['other']                      63\n",
       "['item6']                      19\n",
       "['item3']                      12\n",
       "['item2']                       9\n",
       "['item5']                       8\n",
       "['item7']                       8\n",
       "['item2', 'item3']              7\n",
       "['item8']                       6\n",
       "['item1', 'item6']              5\n",
       "['item6', 'item7']              2\n",
       "['item3', 'item6']              2\n",
       "['item6', 'item3']              2\n",
       "['item1', 'other']              2\n",
       "['item4', 'item1']              2\n",
       "['item3', 'item2']              2\n",
       "['item6', 'other']              2\n",
       "['item1', 'item7']              1\n",
       "['item1', 'item5']              1\n",
       "['item1', 'other', 'item6']     1\n",
       "['item4', 'item3']              1\n",
       "['item3', 'item1']              1\n",
       "['item1', 'item3']              1\n",
       "['item5', 'item6', 'other']     1\n",
       "['item5', 'other']              1\n",
       "['item5', 'item6']              1\n",
       "['item2', 'item3', 'other']     1\n",
       "['item4', 'item1', 'item6']     1\n",
       "['item6', 'item1']              1\n",
       "['item7', 'other']              1\n",
       "Name: study_domain, dtype: int64"
      ]
     },
     "metadata": {},
     "execution_count": 93
    }
   ],
   "source": [
    "quest_data['study_domain'].value_counts()"
   ]
  },
  {
   "cell_type": "code",
   "execution_count": 102,
   "metadata": {},
   "outputs": [
    {
     "output_type": "execute_result",
     "data": {
      "text/plain": [
       "gender              0\n",
       "dob                 0\n",
       "created_at          0\n",
       "education_level     0\n",
       "university          0\n",
       "study_domain        0\n",
       "current_employed    0\n",
       "computer_home       0\n",
       "internet_home       0\n",
       "hear_AA             0\n",
       "quest_id            0\n",
       "dtype: int64"
      ]
     },
     "metadata": {},
     "execution_count": 102
    }
   ],
   "source": [
    "#check nul values\n",
    "check_null(quest_data)"
   ]
  },
  {
   "cell_type": "code",
   "execution_count": 98,
   "metadata": {},
   "outputs": [
    {
     "output_type": "execute_result",
     "data": {
      "text/plain": [
       "(250, 11)"
      ]
     },
     "metadata": {},
     "execution_count": 98
    }
   ],
   "source": [
    "quest_data.shape"
   ]
  },
  {
   "cell_type": "code",
   "execution_count": 99,
   "metadata": {},
   "outputs": [
    {
     "output_type": "stream",
     "name": "stdout",
     "text": [
      "False\n"
     ]
    }
   ],
   "source": [
    "check_null=quest_data.isnull().values.any()\n",
    "print(check_null)"
   ]
  },
  {
   "cell_type": "code",
   "execution_count": 104,
   "metadata": {},
   "outputs": [],
   "source": [
    "def check_duplicate(data):\n",
    "    duplicate=data.duplicated().sum()\n",
    "    return duplicate"
   ]
  },
  {
   "cell_type": "code",
   "execution_count": 105,
   "metadata": {},
   "outputs": [
    {
     "output_type": "execute_result",
     "data": {
      "text/plain": [
       "0"
      ]
     },
     "metadata": {},
     "execution_count": 105
    }
   ],
   "source": [
    "check_duplicate(quest_data)"
   ]
  },
  {
   "cell_type": "code",
   "execution_count": 106,
   "metadata": {},
   "outputs": [
    {
     "output_type": "stream",
     "name": "stdout",
     "text": [
      "(250, 11)\n(140, 3)\n"
     ]
    }
   ],
   "source": [
    "#shape of dataset before merge\n",
    "print(quest_data.shape)\n",
    "print(commune_data.shape)"
   ]
  },
  {
   "cell_type": "code",
   "execution_count": 107,
   "metadata": {},
   "outputs": [],
   "source": [
    "dataset = pd.merge(left =commune_data,right=quest_data,how=\"inner\",on=\"commune_id\")"
   ]
  },
  {
   "cell_type": "code",
   "execution_count": 108,
   "metadata": {},
   "outputs": [
    {
     "output_type": "execute_result",
     "data": {
      "text/plain": [
       "                commune departement departement_id gender        dob  \\\n",
       "commune_id                                                             \n",
       "HT0731            Aquin       South           HT07   male 1995-12-05   \n",
       "HT0311      Cap-Haïtien       North           HT03   male 1995-09-16   \n",
       "HT0311      Cap-Haïtien       North           HT03   male 1987-04-19   \n",
       "HT0311      Cap-Haïtien       North           HT03   male 1991-09-08   \n",
       "HT0311      Cap-Haïtien       North           HT03   male 1987-02-22   \n",
       "...                 ...         ...            ...    ...        ...   \n",
       "HT0118          Tabarre        West           HT01   male 1988-09-17   \n",
       "HT0118          Tabarre        West           HT01   male 1997-11-23   \n",
       "HT0532        Verrettes  Artibonite           HT05   male 1980-12-04   \n",
       "HT0532        Verrettes  Artibonite           HT05   male 1984-01-22   \n",
       "HT0532        Verrettes  Artibonite           HT05   male 1985-03-28   \n",
       "\n",
       "            created_at      education_level  \\\n",
       "commune_id                                    \n",
       "HT0731      2021-02-16  Bachelors (bacc +4)   \n",
       "HT0311      2021-02-21  Bachelors (bacc +4)   \n",
       "HT0311      2021-02-21  Bachelors (bacc +4)   \n",
       "HT0311      2021-03-03                Other   \n",
       "HT0311      2021-03-05  Bachelors (bacc +4)   \n",
       "...                ...                  ...   \n",
       "HT0118      2021-03-07  Bachelors (bacc +4)   \n",
       "HT0118      2021-03-09  Bachelors (bacc +4)   \n",
       "HT0532      2021-02-21                Other   \n",
       "HT0532      2021-02-22                Other   \n",
       "HT0532      2021-03-04  Bachelors (bacc +4)   \n",
       "\n",
       "                                                   university  \\\n",
       "commune_id                                                      \n",
       "HT0731         Ecole Supérieure d'Infotronique d'Haïti (ESIH)   \n",
       "HT0311                        Université d'Etat d'Haïti (UEH)   \n",
       "HT0311                        Université d'Etat d'Haïti (UEH)   \n",
       "HT0311                                                unknown   \n",
       "HT0311                        Université d'Etat d'Haïti (UEH)   \n",
       "...                                                       ...   \n",
       "HT0118                                                unknown   \n",
       "HT0118      Centre de Techniques de Planification et d'Eco...   \n",
       "HT0532                                                unknown   \n",
       "HT0532                                                unknown   \n",
       "HT0532                                                  other   \n",
       "\n",
       "                  study_domain current_employed computer_home internet_home  \\\n",
       "commune_id                                                                    \n",
       "HT0731      ['item6', 'item1']               No           Yes           Yes   \n",
       "HT0311               ['other']              Yes           Yes           Yes   \n",
       "HT0311               ['item1']               No           Yes            No   \n",
       "HT0311               ['item7']               No           Yes            No   \n",
       "HT0311      ['item7', 'other']               No           Yes           Yes   \n",
       "...                        ...              ...           ...           ...   \n",
       "HT0118      ['item6', 'item3']               No           Yes            No   \n",
       "HT0118      ['item2', 'item3']               No           Yes           Yes   \n",
       "HT0532      ['item1', 'item7']              Yes           Yes           Yes   \n",
       "HT0532               ['item1']              Yes           Yes           Yes   \n",
       "HT0532               ['item1']              Yes           Yes           Yes   \n",
       "\n",
       "             hear_AA                              quest_id  \n",
       "commune_id                                                  \n",
       "HT0731        Friend  9069789e-ce95-11eb-883e-7c67a234f601  \n",
       "HT0311      Facebook  906a79ae-ce95-11eb-98c3-7c67a234f601  \n",
       "HT0311        Friend  906a79af-ce95-11eb-bd36-7c67a234f601  \n",
       "HT0311      Facebook  906aa0a0-ce95-11eb-8355-7c67a234f601  \n",
       "HT0311      Facebook  906aa0a1-ce95-11eb-899e-7c67a234f601  \n",
       "...              ...                                   ...  \n",
       "HT0118      LinkedIn  9066879b-ce95-11eb-9d4a-7c67a234f601  \n",
       "HT0118      WhatsApp  9066abb5-ce95-11eb-aa16-7c67a234f601  \n",
       "HT0532      WhatsApp  906a52b7-ce95-11eb-9c4b-7c67a234f601  \n",
       "HT0532      WhatsApp  906a79ab-ce95-11eb-a1b8-7c67a234f601  \n",
       "HT0532        Friend  906a79ac-ce95-11eb-9f8a-7c67a234f601  \n",
       "\n",
       "[250 rows x 14 columns]"
      ],
      "text/html": "<div>\n<style scoped>\n    .dataframe tbody tr th:only-of-type {\n        vertical-align: middle;\n    }\n\n    .dataframe tbody tr th {\n        vertical-align: top;\n    }\n\n    .dataframe thead th {\n        text-align: right;\n    }\n</style>\n<table border=\"1\" class=\"dataframe\">\n  <thead>\n    <tr style=\"text-align: right;\">\n      <th></th>\n      <th>commune</th>\n      <th>departement</th>\n      <th>departement_id</th>\n      <th>gender</th>\n      <th>dob</th>\n      <th>created_at</th>\n      <th>education_level</th>\n      <th>university</th>\n      <th>study_domain</th>\n      <th>current_employed</th>\n      <th>computer_home</th>\n      <th>internet_home</th>\n      <th>hear_AA</th>\n      <th>quest_id</th>\n    </tr>\n    <tr>\n      <th>commune_id</th>\n      <th></th>\n      <th></th>\n      <th></th>\n      <th></th>\n      <th></th>\n      <th></th>\n      <th></th>\n      <th></th>\n      <th></th>\n      <th></th>\n      <th></th>\n      <th></th>\n      <th></th>\n      <th></th>\n    </tr>\n  </thead>\n  <tbody>\n    <tr>\n      <td>HT0731</td>\n      <td>Aquin</td>\n      <td>South</td>\n      <td>HT07</td>\n      <td>male</td>\n      <td>1995-12-05</td>\n      <td>2021-02-16</td>\n      <td>Bachelors (bacc +4)</td>\n      <td>Ecole Supérieure d'Infotronique d'Haïti (ESIH)</td>\n      <td>['item6', 'item1']</td>\n      <td>No</td>\n      <td>Yes</td>\n      <td>Yes</td>\n      <td>Friend</td>\n      <td>9069789e-ce95-11eb-883e-7c67a234f601</td>\n    </tr>\n    <tr>\n      <td>HT0311</td>\n      <td>Cap-Haïtien</td>\n      <td>North</td>\n      <td>HT03</td>\n      <td>male</td>\n      <td>1995-09-16</td>\n      <td>2021-02-21</td>\n      <td>Bachelors (bacc +4)</td>\n      <td>Université d'Etat d'Haïti (UEH)</td>\n      <td>['other']</td>\n      <td>Yes</td>\n      <td>Yes</td>\n      <td>Yes</td>\n      <td>Facebook</td>\n      <td>906a79ae-ce95-11eb-98c3-7c67a234f601</td>\n    </tr>\n    <tr>\n      <td>HT0311</td>\n      <td>Cap-Haïtien</td>\n      <td>North</td>\n      <td>HT03</td>\n      <td>male</td>\n      <td>1987-04-19</td>\n      <td>2021-02-21</td>\n      <td>Bachelors (bacc +4)</td>\n      <td>Université d'Etat d'Haïti (UEH)</td>\n      <td>['item1']</td>\n      <td>No</td>\n      <td>Yes</td>\n      <td>No</td>\n      <td>Friend</td>\n      <td>906a79af-ce95-11eb-bd36-7c67a234f601</td>\n    </tr>\n    <tr>\n      <td>HT0311</td>\n      <td>Cap-Haïtien</td>\n      <td>North</td>\n      <td>HT03</td>\n      <td>male</td>\n      <td>1991-09-08</td>\n      <td>2021-03-03</td>\n      <td>Other</td>\n      <td>unknown</td>\n      <td>['item7']</td>\n      <td>No</td>\n      <td>Yes</td>\n      <td>No</td>\n      <td>Facebook</td>\n      <td>906aa0a0-ce95-11eb-8355-7c67a234f601</td>\n    </tr>\n    <tr>\n      <td>HT0311</td>\n      <td>Cap-Haïtien</td>\n      <td>North</td>\n      <td>HT03</td>\n      <td>male</td>\n      <td>1987-02-22</td>\n      <td>2021-03-05</td>\n      <td>Bachelors (bacc +4)</td>\n      <td>Université d'Etat d'Haïti (UEH)</td>\n      <td>['item7', 'other']</td>\n      <td>No</td>\n      <td>Yes</td>\n      <td>Yes</td>\n      <td>Facebook</td>\n      <td>906aa0a1-ce95-11eb-899e-7c67a234f601</td>\n    </tr>\n    <tr>\n      <td>...</td>\n      <td>...</td>\n      <td>...</td>\n      <td>...</td>\n      <td>...</td>\n      <td>...</td>\n      <td>...</td>\n      <td>...</td>\n      <td>...</td>\n      <td>...</td>\n      <td>...</td>\n      <td>...</td>\n      <td>...</td>\n      <td>...</td>\n      <td>...</td>\n    </tr>\n    <tr>\n      <td>HT0118</td>\n      <td>Tabarre</td>\n      <td>West</td>\n      <td>HT01</td>\n      <td>male</td>\n      <td>1988-09-17</td>\n      <td>2021-03-07</td>\n      <td>Bachelors (bacc +4)</td>\n      <td>unknown</td>\n      <td>['item6', 'item3']</td>\n      <td>No</td>\n      <td>Yes</td>\n      <td>No</td>\n      <td>LinkedIn</td>\n      <td>9066879b-ce95-11eb-9d4a-7c67a234f601</td>\n    </tr>\n    <tr>\n      <td>HT0118</td>\n      <td>Tabarre</td>\n      <td>West</td>\n      <td>HT01</td>\n      <td>male</td>\n      <td>1997-11-23</td>\n      <td>2021-03-09</td>\n      <td>Bachelors (bacc +4)</td>\n      <td>Centre de Techniques de Planification et d'Eco...</td>\n      <td>['item2', 'item3']</td>\n      <td>No</td>\n      <td>Yes</td>\n      <td>Yes</td>\n      <td>WhatsApp</td>\n      <td>9066abb5-ce95-11eb-aa16-7c67a234f601</td>\n    </tr>\n    <tr>\n      <td>HT0532</td>\n      <td>Verrettes</td>\n      <td>Artibonite</td>\n      <td>HT05</td>\n      <td>male</td>\n      <td>1980-12-04</td>\n      <td>2021-02-21</td>\n      <td>Other</td>\n      <td>unknown</td>\n      <td>['item1', 'item7']</td>\n      <td>Yes</td>\n      <td>Yes</td>\n      <td>Yes</td>\n      <td>WhatsApp</td>\n      <td>906a52b7-ce95-11eb-9c4b-7c67a234f601</td>\n    </tr>\n    <tr>\n      <td>HT0532</td>\n      <td>Verrettes</td>\n      <td>Artibonite</td>\n      <td>HT05</td>\n      <td>male</td>\n      <td>1984-01-22</td>\n      <td>2021-02-22</td>\n      <td>Other</td>\n      <td>unknown</td>\n      <td>['item1']</td>\n      <td>Yes</td>\n      <td>Yes</td>\n      <td>Yes</td>\n      <td>WhatsApp</td>\n      <td>906a79ab-ce95-11eb-a1b8-7c67a234f601</td>\n    </tr>\n    <tr>\n      <td>HT0532</td>\n      <td>Verrettes</td>\n      <td>Artibonite</td>\n      <td>HT05</td>\n      <td>male</td>\n      <td>1985-03-28</td>\n      <td>2021-03-04</td>\n      <td>Bachelors (bacc +4)</td>\n      <td>other</td>\n      <td>['item1']</td>\n      <td>Yes</td>\n      <td>Yes</td>\n      <td>Yes</td>\n      <td>Friend</td>\n      <td>906a79ac-ce95-11eb-9f8a-7c67a234f601</td>\n    </tr>\n  </tbody>\n</table>\n<p>250 rows × 14 columns</p>\n</div>"
     },
     "metadata": {},
     "execution_count": 108
    }
   ],
   "source": [
    "dataset"
   ]
  },
  {
   "cell_type": "code",
   "execution_count": 20,
   "metadata": {},
   "outputs": [
    {
     "output_type": "execute_result",
     "data": {
      "text/plain": [
       "(250, 14)"
      ]
     },
     "metadata": {},
     "execution_count": 20
    }
   ],
   "source": [
    "dataset.isna().sum()\n",
    "dataset.shape"
   ]
  },
  {
   "cell_type": "code",
   "execution_count": 408,
   "metadata": {},
   "outputs": [],
   "source": [
    "#study_domain_path=\"study_domain.csv\"\n",
    "#study_domain_data=pd.read_csv(study_domain_path, index_col=0)\n",
    "#study_domain_data.drop(columns='key', inplace=True)\n",
    "#study_domain_cols=['key','study_domain','quest_id']\n",
    "#study_domain_data.columns=study_domain_cols\n",
    "#study_domain_data=study_domain_data.set_index('quest_id')\n",
    "#study_domain_data"
   ]
  },
  {
   "cell_type": "code",
   "execution_count": 409,
   "metadata": {},
   "outputs": [],
   "source": [
    "#vartest=study_domain_data['quest_id'].value_counts()\n",
    "#vartest.head(25)"
   ]
  },
  {
   "cell_type": "code",
   "execution_count": 315,
   "metadata": {},
   "outputs": [],
   "source": [
    "#Extract each values of \"Study_domain\" and place them into a separate Columns before Merge\n",
    "# study_domain_data = pd.get_dummies(data=study_domain_data[[\"quest_id\",\"key\", \"study_domain\"]], columns=['study_domain'], prefix=\"\",prefix_sep=\"\")\n",
    "# study_domain_data = study_domain_data.groupby(\"quest_id\").sum()\n"
   ]
  },
  {
   "cell_type": "code",
   "execution_count": 410,
   "metadata": {},
   "outputs": [],
   "source": [
    "#study_domain_data"
   ]
  },
  {
   "cell_type": "code",
   "execution_count": 411,
   "metadata": {},
   "outputs": [],
   "source": [
    "#dataset.set_index('quest_id')"
   ]
  },
  {
   "cell_type": "code",
   "execution_count": 391,
   "metadata": {},
   "outputs": [],
   "source": [
    "# dataset = pd.merge(left =dataset,right=study_domain_data,how=\"inner\",on=\"quest_id\")"
   ]
  },
  {
   "cell_type": "code",
   "execution_count": 412,
   "metadata": {},
   "outputs": [],
   "source": [
    "# dataset"
   ]
  },
  {
   "cell_type": "code",
   "execution_count": 413,
   "metadata": {},
   "outputs": [],
   "source": [
    "#dataset.set_index('quest_id')"
   ]
  },
  {
   "cell_type": "code",
   "execution_count": 414,
   "metadata": {},
   "outputs": [],
   "source": [
    "# technology_path='technology.csv'\n",
    "# technology_data=pd.read_csv(technology_path, index_col=0)\n",
    "# #technology_data.drop(columns='key', inplace=True)\n",
    "# technology_cols=[\"key\", 'technology', 'quest_id']\n",
    "# technology_data.columns=technology_cols\n",
    "# #technology_data=technology_data.set_index('quest_id')\n",
    "# technology_data"
   ]
  },
  {
   "cell_type": "code",
   "execution_count": 415,
   "metadata": {},
   "outputs": [],
   "source": [
    "# #Extract each values of \"Study_domain\" and place them into a separate Columns before Merge\n",
    "# technology_data = pd.get_dummies(data=technology_data[[\"quest_id\",\"key\", \"technology\"]], columns=['technology'], prefix=\"\",prefix_sep=\"\")\n",
    "# technology_data = technology_data.groupby(\"quest_id\").sum()"
   ]
  },
  {
   "cell_type": "code",
   "execution_count": 416,
   "metadata": {},
   "outputs": [],
   "source": [
    "# dataset = pd.merge(left =dataset,right=technology_data,how=\"inner\",on=\"quest_id\")"
   ]
  },
  {
   "cell_type": "code",
   "execution_count": 32,
   "metadata": {},
   "outputs": [
    {
     "output_type": "execute_result",
     "data": {
      "text/plain": [
       "                commune departement departement_id gender        dob  \\\n",
       "commune_id                                                             \n",
       "HT0731            Aquin       South           HT07   male 1995-12-05   \n",
       "HT0311      Cap-Haïtien       North           HT03   male 1995-09-16   \n",
       "\n",
       "            created_at      education_level  \\\n",
       "commune_id                                    \n",
       "HT0731      2021-02-16  Bachelors (bacc +4)   \n",
       "HT0311      2021-02-21  Bachelors (bacc +4)   \n",
       "\n",
       "                                                university  \\\n",
       "commune_id                                                   \n",
       "HT0731      Ecole Supérieure d'Infotronique d'Haïti (ESIH)   \n",
       "HT0311                     Université d'Etat d'Haïti (UEH)   \n",
       "\n",
       "                  study_domain current_employed computer_home internet_home  \\\n",
       "commune_id                                                                    \n",
       "HT0731      ['item6', 'item1']               No           Yes           Yes   \n",
       "HT0311               ['other']              Yes           Yes           Yes   \n",
       "\n",
       "             hear_AA                              quest_id  \n",
       "commune_id                                                  \n",
       "HT0731        Friend  9069789e-ce95-11eb-883e-7c67a234f601  \n",
       "HT0311      Facebook  906a79ae-ce95-11eb-98c3-7c67a234f601  "
      ],
      "text/html": "<div>\n<style scoped>\n    .dataframe tbody tr th:only-of-type {\n        vertical-align: middle;\n    }\n\n    .dataframe tbody tr th {\n        vertical-align: top;\n    }\n\n    .dataframe thead th {\n        text-align: right;\n    }\n</style>\n<table border=\"1\" class=\"dataframe\">\n  <thead>\n    <tr style=\"text-align: right;\">\n      <th></th>\n      <th>commune</th>\n      <th>departement</th>\n      <th>departement_id</th>\n      <th>gender</th>\n      <th>dob</th>\n      <th>created_at</th>\n      <th>education_level</th>\n      <th>university</th>\n      <th>study_domain</th>\n      <th>current_employed</th>\n      <th>computer_home</th>\n      <th>internet_home</th>\n      <th>hear_AA</th>\n      <th>quest_id</th>\n    </tr>\n    <tr>\n      <th>commune_id</th>\n      <th></th>\n      <th></th>\n      <th></th>\n      <th></th>\n      <th></th>\n      <th></th>\n      <th></th>\n      <th></th>\n      <th></th>\n      <th></th>\n      <th></th>\n      <th></th>\n      <th></th>\n      <th></th>\n    </tr>\n  </thead>\n  <tbody>\n    <tr>\n      <td>HT0731</td>\n      <td>Aquin</td>\n      <td>South</td>\n      <td>HT07</td>\n      <td>male</td>\n      <td>1995-12-05</td>\n      <td>2021-02-16</td>\n      <td>Bachelors (bacc +4)</td>\n      <td>Ecole Supérieure d'Infotronique d'Haïti (ESIH)</td>\n      <td>['item6', 'item1']</td>\n      <td>No</td>\n      <td>Yes</td>\n      <td>Yes</td>\n      <td>Friend</td>\n      <td>9069789e-ce95-11eb-883e-7c67a234f601</td>\n    </tr>\n    <tr>\n      <td>HT0311</td>\n      <td>Cap-Haïtien</td>\n      <td>North</td>\n      <td>HT03</td>\n      <td>male</td>\n      <td>1995-09-16</td>\n      <td>2021-02-21</td>\n      <td>Bachelors (bacc +4)</td>\n      <td>Université d'Etat d'Haïti (UEH)</td>\n      <td>['other']</td>\n      <td>Yes</td>\n      <td>Yes</td>\n      <td>Yes</td>\n      <td>Facebook</td>\n      <td>906a79ae-ce95-11eb-98c3-7c67a234f601</td>\n    </tr>\n  </tbody>\n</table>\n</div>"
     },
     "metadata": {},
     "execution_count": 32
    }
   ],
   "source": [
    "dataset.head(2)"
   ]
  },
  {
   "cell_type": "code",
   "execution_count": 77,
   "metadata": {},
   "outputs": [],
   "source": [
    "#dataset.set_index('quest_id')\n",
    "#np.linspace(start=0, stop=10, endpoint=True, num=100)"
   ]
  },
  {
   "cell_type": "code",
   "execution_count": 22,
   "metadata": {},
   "outputs": [
    {
     "output_type": "stream",
     "name": "stdout",
     "text": [
      "<class 'pandas.core.frame.DataFrame'>\nIndex: 250 entries, HT0731 to HT0532\nData columns (total 14 columns):\ncommune             250 non-null object\ndepartement         250 non-null object\ndepartement_id      250 non-null object\ngender              250 non-null object\ndob                 250 non-null datetime64[ns]\ncreated_at          250 non-null object\neducation_level     250 non-null object\nuniversity          250 non-null object\nstudy_domain        250 non-null object\ncurrent_employed    250 non-null object\ncomputer_home       250 non-null object\ninternet_home       250 non-null object\nhear_AA             250 non-null object\nquest_id            250 non-null object\ndtypes: datetime64[ns](1), object(13)\nmemory usage: 29.3+ KB\n"
     ]
    }
   ],
   "source": [
    "dataset.info()"
   ]
  },
  {
   "cell_type": "code",
   "execution_count": 23,
   "metadata": {},
   "outputs": [
    {
     "output_type": "execute_result",
     "data": {
      "text/plain": [
       "       commune departement departement_id gender  \\\n",
       "count      250         250            250    250   \n",
       "unique      35           9              9      2   \n",
       "top     Delmas        West           HT01   male   \n",
       "freq        71         214            214    203   \n",
       "first      NaN         NaN            NaN    NaN   \n",
       "last       NaN         NaN            NaN    NaN   \n",
       "\n",
       "                                  dob  created_at      education_level  \\\n",
       "count                             250         250                  250   \n",
       "unique                            237          28                    6   \n",
       "top     1994-03-13 18:05:54.098360704  2021-02-17  Bachelors (bacc +4)   \n",
       "freq                                6          41                  148   \n",
       "first             1970-07-12 00:00:00         NaN                  NaN   \n",
       "last              2021-08-14 00:00:00         NaN                  NaN   \n",
       "\n",
       "       university study_domain current_employed computer_home internet_home  \\\n",
       "count         250          250              250           250           250   \n",
       "unique          7           30                3             3             3   \n",
       "top       unknown    ['item1']               No           Yes           Yes   \n",
       "freq           95           86              180           234           210   \n",
       "first         NaN          NaN              NaN           NaN           NaN   \n",
       "last          NaN          NaN              NaN           NaN           NaN   \n",
       "\n",
       "       hear_AA                              quest_id  \n",
       "count      250                                   250  \n",
       "unique      10                                   250  \n",
       "top     Friend  9069a207-ce95-11eb-9148-7c67a234f601  \n",
       "freq        67                                     1  \n",
       "first      NaN                                   NaN  \n",
       "last       NaN                                   NaN  "
      ],
      "text/html": "<div>\n<style scoped>\n    .dataframe tbody tr th:only-of-type {\n        vertical-align: middle;\n    }\n\n    .dataframe tbody tr th {\n        vertical-align: top;\n    }\n\n    .dataframe thead th {\n        text-align: right;\n    }\n</style>\n<table border=\"1\" class=\"dataframe\">\n  <thead>\n    <tr style=\"text-align: right;\">\n      <th></th>\n      <th>commune</th>\n      <th>departement</th>\n      <th>departement_id</th>\n      <th>gender</th>\n      <th>dob</th>\n      <th>created_at</th>\n      <th>education_level</th>\n      <th>university</th>\n      <th>study_domain</th>\n      <th>current_employed</th>\n      <th>computer_home</th>\n      <th>internet_home</th>\n      <th>hear_AA</th>\n      <th>quest_id</th>\n    </tr>\n  </thead>\n  <tbody>\n    <tr>\n      <td>count</td>\n      <td>250</td>\n      <td>250</td>\n      <td>250</td>\n      <td>250</td>\n      <td>250</td>\n      <td>250</td>\n      <td>250</td>\n      <td>250</td>\n      <td>250</td>\n      <td>250</td>\n      <td>250</td>\n      <td>250</td>\n      <td>250</td>\n      <td>250</td>\n    </tr>\n    <tr>\n      <td>unique</td>\n      <td>35</td>\n      <td>9</td>\n      <td>9</td>\n      <td>2</td>\n      <td>237</td>\n      <td>28</td>\n      <td>6</td>\n      <td>7</td>\n      <td>30</td>\n      <td>3</td>\n      <td>3</td>\n      <td>3</td>\n      <td>10</td>\n      <td>250</td>\n    </tr>\n    <tr>\n      <td>top</td>\n      <td>Delmas</td>\n      <td>West</td>\n      <td>HT01</td>\n      <td>male</td>\n      <td>1994-03-13 18:05:54.098360704</td>\n      <td>2021-02-17</td>\n      <td>Bachelors (bacc +4)</td>\n      <td>unknown</td>\n      <td>['item1']</td>\n      <td>No</td>\n      <td>Yes</td>\n      <td>Yes</td>\n      <td>Friend</td>\n      <td>9069a207-ce95-11eb-9148-7c67a234f601</td>\n    </tr>\n    <tr>\n      <td>freq</td>\n      <td>71</td>\n      <td>214</td>\n      <td>214</td>\n      <td>203</td>\n      <td>6</td>\n      <td>41</td>\n      <td>148</td>\n      <td>95</td>\n      <td>86</td>\n      <td>180</td>\n      <td>234</td>\n      <td>210</td>\n      <td>67</td>\n      <td>1</td>\n    </tr>\n    <tr>\n      <td>first</td>\n      <td>NaN</td>\n      <td>NaN</td>\n      <td>NaN</td>\n      <td>NaN</td>\n      <td>1970-07-12 00:00:00</td>\n      <td>NaN</td>\n      <td>NaN</td>\n      <td>NaN</td>\n      <td>NaN</td>\n      <td>NaN</td>\n      <td>NaN</td>\n      <td>NaN</td>\n      <td>NaN</td>\n      <td>NaN</td>\n    </tr>\n    <tr>\n      <td>last</td>\n      <td>NaN</td>\n      <td>NaN</td>\n      <td>NaN</td>\n      <td>NaN</td>\n      <td>2021-08-14 00:00:00</td>\n      <td>NaN</td>\n      <td>NaN</td>\n      <td>NaN</td>\n      <td>NaN</td>\n      <td>NaN</td>\n      <td>NaN</td>\n      <td>NaN</td>\n      <td>NaN</td>\n      <td>NaN</td>\n    </tr>\n  </tbody>\n</table>\n</div>"
     },
     "metadata": {},
     "execution_count": 23
    }
   ],
   "source": [
    "dataset.describe()"
   ]
  },
  {
   "cell_type": "code",
   "execution_count": 24,
   "metadata": {},
   "outputs": [
    {
     "output_type": "execute_result",
     "data": {
      "text/plain": [
       "Series([], dtype: float64)"
      ]
     },
     "metadata": {},
     "execution_count": 24
    }
   ],
   "source": [
    "def percent_colunm_null_values(data):\n",
    "   result =  data.isna().sum()/data.shape[0]\n",
    "   return result[result>0.0]\n",
    "\n",
    "percent_colunm_null_values(data=dataset)"
   ]
  },
  {
   "cell_type": "code",
   "execution_count": 51,
   "metadata": {},
   "outputs": [
    {
     "output_type": "execute_result",
     "data": {
      "text/plain": [
       "        gender\n",
       "male       203\n",
       "female      47"
      ],
      "text/html": "<div>\n<style scoped>\n    .dataframe tbody tr th:only-of-type {\n        vertical-align: middle;\n    }\n\n    .dataframe tbody tr th {\n        vertical-align: top;\n    }\n\n    .dataframe thead th {\n        text-align: right;\n    }\n</style>\n<table border=\"1\" class=\"dataframe\">\n  <thead>\n    <tr style=\"text-align: right;\">\n      <th></th>\n      <th>gender</th>\n    </tr>\n  </thead>\n  <tbody>\n    <tr>\n      <td>male</td>\n      <td>203</td>\n    </tr>\n    <tr>\n      <td>female</td>\n      <td>47</td>\n    </tr>\n  </tbody>\n</table>\n</div>"
     },
     "metadata": {},
     "execution_count": 51
    }
   ],
   "source": [
    "gender_total=dataset['gender'].value_counts(normalize=False).to_frame()\n",
    "gender_total.rename(columns={\"Sex\": \"Total\"},inplace=True)\n",
    "gender_total"
   ]
  },
  {
   "cell_type": "code",
   "execution_count": 64,
   "metadata": {},
   "outputs": [
    {
     "output_type": "execute_result",
     "data": {
      "text/plain": [
       "gender                   female  male\n",
       "hear_AA                              \n",
       "Ayiti Analytics Website     4.0  11.0\n",
       "Bootcamp Alumni             8.0   6.0\n",
       "ESIH                        5.0  13.0\n",
       "Facebook                    6.0  34.0\n",
       "Friend                     11.0  56.0\n",
       "Instagram                   1.0   4.0\n",
       "LinkedIn                    1.0  14.0\n",
       "WhatsApp                    9.0  57.0\n",
       "other                       2.0   7.0\n",
       "unknown                     NaN   1.0"
      ],
      "text/html": "<div>\n<style scoped>\n    .dataframe tbody tr th:only-of-type {\n        vertical-align: middle;\n    }\n\n    .dataframe tbody tr th {\n        vertical-align: top;\n    }\n\n    .dataframe thead th {\n        text-align: right;\n    }\n</style>\n<table border=\"1\" class=\"dataframe\">\n  <thead>\n    <tr style=\"text-align: right;\">\n      <th>gender</th>\n      <th>female</th>\n      <th>male</th>\n    </tr>\n    <tr>\n      <th>hear_AA</th>\n      <th></th>\n      <th></th>\n    </tr>\n  </thead>\n  <tbody>\n    <tr>\n      <td>Ayiti Analytics Website</td>\n      <td>4.0</td>\n      <td>11.0</td>\n    </tr>\n    <tr>\n      <td>Bootcamp Alumni</td>\n      <td>8.0</td>\n      <td>6.0</td>\n    </tr>\n    <tr>\n      <td>ESIH</td>\n      <td>5.0</td>\n      <td>13.0</td>\n    </tr>\n    <tr>\n      <td>Facebook</td>\n      <td>6.0</td>\n      <td>34.0</td>\n    </tr>\n    <tr>\n      <td>Friend</td>\n      <td>11.0</td>\n      <td>56.0</td>\n    </tr>\n    <tr>\n      <td>Instagram</td>\n      <td>1.0</td>\n      <td>4.0</td>\n    </tr>\n    <tr>\n      <td>LinkedIn</td>\n      <td>1.0</td>\n      <td>14.0</td>\n    </tr>\n    <tr>\n      <td>WhatsApp</td>\n      <td>9.0</td>\n      <td>57.0</td>\n    </tr>\n    <tr>\n      <td>other</td>\n      <td>2.0</td>\n      <td>7.0</td>\n    </tr>\n    <tr>\n      <td>unknown</td>\n      <td>NaN</td>\n      <td>1.0</td>\n    </tr>\n  </tbody>\n</table>\n</div>"
     },
     "metadata": {},
     "execution_count": 64
    }
   ],
   "source": [
    "my_pivot =  pd.pivot_table(data=dataset,index=\"hear_AA\",columns=\"gender\",values =\"quest_id\",aggfunc=\"count\")\n",
    "my_pivot"
   ]
  },
  {
   "cell_type": "code",
   "execution_count": 75,
   "metadata": {},
   "outputs": [
    {
     "output_type": "display_data",
     "data": {
      "text/plain": "<Figure size 504x432 with 1 Axes>",
      "image/svg+xml": "<?xml version=\"1.0\" encoding=\"utf-8\" standalone=\"no\"?>\r\n<!DOCTYPE svg PUBLIC \"-//W3C//DTD SVG 1.1//EN\"\r\n  \"http://www.w3.org/Graphics/SVG/1.1/DTD/svg11.dtd\">\r\n<!-- Created with matplotlib (https://matplotlib.org/) -->\r\n<svg height=\"475.950625pt\" version=\"1.1\" viewBox=\"0 0 424.725 475.950625\" width=\"424.725pt\" xmlns=\"http://www.w3.org/2000/svg\" xmlns:xlink=\"http://www.w3.org/1999/xlink\">\r\n <defs>\r\n  <style type=\"text/css\">\r\n*{stroke-linecap:butt;stroke-linejoin:round;}\r\n  </style>\r\n </defs>\r\n <g id=\"figure_1\">\r\n  <g id=\"patch_1\">\r\n   <path d=\"M 0 475.950625 \r\nL 424.725 475.950625 \r\nL 424.725 -0 \r\nL 0 -0 \r\nz\r\n\" style=\"fill:none;\"/>\r\n  </g>\r\n  <g id=\"axes_1\">\r\n   <g id=\"patch_2\">\r\n    <path d=\"M 26.925 333.36 \r\nL 417.525 333.36 \r\nL 417.525 7.2 \r\nL 26.925 7.2 \r\nz\r\n\" style=\"fill:#ffffff;\"/>\r\n   </g>\r\n   <g id=\"patch_3\">\r\n    <path clip-path=\"url(#p642210ed2a)\" d=\"M 36.69 333.36 \r\nL 46.455 333.36 \r\nL 46.455 311.561504 \r\nL 36.69 311.561504 \r\nz\r\n\" style=\"fill:#1f77b4;\"/>\r\n   </g>\r\n   <g id=\"patch_4\">\r\n    <path clip-path=\"url(#p642210ed2a)\" d=\"M 75.75 333.36 \r\nL 85.515 333.36 \r\nL 85.515 289.763008 \r\nL 75.75 289.763008 \r\nz\r\n\" style=\"fill:#1f77b4;\"/>\r\n   </g>\r\n   <g id=\"patch_5\">\r\n    <path clip-path=\"url(#p642210ed2a)\" d=\"M 114.81 333.36 \r\nL 124.575 333.36 \r\nL 124.575 306.11188 \r\nL 114.81 306.11188 \r\nz\r\n\" style=\"fill:#1f77b4;\"/>\r\n   </g>\r\n   <g id=\"patch_6\">\r\n    <path clip-path=\"url(#p642210ed2a)\" d=\"M 153.87 333.36 \r\nL 163.635 333.36 \r\nL 163.635 300.662256 \r\nL 153.87 300.662256 \r\nz\r\n\" style=\"fill:#1f77b4;\"/>\r\n   </g>\r\n   <g id=\"patch_7\">\r\n    <path clip-path=\"url(#p642210ed2a)\" d=\"M 192.93 333.36 \r\nL 202.695 333.36 \r\nL 202.695 273.414135 \r\nL 192.93 273.414135 \r\nz\r\n\" style=\"fill:#1f77b4;\"/>\r\n   </g>\r\n   <g id=\"patch_8\">\r\n    <path clip-path=\"url(#p642210ed2a)\" d=\"M 231.99 333.36 \r\nL 241.755 333.36 \r\nL 241.755 327.910376 \r\nL 231.99 327.910376 \r\nz\r\n\" style=\"fill:#1f77b4;\"/>\r\n   </g>\r\n   <g id=\"patch_9\">\r\n    <path clip-path=\"url(#p642210ed2a)\" d=\"M 271.05 333.36 \r\nL 280.815 333.36 \r\nL 280.815 327.910376 \r\nL 271.05 327.910376 \r\nz\r\n\" style=\"fill:#1f77b4;\"/>\r\n   </g>\r\n   <g id=\"patch_10\">\r\n    <path clip-path=\"url(#p642210ed2a)\" d=\"M 310.11 333.36 \r\nL 319.875 333.36 \r\nL 319.875 284.313383 \r\nL 310.11 284.313383 \r\nz\r\n\" style=\"fill:#1f77b4;\"/>\r\n   </g>\r\n   <g id=\"patch_11\">\r\n    <path clip-path=\"url(#p642210ed2a)\" d=\"M 349.17 333.36 \r\nL 358.935 333.36 \r\nL 358.935 322.460752 \r\nL 349.17 322.460752 \r\nz\r\n\" style=\"fill:#1f77b4;\"/>\r\n   </g>\r\n   <g id=\"patch_12\">\r\n    <path clip-path=\"url(#p642210ed2a)\" d=\"M 388.23 333.36 \r\nL 397.995 333.36 \r\nL 397.995 333.36 \r\nL 388.23 333.36 \r\nz\r\n\" style=\"fill:#1f77b4;\"/>\r\n   </g>\r\n   <g id=\"patch_13\">\r\n    <path clip-path=\"url(#p642210ed2a)\" d=\"M 46.455 333.36 \r\nL 56.22 333.36 \r\nL 56.22 273.414135 \r\nL 46.455 273.414135 \r\nz\r\n\" style=\"fill:#ff7f0e;\"/>\r\n   </g>\r\n   <g id=\"patch_14\">\r\n    <path clip-path=\"url(#p642210ed2a)\" d=\"M 85.515 333.36 \r\nL 95.28 333.36 \r\nL 95.28 300.662256 \r\nL 85.515 300.662256 \r\nz\r\n\" style=\"fill:#ff7f0e;\"/>\r\n   </g>\r\n   <g id=\"patch_15\">\r\n    <path clip-path=\"url(#p642210ed2a)\" d=\"M 124.575 333.36 \r\nL 134.34 333.36 \r\nL 134.34 262.514887 \r\nL 124.575 262.514887 \r\nz\r\n\" style=\"fill:#ff7f0e;\"/>\r\n   </g>\r\n   <g id=\"patch_16\">\r\n    <path clip-path=\"url(#p642210ed2a)\" d=\"M 163.635 333.36 \r\nL 173.4 333.36 \r\nL 173.4 148.072782 \r\nL 163.635 148.072782 \r\nz\r\n\" style=\"fill:#ff7f0e;\"/>\r\n   </g>\r\n   <g id=\"patch_17\">\r\n    <path clip-path=\"url(#p642210ed2a)\" d=\"M 202.695 333.36 \r\nL 212.46 333.36 \r\nL 212.46 28.181053 \r\nL 202.695 28.181053 \r\nz\r\n\" style=\"fill:#ff7f0e;\"/>\r\n   </g>\r\n   <g id=\"patch_18\">\r\n    <path clip-path=\"url(#p642210ed2a)\" d=\"M 241.755 333.36 \r\nL 251.52 333.36 \r\nL 251.52 311.561504 \r\nL 241.755 311.561504 \r\nz\r\n\" style=\"fill:#ff7f0e;\"/>\r\n   </g>\r\n   <g id=\"patch_19\">\r\n    <path clip-path=\"url(#p642210ed2a)\" d=\"M 280.815 333.36 \r\nL 290.58 333.36 \r\nL 290.58 257.065263 \r\nL 280.815 257.065263 \r\nz\r\n\" style=\"fill:#ff7f0e;\"/>\r\n   </g>\r\n   <g id=\"patch_20\">\r\n    <path clip-path=\"url(#p642210ed2a)\" d=\"M 319.875 333.36 \r\nL 329.64 333.36 \r\nL 329.64 22.731429 \r\nL 319.875 22.731429 \r\nz\r\n\" style=\"fill:#ff7f0e;\"/>\r\n   </g>\r\n   <g id=\"patch_21\">\r\n    <path clip-path=\"url(#p642210ed2a)\" d=\"M 358.935 333.36 \r\nL 368.7 333.36 \r\nL 368.7 295.212632 \r\nL 358.935 295.212632 \r\nz\r\n\" style=\"fill:#ff7f0e;\"/>\r\n   </g>\r\n   <g id=\"patch_22\">\r\n    <path clip-path=\"url(#p642210ed2a)\" d=\"M 397.995 333.36 \r\nL 407.76 333.36 \r\nL 407.76 327.910376 \r\nL 397.995 327.910376 \r\nz\r\n\" style=\"fill:#ff7f0e;\"/>\r\n   </g>\r\n   <g id=\"matplotlib.axis_1\">\r\n    <g id=\"xtick_1\">\r\n     <g id=\"line2d_1\">\r\n      <defs>\r\n       <path d=\"M 0 0 \r\nL 0 3.5 \r\n\" id=\"m153eee7ba5\" style=\"stroke:#000000;stroke-width:0.8;\"/>\r\n      </defs>\r\n      <g>\r\n       <use style=\"stroke:#000000;stroke-width:0.8;\" x=\"46.455\" xlink:href=\"#m153eee7ba5\" y=\"333.36\"/>\r\n      </g>\r\n     </g>\r\n     <g id=\"text_1\">\r\n      <!-- Ayiti Analytics Website -->\r\n      <defs>\r\n       <path d=\"M 34.1875 63.1875 \r\nL 20.796875 26.90625 \r\nL 47.609375 26.90625 \r\nz\r\nM 28.609375 72.90625 \r\nL 39.796875 72.90625 \r\nL 67.578125 0 \r\nL 57.328125 0 \r\nL 50.6875 18.703125 \r\nL 17.828125 18.703125 \r\nL 11.1875 0 \r\nL 0.78125 0 \r\nz\r\n\" id=\"DejaVuSans-65\"/>\r\n       <path d=\"M 32.171875 -5.078125 \r\nQ 28.375 -14.84375 24.75 -17.8125 \r\nQ 21.140625 -20.796875 15.09375 -20.796875 \r\nL 7.90625 -20.796875 \r\nL 7.90625 -13.28125 \r\nL 13.1875 -13.28125 \r\nQ 16.890625 -13.28125 18.9375 -11.515625 \r\nQ 21 -9.765625 23.484375 -3.21875 \r\nL 25.09375 0.875 \r\nL 2.984375 54.6875 \r\nL 12.5 54.6875 \r\nL 29.59375 11.921875 \r\nL 46.6875 54.6875 \r\nL 56.203125 54.6875 \r\nz\r\n\" id=\"DejaVuSans-121\"/>\r\n       <path d=\"M 9.421875 54.6875 \r\nL 18.40625 54.6875 \r\nL 18.40625 0 \r\nL 9.421875 0 \r\nz\r\nM 9.421875 75.984375 \r\nL 18.40625 75.984375 \r\nL 18.40625 64.59375 \r\nL 9.421875 64.59375 \r\nz\r\n\" id=\"DejaVuSans-105\"/>\r\n       <path d=\"M 18.3125 70.21875 \r\nL 18.3125 54.6875 \r\nL 36.8125 54.6875 \r\nL 36.8125 47.703125 \r\nL 18.3125 47.703125 \r\nL 18.3125 18.015625 \r\nQ 18.3125 11.328125 20.140625 9.421875 \r\nQ 21.96875 7.515625 27.59375 7.515625 \r\nL 36.8125 7.515625 \r\nL 36.8125 0 \r\nL 27.59375 0 \r\nQ 17.1875 0 13.234375 3.875 \r\nQ 9.28125 7.765625 9.28125 18.015625 \r\nL 9.28125 47.703125 \r\nL 2.6875 47.703125 \r\nL 2.6875 54.6875 \r\nL 9.28125 54.6875 \r\nL 9.28125 70.21875 \r\nz\r\n\" id=\"DejaVuSans-116\"/>\r\n       <path id=\"DejaVuSans-32\"/>\r\n       <path d=\"M 54.890625 33.015625 \r\nL 54.890625 0 \r\nL 45.90625 0 \r\nL 45.90625 32.71875 \r\nQ 45.90625 40.484375 42.875 44.328125 \r\nQ 39.84375 48.1875 33.796875 48.1875 \r\nQ 26.515625 48.1875 22.3125 43.546875 \r\nQ 18.109375 38.921875 18.109375 30.90625 \r\nL 18.109375 0 \r\nL 9.078125 0 \r\nL 9.078125 54.6875 \r\nL 18.109375 54.6875 \r\nL 18.109375 46.1875 \r\nQ 21.34375 51.125 25.703125 53.5625 \r\nQ 30.078125 56 35.796875 56 \r\nQ 45.21875 56 50.046875 50.171875 \r\nQ 54.890625 44.34375 54.890625 33.015625 \r\nz\r\n\" id=\"DejaVuSans-110\"/>\r\n       <path d=\"M 34.28125 27.484375 \r\nQ 23.390625 27.484375 19.1875 25 \r\nQ 14.984375 22.515625 14.984375 16.5 \r\nQ 14.984375 11.71875 18.140625 8.90625 \r\nQ 21.296875 6.109375 26.703125 6.109375 \r\nQ 34.1875 6.109375 38.703125 11.40625 \r\nQ 43.21875 16.703125 43.21875 25.484375 \r\nL 43.21875 27.484375 \r\nz\r\nM 52.203125 31.203125 \r\nL 52.203125 0 \r\nL 43.21875 0 \r\nL 43.21875 8.296875 \r\nQ 40.140625 3.328125 35.546875 0.953125 \r\nQ 30.953125 -1.421875 24.3125 -1.421875 \r\nQ 15.921875 -1.421875 10.953125 3.296875 \r\nQ 6 8.015625 6 15.921875 \r\nQ 6 25.140625 12.171875 29.828125 \r\nQ 18.359375 34.515625 30.609375 34.515625 \r\nL 43.21875 34.515625 \r\nL 43.21875 35.40625 \r\nQ 43.21875 41.609375 39.140625 45 \r\nQ 35.0625 48.390625 27.6875 48.390625 \r\nQ 23 48.390625 18.546875 47.265625 \r\nQ 14.109375 46.140625 10.015625 43.890625 \r\nL 10.015625 52.203125 \r\nQ 14.9375 54.109375 19.578125 55.046875 \r\nQ 24.21875 56 28.609375 56 \r\nQ 40.484375 56 46.34375 49.84375 \r\nQ 52.203125 43.703125 52.203125 31.203125 \r\nz\r\n\" id=\"DejaVuSans-97\"/>\r\n       <path d=\"M 9.421875 75.984375 \r\nL 18.40625 75.984375 \r\nL 18.40625 0 \r\nL 9.421875 0 \r\nz\r\n\" id=\"DejaVuSans-108\"/>\r\n       <path d=\"M 48.78125 52.59375 \r\nL 48.78125 44.1875 \r\nQ 44.96875 46.296875 41.140625 47.34375 \r\nQ 37.3125 48.390625 33.40625 48.390625 \r\nQ 24.65625 48.390625 19.8125 42.84375 \r\nQ 14.984375 37.3125 14.984375 27.296875 \r\nQ 14.984375 17.28125 19.8125 11.734375 \r\nQ 24.65625 6.203125 33.40625 6.203125 \r\nQ 37.3125 6.203125 41.140625 7.25 \r\nQ 44.96875 8.296875 48.78125 10.40625 \r\nL 48.78125 2.09375 \r\nQ 45.015625 0.34375 40.984375 -0.53125 \r\nQ 36.96875 -1.421875 32.421875 -1.421875 \r\nQ 20.0625 -1.421875 12.78125 6.34375 \r\nQ 5.515625 14.109375 5.515625 27.296875 \r\nQ 5.515625 40.671875 12.859375 48.328125 \r\nQ 20.21875 56 33.015625 56 \r\nQ 37.15625 56 41.109375 55.140625 \r\nQ 45.0625 54.296875 48.78125 52.59375 \r\nz\r\n\" id=\"DejaVuSans-99\"/>\r\n       <path d=\"M 44.28125 53.078125 \r\nL 44.28125 44.578125 \r\nQ 40.484375 46.53125 36.375 47.5 \r\nQ 32.28125 48.484375 27.875 48.484375 \r\nQ 21.1875 48.484375 17.84375 46.4375 \r\nQ 14.5 44.390625 14.5 40.28125 \r\nQ 14.5 37.15625 16.890625 35.375 \r\nQ 19.28125 33.59375 26.515625 31.984375 \r\nL 29.59375 31.296875 \r\nQ 39.15625 29.25 43.1875 25.515625 \r\nQ 47.21875 21.78125 47.21875 15.09375 \r\nQ 47.21875 7.46875 41.1875 3.015625 \r\nQ 35.15625 -1.421875 24.609375 -1.421875 \r\nQ 20.21875 -1.421875 15.453125 -0.5625 \r\nQ 10.6875 0.296875 5.421875 2 \r\nL 5.421875 11.28125 \r\nQ 10.40625 8.6875 15.234375 7.390625 \r\nQ 20.0625 6.109375 24.8125 6.109375 \r\nQ 31.15625 6.109375 34.5625 8.28125 \r\nQ 37.984375 10.453125 37.984375 14.40625 \r\nQ 37.984375 18.0625 35.515625 20.015625 \r\nQ 33.0625 21.96875 24.703125 23.78125 \r\nL 21.578125 24.515625 \r\nQ 13.234375 26.265625 9.515625 29.90625 \r\nQ 5.8125 33.546875 5.8125 39.890625 \r\nQ 5.8125 47.609375 11.28125 51.796875 \r\nQ 16.75 56 26.8125 56 \r\nQ 31.78125 56 36.171875 55.265625 \r\nQ 40.578125 54.546875 44.28125 53.078125 \r\nz\r\n\" id=\"DejaVuSans-115\"/>\r\n       <path d=\"M 3.328125 72.90625 \r\nL 13.28125 72.90625 \r\nL 28.609375 11.28125 \r\nL 43.890625 72.90625 \r\nL 54.984375 72.90625 \r\nL 70.3125 11.28125 \r\nL 85.59375 72.90625 \r\nL 95.609375 72.90625 \r\nL 77.296875 0 \r\nL 64.890625 0 \r\nL 49.515625 63.28125 \r\nL 33.984375 0 \r\nL 21.578125 0 \r\nz\r\n\" id=\"DejaVuSans-87\"/>\r\n       <path d=\"M 56.203125 29.59375 \r\nL 56.203125 25.203125 \r\nL 14.890625 25.203125 \r\nQ 15.484375 15.921875 20.484375 11.0625 \r\nQ 25.484375 6.203125 34.421875 6.203125 \r\nQ 39.59375 6.203125 44.453125 7.46875 \r\nQ 49.3125 8.734375 54.109375 11.28125 \r\nL 54.109375 2.78125 \r\nQ 49.265625 0.734375 44.1875 -0.34375 \r\nQ 39.109375 -1.421875 33.890625 -1.421875 \r\nQ 20.796875 -1.421875 13.15625 6.1875 \r\nQ 5.515625 13.8125 5.515625 26.8125 \r\nQ 5.515625 40.234375 12.765625 48.109375 \r\nQ 20.015625 56 32.328125 56 \r\nQ 43.359375 56 49.78125 48.890625 \r\nQ 56.203125 41.796875 56.203125 29.59375 \r\nz\r\nM 47.21875 32.234375 \r\nQ 47.125 39.59375 43.09375 43.984375 \r\nQ 39.0625 48.390625 32.421875 48.390625 \r\nQ 24.90625 48.390625 20.390625 44.140625 \r\nQ 15.875 39.890625 15.1875 32.171875 \r\nz\r\n\" id=\"DejaVuSans-101\"/>\r\n       <path d=\"M 48.6875 27.296875 \r\nQ 48.6875 37.203125 44.609375 42.84375 \r\nQ 40.53125 48.484375 33.40625 48.484375 \r\nQ 26.265625 48.484375 22.1875 42.84375 \r\nQ 18.109375 37.203125 18.109375 27.296875 \r\nQ 18.109375 17.390625 22.1875 11.75 \r\nQ 26.265625 6.109375 33.40625 6.109375 \r\nQ 40.53125 6.109375 44.609375 11.75 \r\nQ 48.6875 17.390625 48.6875 27.296875 \r\nz\r\nM 18.109375 46.390625 \r\nQ 20.953125 51.265625 25.265625 53.625 \r\nQ 29.59375 56 35.59375 56 \r\nQ 45.5625 56 51.78125 48.09375 \r\nQ 58.015625 40.1875 58.015625 27.296875 \r\nQ 58.015625 14.40625 51.78125 6.484375 \r\nQ 45.5625 -1.421875 35.59375 -1.421875 \r\nQ 29.59375 -1.421875 25.265625 0.953125 \r\nQ 20.953125 3.328125 18.109375 8.203125 \r\nL 18.109375 0 \r\nL 9.078125 0 \r\nL 9.078125 75.984375 \r\nL 18.109375 75.984375 \r\nz\r\n\" id=\"DejaVuSans-98\"/>\r\n      </defs>\r\n      <g transform=\"translate(49.214375 454.794375)rotate(-90)scale(0.1 -0.1)\">\r\n       <use xlink:href=\"#DejaVuSans-65\"/>\r\n       <use x=\"68.314453\" xlink:href=\"#DejaVuSans-121\"/>\r\n       <use x=\"127.494141\" xlink:href=\"#DejaVuSans-105\"/>\r\n       <use x=\"155.277344\" xlink:href=\"#DejaVuSans-116\"/>\r\n       <use x=\"194.486328\" xlink:href=\"#DejaVuSans-105\"/>\r\n       <use x=\"222.269531\" xlink:href=\"#DejaVuSans-32\"/>\r\n       <use x=\"254.056641\" xlink:href=\"#DejaVuSans-65\"/>\r\n       <use x=\"322.464844\" xlink:href=\"#DejaVuSans-110\"/>\r\n       <use x=\"385.84375\" xlink:href=\"#DejaVuSans-97\"/>\r\n       <use x=\"447.123047\" xlink:href=\"#DejaVuSans-108\"/>\r\n       <use x=\"474.90625\" xlink:href=\"#DejaVuSans-121\"/>\r\n       <use x=\"534.085938\" xlink:href=\"#DejaVuSans-116\"/>\r\n       <use x=\"573.294922\" xlink:href=\"#DejaVuSans-105\"/>\r\n       <use x=\"601.078125\" xlink:href=\"#DejaVuSans-99\"/>\r\n       <use x=\"656.058594\" xlink:href=\"#DejaVuSans-115\"/>\r\n       <use x=\"708.158203\" xlink:href=\"#DejaVuSans-32\"/>\r\n       <use x=\"739.945312\" xlink:href=\"#DejaVuSans-87\"/>\r\n       <use x=\"838.744141\" xlink:href=\"#DejaVuSans-101\"/>\r\n       <use x=\"900.267578\" xlink:href=\"#DejaVuSans-98\"/>\r\n       <use x=\"963.744141\" xlink:href=\"#DejaVuSans-115\"/>\r\n       <use x=\"1015.84375\" xlink:href=\"#DejaVuSans-105\"/>\r\n       <use x=\"1043.626953\" xlink:href=\"#DejaVuSans-116\"/>\r\n       <use x=\"1082.835938\" xlink:href=\"#DejaVuSans-101\"/>\r\n      </g>\r\n     </g>\r\n    </g>\r\n    <g id=\"xtick_2\">\r\n     <g id=\"line2d_2\">\r\n      <g>\r\n       <use style=\"stroke:#000000;stroke-width:0.8;\" x=\"85.515\" xlink:href=\"#m153eee7ba5\" y=\"333.36\"/>\r\n      </g>\r\n     </g>\r\n     <g id=\"text_2\">\r\n      <!-- Bootcamp Alumni -->\r\n      <defs>\r\n       <path d=\"M 19.671875 34.8125 \r\nL 19.671875 8.109375 \r\nL 35.5 8.109375 \r\nQ 43.453125 8.109375 47.28125 11.40625 \r\nQ 51.125 14.703125 51.125 21.484375 \r\nQ 51.125 28.328125 47.28125 31.5625 \r\nQ 43.453125 34.8125 35.5 34.8125 \r\nz\r\nM 19.671875 64.796875 \r\nL 19.671875 42.828125 \r\nL 34.28125 42.828125 \r\nQ 41.5 42.828125 45.03125 45.53125 \r\nQ 48.578125 48.25 48.578125 53.8125 \r\nQ 48.578125 59.328125 45.03125 62.0625 \r\nQ 41.5 64.796875 34.28125 64.796875 \r\nz\r\nM 9.8125 72.90625 \r\nL 35.015625 72.90625 \r\nQ 46.296875 72.90625 52.390625 68.21875 \r\nQ 58.5 63.53125 58.5 54.890625 \r\nQ 58.5 48.1875 55.375 44.234375 \r\nQ 52.25 40.28125 46.1875 39.3125 \r\nQ 53.46875 37.75 57.5 32.78125 \r\nQ 61.53125 27.828125 61.53125 20.40625 \r\nQ 61.53125 10.640625 54.890625 5.3125 \r\nQ 48.25 0 35.984375 0 \r\nL 9.8125 0 \r\nz\r\n\" id=\"DejaVuSans-66\"/>\r\n       <path d=\"M 30.609375 48.390625 \r\nQ 23.390625 48.390625 19.1875 42.75 \r\nQ 14.984375 37.109375 14.984375 27.296875 \r\nQ 14.984375 17.484375 19.15625 11.84375 \r\nQ 23.34375 6.203125 30.609375 6.203125 \r\nQ 37.796875 6.203125 41.984375 11.859375 \r\nQ 46.1875 17.53125 46.1875 27.296875 \r\nQ 46.1875 37.015625 41.984375 42.703125 \r\nQ 37.796875 48.390625 30.609375 48.390625 \r\nz\r\nM 30.609375 56 \r\nQ 42.328125 56 49.015625 48.375 \r\nQ 55.71875 40.765625 55.71875 27.296875 \r\nQ 55.71875 13.875 49.015625 6.21875 \r\nQ 42.328125 -1.421875 30.609375 -1.421875 \r\nQ 18.84375 -1.421875 12.171875 6.21875 \r\nQ 5.515625 13.875 5.515625 27.296875 \r\nQ 5.515625 40.765625 12.171875 48.375 \r\nQ 18.84375 56 30.609375 56 \r\nz\r\n\" id=\"DejaVuSans-111\"/>\r\n       <path d=\"M 52 44.1875 \r\nQ 55.375 50.25 60.0625 53.125 \r\nQ 64.75 56 71.09375 56 \r\nQ 79.640625 56 84.28125 50.015625 \r\nQ 88.921875 44.046875 88.921875 33.015625 \r\nL 88.921875 0 \r\nL 79.890625 0 \r\nL 79.890625 32.71875 \r\nQ 79.890625 40.578125 77.09375 44.375 \r\nQ 74.3125 48.1875 68.609375 48.1875 \r\nQ 61.625 48.1875 57.5625 43.546875 \r\nQ 53.515625 38.921875 53.515625 30.90625 \r\nL 53.515625 0 \r\nL 44.484375 0 \r\nL 44.484375 32.71875 \r\nQ 44.484375 40.625 41.703125 44.40625 \r\nQ 38.921875 48.1875 33.109375 48.1875 \r\nQ 26.21875 48.1875 22.15625 43.53125 \r\nQ 18.109375 38.875 18.109375 30.90625 \r\nL 18.109375 0 \r\nL 9.078125 0 \r\nL 9.078125 54.6875 \r\nL 18.109375 54.6875 \r\nL 18.109375 46.1875 \r\nQ 21.1875 51.21875 25.484375 53.609375 \r\nQ 29.78125 56 35.6875 56 \r\nQ 41.65625 56 45.828125 52.96875 \r\nQ 50 49.953125 52 44.1875 \r\nz\r\n\" id=\"DejaVuSans-109\"/>\r\n       <path d=\"M 18.109375 8.203125 \r\nL 18.109375 -20.796875 \r\nL 9.078125 -20.796875 \r\nL 9.078125 54.6875 \r\nL 18.109375 54.6875 \r\nL 18.109375 46.390625 \r\nQ 20.953125 51.265625 25.265625 53.625 \r\nQ 29.59375 56 35.59375 56 \r\nQ 45.5625 56 51.78125 48.09375 \r\nQ 58.015625 40.1875 58.015625 27.296875 \r\nQ 58.015625 14.40625 51.78125 6.484375 \r\nQ 45.5625 -1.421875 35.59375 -1.421875 \r\nQ 29.59375 -1.421875 25.265625 0.953125 \r\nQ 20.953125 3.328125 18.109375 8.203125 \r\nz\r\nM 48.6875 27.296875 \r\nQ 48.6875 37.203125 44.609375 42.84375 \r\nQ 40.53125 48.484375 33.40625 48.484375 \r\nQ 26.265625 48.484375 22.1875 42.84375 \r\nQ 18.109375 37.203125 18.109375 27.296875 \r\nQ 18.109375 17.390625 22.1875 11.75 \r\nQ 26.265625 6.109375 33.40625 6.109375 \r\nQ 40.53125 6.109375 44.609375 11.75 \r\nQ 48.6875 17.390625 48.6875 27.296875 \r\nz\r\n\" id=\"DejaVuSans-112\"/>\r\n       <path d=\"M 8.5 21.578125 \r\nL 8.5 54.6875 \r\nL 17.484375 54.6875 \r\nL 17.484375 21.921875 \r\nQ 17.484375 14.15625 20.5 10.265625 \r\nQ 23.53125 6.390625 29.59375 6.390625 \r\nQ 36.859375 6.390625 41.078125 11.03125 \r\nQ 45.3125 15.671875 45.3125 23.6875 \r\nL 45.3125 54.6875 \r\nL 54.296875 54.6875 \r\nL 54.296875 0 \r\nL 45.3125 0 \r\nL 45.3125 8.40625 \r\nQ 42.046875 3.421875 37.71875 1 \r\nQ 33.40625 -1.421875 27.6875 -1.421875 \r\nQ 18.265625 -1.421875 13.375 4.4375 \r\nQ 8.5 10.296875 8.5 21.578125 \r\nz\r\nM 31.109375 56 \r\nz\r\n\" id=\"DejaVuSans-117\"/>\r\n      </defs>\r\n      <g transform=\"translate(88.274375 429.085)rotate(-90)scale(0.1 -0.1)\">\r\n       <use xlink:href=\"#DejaVuSans-66\"/>\r\n       <use x=\"68.603516\" xlink:href=\"#DejaVuSans-111\"/>\r\n       <use x=\"129.785156\" xlink:href=\"#DejaVuSans-111\"/>\r\n       <use x=\"190.966797\" xlink:href=\"#DejaVuSans-116\"/>\r\n       <use x=\"230.175781\" xlink:href=\"#DejaVuSans-99\"/>\r\n       <use x=\"285.15625\" xlink:href=\"#DejaVuSans-97\"/>\r\n       <use x=\"346.435547\" xlink:href=\"#DejaVuSans-109\"/>\r\n       <use x=\"443.847656\" xlink:href=\"#DejaVuSans-112\"/>\r\n       <use x=\"507.324219\" xlink:href=\"#DejaVuSans-32\"/>\r\n       <use x=\"539.111328\" xlink:href=\"#DejaVuSans-65\"/>\r\n       <use x=\"607.519531\" xlink:href=\"#DejaVuSans-108\"/>\r\n       <use x=\"635.302734\" xlink:href=\"#DejaVuSans-117\"/>\r\n       <use x=\"698.681641\" xlink:href=\"#DejaVuSans-109\"/>\r\n       <use x=\"796.09375\" xlink:href=\"#DejaVuSans-110\"/>\r\n       <use x=\"859.472656\" xlink:href=\"#DejaVuSans-105\"/>\r\n      </g>\r\n     </g>\r\n    </g>\r\n    <g id=\"xtick_3\">\r\n     <g id=\"line2d_3\">\r\n      <g>\r\n       <use style=\"stroke:#000000;stroke-width:0.8;\" x=\"124.575\" xlink:href=\"#m153eee7ba5\" y=\"333.36\"/>\r\n      </g>\r\n     </g>\r\n     <g id=\"text_3\">\r\n      <!-- ESIH -->\r\n      <defs>\r\n       <path d=\"M 9.8125 72.90625 \r\nL 55.90625 72.90625 \r\nL 55.90625 64.59375 \r\nL 19.671875 64.59375 \r\nL 19.671875 43.015625 \r\nL 54.390625 43.015625 \r\nL 54.390625 34.71875 \r\nL 19.671875 34.71875 \r\nL 19.671875 8.296875 \r\nL 56.78125 8.296875 \r\nL 56.78125 0 \r\nL 9.8125 0 \r\nz\r\n\" id=\"DejaVuSans-69\"/>\r\n       <path d=\"M 53.515625 70.515625 \r\nL 53.515625 60.890625 \r\nQ 47.90625 63.578125 42.921875 64.890625 \r\nQ 37.9375 66.21875 33.296875 66.21875 \r\nQ 25.25 66.21875 20.875 63.09375 \r\nQ 16.5 59.96875 16.5 54.203125 \r\nQ 16.5 49.359375 19.40625 46.890625 \r\nQ 22.3125 44.4375 30.421875 42.921875 \r\nL 36.375 41.703125 \r\nQ 47.40625 39.59375 52.65625 34.296875 \r\nQ 57.90625 29 57.90625 20.125 \r\nQ 57.90625 9.515625 50.796875 4.046875 \r\nQ 43.703125 -1.421875 29.984375 -1.421875 \r\nQ 24.8125 -1.421875 18.96875 -0.25 \r\nQ 13.140625 0.921875 6.890625 3.21875 \r\nL 6.890625 13.375 \r\nQ 12.890625 10.015625 18.65625 8.296875 \r\nQ 24.421875 6.59375 29.984375 6.59375 \r\nQ 38.421875 6.59375 43.015625 9.90625 \r\nQ 47.609375 13.234375 47.609375 19.390625 \r\nQ 47.609375 24.75 44.3125 27.78125 \r\nQ 41.015625 30.8125 33.5 32.328125 \r\nL 27.484375 33.5 \r\nQ 16.453125 35.6875 11.515625 40.375 \r\nQ 6.59375 45.0625 6.59375 53.421875 \r\nQ 6.59375 63.09375 13.40625 68.65625 \r\nQ 20.21875 74.21875 32.171875 74.21875 \r\nQ 37.3125 74.21875 42.625 73.28125 \r\nQ 47.953125 72.359375 53.515625 70.515625 \r\nz\r\n\" id=\"DejaVuSans-83\"/>\r\n       <path d=\"M 9.8125 72.90625 \r\nL 19.671875 72.90625 \r\nL 19.671875 0 \r\nL 9.8125 0 \r\nz\r\n\" id=\"DejaVuSans-73\"/>\r\n       <path d=\"M 9.8125 72.90625 \r\nL 19.671875 72.90625 \r\nL 19.671875 43.015625 \r\nL 55.515625 43.015625 \r\nL 55.515625 72.90625 \r\nL 65.375 72.90625 \r\nL 65.375 0 \r\nL 55.515625 0 \r\nL 55.515625 34.71875 \r\nL 19.671875 34.71875 \r\nL 19.671875 0 \r\nL 9.8125 0 \r\nz\r\n\" id=\"DejaVuSans-72\"/>\r\n      </defs>\r\n      <g transform=\"translate(127.334375 363.4975)rotate(-90)scale(0.1 -0.1)\">\r\n       <use xlink:href=\"#DejaVuSans-69\"/>\r\n       <use x=\"63.183594\" xlink:href=\"#DejaVuSans-83\"/>\r\n       <use x=\"126.660156\" xlink:href=\"#DejaVuSans-73\"/>\r\n       <use x=\"156.152344\" xlink:href=\"#DejaVuSans-72\"/>\r\n      </g>\r\n     </g>\r\n    </g>\r\n    <g id=\"xtick_4\">\r\n     <g id=\"line2d_4\">\r\n      <g>\r\n       <use style=\"stroke:#000000;stroke-width:0.8;\" x=\"163.635\" xlink:href=\"#m153eee7ba5\" y=\"333.36\"/>\r\n      </g>\r\n     </g>\r\n     <g id=\"text_4\">\r\n      <!-- Facebook -->\r\n      <defs>\r\n       <path d=\"M 9.8125 72.90625 \r\nL 51.703125 72.90625 \r\nL 51.703125 64.59375 \r\nL 19.671875 64.59375 \r\nL 19.671875 43.109375 \r\nL 48.578125 43.109375 \r\nL 48.578125 34.8125 \r\nL 19.671875 34.8125 \r\nL 19.671875 0 \r\nL 9.8125 0 \r\nz\r\n\" id=\"DejaVuSans-70\"/>\r\n       <path d=\"M 9.078125 75.984375 \r\nL 18.109375 75.984375 \r\nL 18.109375 31.109375 \r\nL 44.921875 54.6875 \r\nL 56.390625 54.6875 \r\nL 27.390625 29.109375 \r\nL 57.625 0 \r\nL 45.90625 0 \r\nL 18.109375 26.703125 \r\nL 18.109375 0 \r\nL 9.078125 0 \r\nz\r\n\" id=\"DejaVuSans-107\"/>\r\n      </defs>\r\n      <g transform=\"translate(166.394375 388.25375)rotate(-90)scale(0.1 -0.1)\">\r\n       <use xlink:href=\"#DejaVuSans-70\"/>\r\n       <use x=\"57.378906\" xlink:href=\"#DejaVuSans-97\"/>\r\n       <use x=\"118.658203\" xlink:href=\"#DejaVuSans-99\"/>\r\n       <use x=\"173.638672\" xlink:href=\"#DejaVuSans-101\"/>\r\n       <use x=\"235.162109\" xlink:href=\"#DejaVuSans-98\"/>\r\n       <use x=\"298.638672\" xlink:href=\"#DejaVuSans-111\"/>\r\n       <use x=\"359.820312\" xlink:href=\"#DejaVuSans-111\"/>\r\n       <use x=\"421.001953\" xlink:href=\"#DejaVuSans-107\"/>\r\n      </g>\r\n     </g>\r\n    </g>\r\n    <g id=\"xtick_5\">\r\n     <g id=\"line2d_5\">\r\n      <g>\r\n       <use style=\"stroke:#000000;stroke-width:0.8;\" x=\"202.695\" xlink:href=\"#m153eee7ba5\" y=\"333.36\"/>\r\n      </g>\r\n     </g>\r\n     <g id=\"text_5\">\r\n      <!-- Friend -->\r\n      <defs>\r\n       <path d=\"M 41.109375 46.296875 \r\nQ 39.59375 47.171875 37.8125 47.578125 \r\nQ 36.03125 48 33.890625 48 \r\nQ 26.265625 48 22.1875 43.046875 \r\nQ 18.109375 38.09375 18.109375 28.8125 \r\nL 18.109375 0 \r\nL 9.078125 0 \r\nL 9.078125 54.6875 \r\nL 18.109375 54.6875 \r\nL 18.109375 46.1875 \r\nQ 20.953125 51.171875 25.484375 53.578125 \r\nQ 30.03125 56 36.53125 56 \r\nQ 37.453125 56 38.578125 55.875 \r\nQ 39.703125 55.765625 41.0625 55.515625 \r\nz\r\n\" id=\"DejaVuSans-114\"/>\r\n       <path d=\"M 45.40625 46.390625 \r\nL 45.40625 75.984375 \r\nL 54.390625 75.984375 \r\nL 54.390625 0 \r\nL 45.40625 0 \r\nL 45.40625 8.203125 \r\nQ 42.578125 3.328125 38.25 0.953125 \r\nQ 33.9375 -1.421875 27.875 -1.421875 \r\nQ 17.96875 -1.421875 11.734375 6.484375 \r\nQ 5.515625 14.40625 5.515625 27.296875 \r\nQ 5.515625 40.1875 11.734375 48.09375 \r\nQ 17.96875 56 27.875 56 \r\nQ 33.9375 56 38.25 53.625 \r\nQ 42.578125 51.265625 45.40625 46.390625 \r\nz\r\nM 14.796875 27.296875 \r\nQ 14.796875 17.390625 18.875 11.75 \r\nQ 22.953125 6.109375 30.078125 6.109375 \r\nQ 37.203125 6.109375 41.296875 11.75 \r\nQ 45.40625 17.390625 45.40625 27.296875 \r\nQ 45.40625 37.203125 41.296875 42.84375 \r\nQ 37.203125 48.484375 30.078125 48.484375 \r\nQ 22.953125 48.484375 18.875 42.84375 \r\nQ 14.796875 37.203125 14.796875 27.296875 \r\nz\r\n\" id=\"DejaVuSans-100\"/>\r\n      </defs>\r\n      <g transform=\"translate(205.454375 371.82875)rotate(-90)scale(0.1 -0.1)\">\r\n       <use xlink:href=\"#DejaVuSans-70\"/>\r\n       <use x=\"57.410156\" xlink:href=\"#DejaVuSans-114\"/>\r\n       <use x=\"98.523438\" xlink:href=\"#DejaVuSans-105\"/>\r\n       <use x=\"126.306641\" xlink:href=\"#DejaVuSans-101\"/>\r\n       <use x=\"187.830078\" xlink:href=\"#DejaVuSans-110\"/>\r\n       <use x=\"251.208984\" xlink:href=\"#DejaVuSans-100\"/>\r\n      </g>\r\n     </g>\r\n    </g>\r\n    <g id=\"xtick_6\">\r\n     <g id=\"line2d_6\">\r\n      <g>\r\n       <use style=\"stroke:#000000;stroke-width:0.8;\" x=\"241.755\" xlink:href=\"#m153eee7ba5\" y=\"333.36\"/>\r\n      </g>\r\n     </g>\r\n     <g id=\"text_6\">\r\n      <!-- Instagram -->\r\n      <defs>\r\n       <path d=\"M 45.40625 27.984375 \r\nQ 45.40625 37.75 41.375 43.109375 \r\nQ 37.359375 48.484375 30.078125 48.484375 \r\nQ 22.859375 48.484375 18.828125 43.109375 \r\nQ 14.796875 37.75 14.796875 27.984375 \r\nQ 14.796875 18.265625 18.828125 12.890625 \r\nQ 22.859375 7.515625 30.078125 7.515625 \r\nQ 37.359375 7.515625 41.375 12.890625 \r\nQ 45.40625 18.265625 45.40625 27.984375 \r\nz\r\nM 54.390625 6.78125 \r\nQ 54.390625 -7.171875 48.1875 -13.984375 \r\nQ 42 -20.796875 29.203125 -20.796875 \r\nQ 24.46875 -20.796875 20.265625 -20.09375 \r\nQ 16.0625 -19.390625 12.109375 -17.921875 \r\nL 12.109375 -9.1875 \r\nQ 16.0625 -11.328125 19.921875 -12.34375 \r\nQ 23.78125 -13.375 27.78125 -13.375 \r\nQ 36.625 -13.375 41.015625 -8.765625 \r\nQ 45.40625 -4.15625 45.40625 5.171875 \r\nL 45.40625 9.625 \r\nQ 42.625 4.78125 38.28125 2.390625 \r\nQ 33.9375 0 27.875 0 \r\nQ 17.828125 0 11.671875 7.65625 \r\nQ 5.515625 15.328125 5.515625 27.984375 \r\nQ 5.515625 40.671875 11.671875 48.328125 \r\nQ 17.828125 56 27.875 56 \r\nQ 33.9375 56 38.28125 53.609375 \r\nQ 42.625 51.21875 45.40625 46.390625 \r\nL 45.40625 54.6875 \r\nL 54.390625 54.6875 \r\nz\r\n\" id=\"DejaVuSans-103\"/>\r\n      </defs>\r\n      <g transform=\"translate(244.514375 391.233437)rotate(-90)scale(0.1 -0.1)\">\r\n       <use xlink:href=\"#DejaVuSans-73\"/>\r\n       <use x=\"29.492188\" xlink:href=\"#DejaVuSans-110\"/>\r\n       <use x=\"92.871094\" xlink:href=\"#DejaVuSans-115\"/>\r\n       <use x=\"144.970703\" xlink:href=\"#DejaVuSans-116\"/>\r\n       <use x=\"184.179688\" xlink:href=\"#DejaVuSans-97\"/>\r\n       <use x=\"245.458984\" xlink:href=\"#DejaVuSans-103\"/>\r\n       <use x=\"308.935547\" xlink:href=\"#DejaVuSans-114\"/>\r\n       <use x=\"350.048828\" xlink:href=\"#DejaVuSans-97\"/>\r\n       <use x=\"411.328125\" xlink:href=\"#DejaVuSans-109\"/>\r\n      </g>\r\n     </g>\r\n    </g>\r\n    <g id=\"xtick_7\">\r\n     <g id=\"line2d_7\">\r\n      <g>\r\n       <use style=\"stroke:#000000;stroke-width:0.8;\" x=\"280.815\" xlink:href=\"#m153eee7ba5\" y=\"333.36\"/>\r\n      </g>\r\n     </g>\r\n     <g id=\"text_7\">\r\n      <!-- LinkedIn -->\r\n      <defs>\r\n       <path d=\"M 9.8125 72.90625 \r\nL 19.671875 72.90625 \r\nL 19.671875 8.296875 \r\nL 55.171875 8.296875 \r\nL 55.171875 0 \r\nL 9.8125 0 \r\nz\r\n\" id=\"DejaVuSans-76\"/>\r\n      </defs>\r\n      <g transform=\"translate(283.574375 382.6225)rotate(-90)scale(0.1 -0.1)\">\r\n       <use xlink:href=\"#DejaVuSans-76\"/>\r\n       <use x=\"55.712891\" xlink:href=\"#DejaVuSans-105\"/>\r\n       <use x=\"83.496094\" xlink:href=\"#DejaVuSans-110\"/>\r\n       <use x=\"146.875\" xlink:href=\"#DejaVuSans-107\"/>\r\n       <use x=\"204.738281\" xlink:href=\"#DejaVuSans-101\"/>\r\n       <use x=\"266.261719\" xlink:href=\"#DejaVuSans-100\"/>\r\n       <use x=\"329.738281\" xlink:href=\"#DejaVuSans-73\"/>\r\n       <use x=\"359.230469\" xlink:href=\"#DejaVuSans-110\"/>\r\n      </g>\r\n     </g>\r\n    </g>\r\n    <g id=\"xtick_8\">\r\n     <g id=\"line2d_8\">\r\n      <g>\r\n       <use style=\"stroke:#000000;stroke-width:0.8;\" x=\"319.875\" xlink:href=\"#m153eee7ba5\" y=\"333.36\"/>\r\n      </g>\r\n     </g>\r\n     <g id=\"text_8\">\r\n      <!-- WhatsApp -->\r\n      <defs>\r\n       <path d=\"M 54.890625 33.015625 \r\nL 54.890625 0 \r\nL 45.90625 0 \r\nL 45.90625 32.71875 \r\nQ 45.90625 40.484375 42.875 44.328125 \r\nQ 39.84375 48.1875 33.796875 48.1875 \r\nQ 26.515625 48.1875 22.3125 43.546875 \r\nQ 18.109375 38.921875 18.109375 30.90625 \r\nL 18.109375 0 \r\nL 9.078125 0 \r\nL 9.078125 75.984375 \r\nL 18.109375 75.984375 \r\nL 18.109375 46.1875 \r\nQ 21.34375 51.125 25.703125 53.5625 \r\nQ 30.078125 56 35.796875 56 \r\nQ 45.21875 56 50.046875 50.171875 \r\nQ 54.890625 44.34375 54.890625 33.015625 \r\nz\r\n\" id=\"DejaVuSans-104\"/>\r\n      </defs>\r\n      <g transform=\"translate(322.634375 391.380312)rotate(-90)scale(0.1 -0.1)\">\r\n       <use xlink:href=\"#DejaVuSans-87\"/>\r\n       <use x=\"98.876953\" xlink:href=\"#DejaVuSans-104\"/>\r\n       <use x=\"162.255859\" xlink:href=\"#DejaVuSans-97\"/>\r\n       <use x=\"223.535156\" xlink:href=\"#DejaVuSans-116\"/>\r\n       <use x=\"262.744141\" xlink:href=\"#DejaVuSans-115\"/>\r\n       <use x=\"314.84375\" xlink:href=\"#DejaVuSans-65\"/>\r\n       <use x=\"383.251953\" xlink:href=\"#DejaVuSans-112\"/>\r\n       <use x=\"446.728516\" xlink:href=\"#DejaVuSans-112\"/>\r\n      </g>\r\n     </g>\r\n    </g>\r\n    <g id=\"xtick_9\">\r\n     <g id=\"line2d_9\">\r\n      <g>\r\n       <use style=\"stroke:#000000;stroke-width:0.8;\" x=\"358.935\" xlink:href=\"#m153eee7ba5\" y=\"333.36\"/>\r\n      </g>\r\n     </g>\r\n     <g id=\"text_9\">\r\n      <!-- other -->\r\n      <g transform=\"translate(361.694375 367.000625)rotate(-90)scale(0.1 -0.1)\">\r\n       <use xlink:href=\"#DejaVuSans-111\"/>\r\n       <use x=\"61.181641\" xlink:href=\"#DejaVuSans-116\"/>\r\n       <use x=\"100.390625\" xlink:href=\"#DejaVuSans-104\"/>\r\n       <use x=\"163.769531\" xlink:href=\"#DejaVuSans-101\"/>\r\n       <use x=\"225.292969\" xlink:href=\"#DejaVuSans-114\"/>\r\n      </g>\r\n     </g>\r\n    </g>\r\n    <g id=\"xtick_10\">\r\n     <g id=\"line2d_10\">\r\n      <g>\r\n       <use style=\"stroke:#000000;stroke-width:0.8;\" x=\"397.995\" xlink:href=\"#m153eee7ba5\" y=\"333.36\"/>\r\n      </g>\r\n     </g>\r\n     <g id=\"text_10\">\r\n      <!-- unknown -->\r\n      <defs>\r\n       <path d=\"M 4.203125 54.6875 \r\nL 13.1875 54.6875 \r\nL 24.421875 12.015625 \r\nL 35.59375 54.6875 \r\nL 46.1875 54.6875 \r\nL 57.421875 12.015625 \r\nL 68.609375 54.6875 \r\nL 77.59375 54.6875 \r\nL 63.28125 0 \r\nL 52.6875 0 \r\nL 40.921875 44.828125 \r\nL 29.109375 0 \r\nL 18.5 0 \r\nz\r\n\" id=\"DejaVuSans-119\"/>\r\n      </defs>\r\n      <g transform=\"translate(400.754375 385.7975)rotate(-90)scale(0.1 -0.1)\">\r\n       <use xlink:href=\"#DejaVuSans-117\"/>\r\n       <use x=\"63.378906\" xlink:href=\"#DejaVuSans-110\"/>\r\n       <use x=\"126.757812\" xlink:href=\"#DejaVuSans-107\"/>\r\n       <use x=\"184.667969\" xlink:href=\"#DejaVuSans-110\"/>\r\n       <use x=\"248.046875\" xlink:href=\"#DejaVuSans-111\"/>\r\n       <use x=\"309.228516\" xlink:href=\"#DejaVuSans-119\"/>\r\n       <use x=\"391.015625\" xlink:href=\"#DejaVuSans-110\"/>\r\n      </g>\r\n     </g>\r\n    </g>\r\n    <g id=\"text_11\">\r\n     <!-- hear_AA -->\r\n     <defs>\r\n      <path d=\"M 50.984375 -16.609375 \r\nL 50.984375 -23.578125 \r\nL -0.984375 -23.578125 \r\nL -0.984375 -16.609375 \r\nz\r\n\" id=\"DejaVuSans-95\"/>\r\n     </defs>\r\n     <g transform=\"translate(201.517969 466.392812)scale(0.1 -0.1)\">\r\n      <use xlink:href=\"#DejaVuSans-104\"/>\r\n      <use x=\"63.378906\" xlink:href=\"#DejaVuSans-101\"/>\r\n      <use x=\"124.902344\" xlink:href=\"#DejaVuSans-97\"/>\r\n      <use x=\"186.181641\" xlink:href=\"#DejaVuSans-114\"/>\r\n      <use x=\"227.294922\" xlink:href=\"#DejaVuSans-95\"/>\r\n      <use x=\"277.294922\" xlink:href=\"#DejaVuSans-65\"/>\r\n      <use x=\"345.734375\" xlink:href=\"#DejaVuSans-65\"/>\r\n     </g>\r\n    </g>\r\n   </g>\r\n   <g id=\"matplotlib.axis_2\">\r\n    <g id=\"ytick_1\">\r\n     <g id=\"line2d_11\">\r\n      <defs>\r\n       <path d=\"M 0 0 \r\nL -3.5 0 \r\n\" id=\"mf88b5b5bac\" style=\"stroke:#000000;stroke-width:0.8;\"/>\r\n      </defs>\r\n      <g>\r\n       <use style=\"stroke:#000000;stroke-width:0.8;\" x=\"26.925\" xlink:href=\"#mf88b5b5bac\" y=\"333.36\"/>\r\n      </g>\r\n     </g>\r\n     <g id=\"text_12\">\r\n      <!-- 0 -->\r\n      <defs>\r\n       <path d=\"M 31.78125 66.40625 \r\nQ 24.171875 66.40625 20.328125 58.90625 \r\nQ 16.5 51.421875 16.5 36.375 \r\nQ 16.5 21.390625 20.328125 13.890625 \r\nQ 24.171875 6.390625 31.78125 6.390625 \r\nQ 39.453125 6.390625 43.28125 13.890625 \r\nQ 47.125 21.390625 47.125 36.375 \r\nQ 47.125 51.421875 43.28125 58.90625 \r\nQ 39.453125 66.40625 31.78125 66.40625 \r\nz\r\nM 31.78125 74.21875 \r\nQ 44.046875 74.21875 50.515625 64.515625 \r\nQ 56.984375 54.828125 56.984375 36.375 \r\nQ 56.984375 17.96875 50.515625 8.265625 \r\nQ 44.046875 -1.421875 31.78125 -1.421875 \r\nQ 19.53125 -1.421875 13.0625 8.265625 \r\nQ 6.59375 17.96875 6.59375 36.375 \r\nQ 6.59375 54.828125 13.0625 64.515625 \r\nQ 19.53125 74.21875 31.78125 74.21875 \r\nz\r\n\" id=\"DejaVuSans-48\"/>\r\n      </defs>\r\n      <g transform=\"translate(13.5625 337.159219)scale(0.1 -0.1)\">\r\n       <use xlink:href=\"#DejaVuSans-48\"/>\r\n      </g>\r\n     </g>\r\n    </g>\r\n    <g id=\"ytick_2\">\r\n     <g id=\"line2d_12\">\r\n      <g>\r\n       <use style=\"stroke:#000000;stroke-width:0.8;\" x=\"26.925\" xlink:href=\"#mf88b5b5bac\" y=\"278.863759\"/>\r\n      </g>\r\n     </g>\r\n     <g id=\"text_13\">\r\n      <!-- 10 -->\r\n      <defs>\r\n       <path d=\"M 12.40625 8.296875 \r\nL 28.515625 8.296875 \r\nL 28.515625 63.921875 \r\nL 10.984375 60.40625 \r\nL 10.984375 69.390625 \r\nL 28.421875 72.90625 \r\nL 38.28125 72.90625 \r\nL 38.28125 8.296875 \r\nL 54.390625 8.296875 \r\nL 54.390625 0 \r\nL 12.40625 0 \r\nz\r\n\" id=\"DejaVuSans-49\"/>\r\n      </defs>\r\n      <g transform=\"translate(7.2 282.662978)scale(0.1 -0.1)\">\r\n       <use xlink:href=\"#DejaVuSans-49\"/>\r\n       <use x=\"63.623047\" xlink:href=\"#DejaVuSans-48\"/>\r\n      </g>\r\n     </g>\r\n    </g>\r\n    <g id=\"ytick_3\">\r\n     <g id=\"line2d_13\">\r\n      <g>\r\n       <use style=\"stroke:#000000;stroke-width:0.8;\" x=\"26.925\" xlink:href=\"#mf88b5b5bac\" y=\"224.367519\"/>\r\n      </g>\r\n     </g>\r\n     <g id=\"text_14\">\r\n      <!-- 20 -->\r\n      <defs>\r\n       <path d=\"M 19.1875 8.296875 \r\nL 53.609375 8.296875 \r\nL 53.609375 0 \r\nL 7.328125 0 \r\nL 7.328125 8.296875 \r\nQ 12.9375 14.109375 22.625 23.890625 \r\nQ 32.328125 33.6875 34.8125 36.53125 \r\nQ 39.546875 41.84375 41.421875 45.53125 \r\nQ 43.3125 49.21875 43.3125 52.78125 \r\nQ 43.3125 58.59375 39.234375 62.25 \r\nQ 35.15625 65.921875 28.609375 65.921875 \r\nQ 23.96875 65.921875 18.8125 64.3125 \r\nQ 13.671875 62.703125 7.8125 59.421875 \r\nL 7.8125 69.390625 \r\nQ 13.765625 71.78125 18.9375 73 \r\nQ 24.125 74.21875 28.421875 74.21875 \r\nQ 39.75 74.21875 46.484375 68.546875 \r\nQ 53.21875 62.890625 53.21875 53.421875 \r\nQ 53.21875 48.921875 51.53125 44.890625 \r\nQ 49.859375 40.875 45.40625 35.40625 \r\nQ 44.1875 33.984375 37.640625 27.21875 \r\nQ 31.109375 20.453125 19.1875 8.296875 \r\nz\r\n\" id=\"DejaVuSans-50\"/>\r\n      </defs>\r\n      <g transform=\"translate(7.2 228.166738)scale(0.1 -0.1)\">\r\n       <use xlink:href=\"#DejaVuSans-50\"/>\r\n       <use x=\"63.623047\" xlink:href=\"#DejaVuSans-48\"/>\r\n      </g>\r\n     </g>\r\n    </g>\r\n    <g id=\"ytick_4\">\r\n     <g id=\"line2d_14\">\r\n      <g>\r\n       <use style=\"stroke:#000000;stroke-width:0.8;\" x=\"26.925\" xlink:href=\"#mf88b5b5bac\" y=\"169.871278\"/>\r\n      </g>\r\n     </g>\r\n     <g id=\"text_15\">\r\n      <!-- 30 -->\r\n      <defs>\r\n       <path d=\"M 40.578125 39.3125 \r\nQ 47.65625 37.796875 51.625 33 \r\nQ 55.609375 28.21875 55.609375 21.1875 \r\nQ 55.609375 10.40625 48.1875 4.484375 \r\nQ 40.765625 -1.421875 27.09375 -1.421875 \r\nQ 22.515625 -1.421875 17.65625 -0.515625 \r\nQ 12.796875 0.390625 7.625 2.203125 \r\nL 7.625 11.71875 \r\nQ 11.71875 9.328125 16.59375 8.109375 \r\nQ 21.484375 6.890625 26.8125 6.890625 \r\nQ 36.078125 6.890625 40.9375 10.546875 \r\nQ 45.796875 14.203125 45.796875 21.1875 \r\nQ 45.796875 27.640625 41.28125 31.265625 \r\nQ 36.765625 34.90625 28.71875 34.90625 \r\nL 20.21875 34.90625 \r\nL 20.21875 43.015625 \r\nL 29.109375 43.015625 \r\nQ 36.375 43.015625 40.234375 45.921875 \r\nQ 44.09375 48.828125 44.09375 54.296875 \r\nQ 44.09375 59.90625 40.109375 62.90625 \r\nQ 36.140625 65.921875 28.71875 65.921875 \r\nQ 24.65625 65.921875 20.015625 65.03125 \r\nQ 15.375 64.15625 9.8125 62.3125 \r\nL 9.8125 71.09375 \r\nQ 15.4375 72.65625 20.34375 73.4375 \r\nQ 25.25 74.21875 29.59375 74.21875 \r\nQ 40.828125 74.21875 47.359375 69.109375 \r\nQ 53.90625 64.015625 53.90625 55.328125 \r\nQ 53.90625 49.265625 50.4375 45.09375 \r\nQ 46.96875 40.921875 40.578125 39.3125 \r\nz\r\n\" id=\"DejaVuSans-51\"/>\r\n      </defs>\r\n      <g transform=\"translate(7.2 173.670497)scale(0.1 -0.1)\">\r\n       <use xlink:href=\"#DejaVuSans-51\"/>\r\n       <use x=\"63.623047\" xlink:href=\"#DejaVuSans-48\"/>\r\n      </g>\r\n     </g>\r\n    </g>\r\n    <g id=\"ytick_5\">\r\n     <g id=\"line2d_15\">\r\n      <g>\r\n       <use style=\"stroke:#000000;stroke-width:0.8;\" x=\"26.925\" xlink:href=\"#mf88b5b5bac\" y=\"115.375038\"/>\r\n      </g>\r\n     </g>\r\n     <g id=\"text_16\">\r\n      <!-- 40 -->\r\n      <defs>\r\n       <path d=\"M 37.796875 64.3125 \r\nL 12.890625 25.390625 \r\nL 37.796875 25.390625 \r\nz\r\nM 35.203125 72.90625 \r\nL 47.609375 72.90625 \r\nL 47.609375 25.390625 \r\nL 58.015625 25.390625 \r\nL 58.015625 17.1875 \r\nL 47.609375 17.1875 \r\nL 47.609375 0 \r\nL 37.796875 0 \r\nL 37.796875 17.1875 \r\nL 4.890625 17.1875 \r\nL 4.890625 26.703125 \r\nz\r\n\" id=\"DejaVuSans-52\"/>\r\n      </defs>\r\n      <g transform=\"translate(7.2 119.174256)scale(0.1 -0.1)\">\r\n       <use xlink:href=\"#DejaVuSans-52\"/>\r\n       <use x=\"63.623047\" xlink:href=\"#DejaVuSans-48\"/>\r\n      </g>\r\n     </g>\r\n    </g>\r\n    <g id=\"ytick_6\">\r\n     <g id=\"line2d_16\">\r\n      <g>\r\n       <use style=\"stroke:#000000;stroke-width:0.8;\" x=\"26.925\" xlink:href=\"#mf88b5b5bac\" y=\"60.878797\"/>\r\n      </g>\r\n     </g>\r\n     <g id=\"text_17\">\r\n      <!-- 50 -->\r\n      <defs>\r\n       <path d=\"M 10.796875 72.90625 \r\nL 49.515625 72.90625 \r\nL 49.515625 64.59375 \r\nL 19.828125 64.59375 \r\nL 19.828125 46.734375 \r\nQ 21.96875 47.46875 24.109375 47.828125 \r\nQ 26.265625 48.1875 28.421875 48.1875 \r\nQ 40.625 48.1875 47.75 41.5 \r\nQ 54.890625 34.8125 54.890625 23.390625 \r\nQ 54.890625 11.625 47.5625 5.09375 \r\nQ 40.234375 -1.421875 26.90625 -1.421875 \r\nQ 22.3125 -1.421875 17.546875 -0.640625 \r\nQ 12.796875 0.140625 7.71875 1.703125 \r\nL 7.71875 11.625 \r\nQ 12.109375 9.234375 16.796875 8.0625 \r\nQ 21.484375 6.890625 26.703125 6.890625 \r\nQ 35.15625 6.890625 40.078125 11.328125 \r\nQ 45.015625 15.765625 45.015625 23.390625 \r\nQ 45.015625 31 40.078125 35.4375 \r\nQ 35.15625 39.890625 26.703125 39.890625 \r\nQ 22.75 39.890625 18.8125 39.015625 \r\nQ 14.890625 38.140625 10.796875 36.28125 \r\nz\r\n\" id=\"DejaVuSans-53\"/>\r\n      </defs>\r\n      <g transform=\"translate(7.2 64.678016)scale(0.1 -0.1)\">\r\n       <use xlink:href=\"#DejaVuSans-53\"/>\r\n       <use x=\"63.623047\" xlink:href=\"#DejaVuSans-48\"/>\r\n      </g>\r\n     </g>\r\n    </g>\r\n   </g>\r\n   <g id=\"patch_23\">\r\n    <path d=\"M 26.925 333.36 \r\nL 26.925 7.2 \r\n\" style=\"fill:none;stroke:#000000;stroke-linecap:square;stroke-linejoin:miter;stroke-width:0.8;\"/>\r\n   </g>\r\n   <g id=\"patch_24\">\r\n    <path d=\"M 417.525 333.36 \r\nL 417.525 7.2 \r\n\" style=\"fill:none;stroke:#000000;stroke-linecap:square;stroke-linejoin:miter;stroke-width:0.8;\"/>\r\n   </g>\r\n   <g id=\"patch_25\">\r\n    <path d=\"M 26.925 333.36 \r\nL 417.525 333.36 \r\n\" style=\"fill:none;stroke:#000000;stroke-linecap:square;stroke-linejoin:miter;stroke-width:0.8;\"/>\r\n   </g>\r\n   <g id=\"patch_26\">\r\n    <path d=\"M 26.925 7.2 \r\nL 417.525 7.2 \r\n\" style=\"fill:none;stroke:#000000;stroke-linecap:square;stroke-linejoin:miter;stroke-width:0.8;\"/>\r\n   </g>\r\n   <g id=\"legend_1\">\r\n    <g id=\"patch_27\">\r\n     <path d=\"M 344.051563 59.234375 \r\nL 410.525 59.234375 \r\nQ 412.525 59.234375 412.525 57.234375 \r\nL 412.525 14.2 \r\nQ 412.525 12.2 410.525 12.2 \r\nL 344.051563 12.2 \r\nQ 342.051563 12.2 342.051563 14.2 \r\nL 342.051563 57.234375 \r\nQ 342.051563 59.234375 344.051563 59.234375 \r\nz\r\n\" style=\"fill:#ffffff;opacity:0.8;stroke:#cccccc;stroke-linejoin:miter;\"/>\r\n    </g>\r\n    <g id=\"text_18\">\r\n     <!-- gender -->\r\n     <g transform=\"translate(359.5625 23.798437)scale(0.1 -0.1)\">\r\n      <use xlink:href=\"#DejaVuSans-103\"/>\r\n      <use x=\"63.476562\" xlink:href=\"#DejaVuSans-101\"/>\r\n      <use x=\"125\" xlink:href=\"#DejaVuSans-110\"/>\r\n      <use x=\"188.378906\" xlink:href=\"#DejaVuSans-100\"/>\r\n      <use x=\"251.855469\" xlink:href=\"#DejaVuSans-101\"/>\r\n      <use x=\"313.378906\" xlink:href=\"#DejaVuSans-114\"/>\r\n     </g>\r\n    </g>\r\n    <g id=\"patch_28\">\r\n     <path d=\"M 346.051563 38.476562 \r\nL 366.051563 38.476562 \r\nL 366.051563 31.476562 \r\nL 346.051563 31.476562 \r\nz\r\n\" style=\"fill:#1f77b4;\"/>\r\n    </g>\r\n    <g id=\"text_19\">\r\n     <!-- female -->\r\n     <defs>\r\n      <path d=\"M 37.109375 75.984375 \r\nL 37.109375 68.5 \r\nL 28.515625 68.5 \r\nQ 23.6875 68.5 21.796875 66.546875 \r\nQ 19.921875 64.59375 19.921875 59.515625 \r\nL 19.921875 54.6875 \r\nL 34.71875 54.6875 \r\nL 34.71875 47.703125 \r\nL 19.921875 47.703125 \r\nL 19.921875 0 \r\nL 10.890625 0 \r\nL 10.890625 47.703125 \r\nL 2.296875 47.703125 \r\nL 2.296875 54.6875 \r\nL 10.890625 54.6875 \r\nL 10.890625 58.5 \r\nQ 10.890625 67.625 15.140625 71.796875 \r\nQ 19.390625 75.984375 28.609375 75.984375 \r\nz\r\n\" id=\"DejaVuSans-102\"/>\r\n     </defs>\r\n     <g transform=\"translate(374.051563 38.476562)scale(0.1 -0.1)\">\r\n      <use xlink:href=\"#DejaVuSans-102\"/>\r\n      <use x=\"35.205078\" xlink:href=\"#DejaVuSans-101\"/>\r\n      <use x=\"96.728516\" xlink:href=\"#DejaVuSans-109\"/>\r\n      <use x=\"194.140625\" xlink:href=\"#DejaVuSans-97\"/>\r\n      <use x=\"255.419922\" xlink:href=\"#DejaVuSans-108\"/>\r\n      <use x=\"283.203125\" xlink:href=\"#DejaVuSans-101\"/>\r\n     </g>\r\n    </g>\r\n    <g id=\"patch_29\">\r\n     <path d=\"M 346.051563 53.154688 \r\nL 366.051563 53.154688 \r\nL 366.051563 46.154688 \r\nL 346.051563 46.154688 \r\nz\r\n\" style=\"fill:#ff7f0e;\"/>\r\n    </g>\r\n    <g id=\"text_20\">\r\n     <!-- male -->\r\n     <g transform=\"translate(374.051563 53.154688)scale(0.1 -0.1)\">\r\n      <use xlink:href=\"#DejaVuSans-109\"/>\r\n      <use x=\"97.412109\" xlink:href=\"#DejaVuSans-97\"/>\r\n      <use x=\"158.691406\" xlink:href=\"#DejaVuSans-108\"/>\r\n      <use x=\"186.474609\" xlink:href=\"#DejaVuSans-101\"/>\r\n     </g>\r\n    </g>\r\n   </g>\r\n  </g>\r\n </g>\r\n <defs>\r\n  <clipPath id=\"p642210ed2a\">\r\n   <rect height=\"326.16\" width=\"390.6\" x=\"26.925\" y=\"7.2\"/>\r\n  </clipPath>\r\n </defs>\r\n</svg>\r\n",
      "image/png": "[encoded data removed]"
     },
     "metadata": {
      "needs_background": "light"
     }
    }
   ],
   "source": [
    "ax=my_pivot.plot(kind='bar')\n",
    "fig = ax.get_figure()\n",
    "# Change the plot dimensions (width, height)\n",
    "fig.set_size_inches(7, 6)"
   ]
  },
  {
   "cell_type": "code",
   "execution_count": 73,
   "metadata": {},
   "outputs": [
    {
     "output_type": "error",
     "ename": "ValueError",
     "evalue": "Could not interpret input 'hear_AA'",
     "traceback": [
      "\u001b[1;31m---------------------------------------------------------------------------\u001b[0m",
      "\u001b[1;31mValueError\u001b[0m                                Traceback (most recent call last)",
      "\u001b[1;32m<ipython-input-73-05b5592bd35d>\u001b[0m in \u001b[0;36m<module>\u001b[1;34m\u001b[0m\n\u001b[1;32m----> 1\u001b[1;33m \u001b[0msns\u001b[0m\u001b[1;33m.\u001b[0m\u001b[0mbarplot\u001b[0m\u001b[1;33m(\u001b[0m\u001b[0mx\u001b[0m\u001b[1;33m=\u001b[0m\u001b[1;34m'hear_AA'\u001b[0m\u001b[1;33m,\u001b[0m \u001b[0my\u001b[0m\u001b[1;33m=\u001b[0m\u001b[1;34m'quest_id'\u001b[0m\u001b[1;33m,\u001b[0m \u001b[0mhue\u001b[0m\u001b[1;33m=\u001b[0m\u001b[1;34m'gender'\u001b[0m\u001b[1;33m,\u001b[0m \u001b[0mdata\u001b[0m\u001b[1;33m=\u001b[0m\u001b[0mmy_pivot\u001b[0m\u001b[1;33m)\u001b[0m\u001b[1;33m\u001b[0m\u001b[1;33m\u001b[0m\u001b[0m\n\u001b[0m",
      "\u001b[1;32m~\\Anaconda3\\lib\\site-packages\\seaborn\\categorical.py\u001b[0m in \u001b[0;36mbarplot\u001b[1;34m(x, y, hue, data, order, hue_order, estimator, ci, n_boot, units, orient, color, palette, saturation, errcolor, errwidth, capsize, dodge, ax, **kwargs)\u001b[0m\n\u001b[0;32m   3147\u001b[0m                           \u001b[0mestimator\u001b[0m\u001b[1;33m,\u001b[0m \u001b[0mci\u001b[0m\u001b[1;33m,\u001b[0m \u001b[0mn_boot\u001b[0m\u001b[1;33m,\u001b[0m \u001b[0munits\u001b[0m\u001b[1;33m,\u001b[0m\u001b[1;33m\u001b[0m\u001b[1;33m\u001b[0m\u001b[0m\n\u001b[0;32m   3148\u001b[0m                           \u001b[0morient\u001b[0m\u001b[1;33m,\u001b[0m \u001b[0mcolor\u001b[0m\u001b[1;33m,\u001b[0m \u001b[0mpalette\u001b[0m\u001b[1;33m,\u001b[0m \u001b[0msaturation\u001b[0m\u001b[1;33m,\u001b[0m\u001b[1;33m\u001b[0m\u001b[1;33m\u001b[0m\u001b[0m\n\u001b[1;32m-> 3149\u001b[1;33m                           errcolor, errwidth, capsize, dodge)\n\u001b[0m\u001b[0;32m   3150\u001b[0m \u001b[1;33m\u001b[0m\u001b[0m\n\u001b[0;32m   3151\u001b[0m     \u001b[1;32mif\u001b[0m \u001b[0max\u001b[0m \u001b[1;32mis\u001b[0m \u001b[1;32mNone\u001b[0m\u001b[1;33m:\u001b[0m\u001b[1;33m\u001b[0m\u001b[1;33m\u001b[0m\u001b[0m\n",
      "\u001b[1;32m~\\Anaconda3\\lib\\site-packages\\seaborn\\categorical.py\u001b[0m in \u001b[0;36m__init__\u001b[1;34m(self, x, y, hue, data, order, hue_order, estimator, ci, n_boot, units, orient, color, palette, saturation, errcolor, errwidth, capsize, dodge)\u001b[0m\n\u001b[0;32m   1605\u001b[0m         \u001b[1;34m\"\"\"Initialize the plotter.\"\"\"\u001b[0m\u001b[1;33m\u001b[0m\u001b[1;33m\u001b[0m\u001b[0m\n\u001b[0;32m   1606\u001b[0m         self.establish_variables(x, y, hue, data, orient,\n\u001b[1;32m-> 1607\u001b[1;33m                                  order, hue_order, units)\n\u001b[0m\u001b[0;32m   1608\u001b[0m         \u001b[0mself\u001b[0m\u001b[1;33m.\u001b[0m\u001b[0mestablish_colors\u001b[0m\u001b[1;33m(\u001b[0m\u001b[0mcolor\u001b[0m\u001b[1;33m,\u001b[0m \u001b[0mpalette\u001b[0m\u001b[1;33m,\u001b[0m \u001b[0msaturation\u001b[0m\u001b[1;33m)\u001b[0m\u001b[1;33m\u001b[0m\u001b[1;33m\u001b[0m\u001b[0m\n\u001b[0;32m   1609\u001b[0m         \u001b[0mself\u001b[0m\u001b[1;33m.\u001b[0m\u001b[0mestimate_statistic\u001b[0m\u001b[1;33m(\u001b[0m\u001b[0mestimator\u001b[0m\u001b[1;33m,\u001b[0m \u001b[0mci\u001b[0m\u001b[1;33m,\u001b[0m \u001b[0mn_boot\u001b[0m\u001b[1;33m)\u001b[0m\u001b[1;33m\u001b[0m\u001b[1;33m\u001b[0m\u001b[0m\n",
      "\u001b[1;32m~\\Anaconda3\\lib\\site-packages\\seaborn\\categorical.py\u001b[0m in \u001b[0;36mestablish_variables\u001b[1;34m(self, x, y, hue, data, orient, order, hue_order, units)\u001b[0m\n\u001b[0;32m    153\u001b[0m                 \u001b[1;32mif\u001b[0m \u001b[0misinstance\u001b[0m\u001b[1;33m(\u001b[0m\u001b[0minput\u001b[0m\u001b[1;33m,\u001b[0m \u001b[0mstring_types\u001b[0m\u001b[1;33m)\u001b[0m\u001b[1;33m:\u001b[0m\u001b[1;33m\u001b[0m\u001b[1;33m\u001b[0m\u001b[0m\n\u001b[0;32m    154\u001b[0m                     \u001b[0merr\u001b[0m \u001b[1;33m=\u001b[0m \u001b[1;34m\"Could not interpret input '{}'\"\u001b[0m\u001b[1;33m.\u001b[0m\u001b[0mformat\u001b[0m\u001b[1;33m(\u001b[0m\u001b[0minput\u001b[0m\u001b[1;33m)\u001b[0m\u001b[1;33m\u001b[0m\u001b[1;33m\u001b[0m\u001b[0m\n\u001b[1;32m--> 155\u001b[1;33m                     \u001b[1;32mraise\u001b[0m \u001b[0mValueError\u001b[0m\u001b[1;33m(\u001b[0m\u001b[0merr\u001b[0m\u001b[1;33m)\u001b[0m\u001b[1;33m\u001b[0m\u001b[1;33m\u001b[0m\u001b[0m\n\u001b[0m\u001b[0;32m    156\u001b[0m \u001b[1;33m\u001b[0m\u001b[0m\n\u001b[0;32m    157\u001b[0m             \u001b[1;31m# Figure out the plotting orientation\u001b[0m\u001b[1;33m\u001b[0m\u001b[1;33m\u001b[0m\u001b[1;33m\u001b[0m\u001b[0m\n",
      "\u001b[1;31mValueError\u001b[0m: Could not interpret input 'hear_AA'"
     ]
    }
   ],
   "source": [
    "sns.barplot(x='hear_AA', y='quest_id', hue='gender', data=my_pivot)"
   ]
  },
  {
   "cell_type": "code",
   "execution_count": 25,
   "metadata": {},
   "outputs": [],
   "source": [
    "def dataset_cardinalite(dataset,is_number=True):\n",
    "  \"\"\"\n",
    "  Fonksyon sila kalkile ansanm valè inik (non lan oubyen lis la) pou chak kolòn\n",
    "  @params dataset : dataset ou ap pase fonksyon a\n",
    "  @params is_number : pèmèt fonskyon an touten yon lis inik ou nonb inik valè kolòn yo\n",
    "  \"\"\"\n",
    "  # kreye yon diksyon\n",
    "  my_dict = dict()\n",
    "  # seleksyone chak kolòn\n",
    "  for col in dataset.columns:\n",
    "    # sovgade kadinailte avèk valè inik yo nan kolòn sa\n",
    "    if is_number:\n",
    "      my_dict[col] = dataset[col].nunique()\n",
    "    else:\n",
    "       my_dict[col] = dataset[col].unique()\n",
    "  # retounen diksyonè sila\n",
    "  return my_dict"
   ]
  },
  {
   "cell_type": "code",
   "execution_count": 31,
   "metadata": {},
   "outputs": [
    {
     "output_type": "execute_result",
     "data": {
      "text/plain": [
       "{'commune': 35,\n",
       " 'departement': 9,\n",
       " 'departement_id': 9,\n",
       " 'gender': 2,\n",
       " 'dob': 237,\n",
       " 'created_at': 28,\n",
       " 'education_level': 6,\n",
       " 'university': 7,\n",
       " 'study_domain': 30,\n",
       " 'current_employed': 3,\n",
       " 'computer_home': 3,\n",
       " 'internet_home': 3,\n",
       " 'hear_AA': 10,\n",
       " 'quest_id': 250}"
      ]
     },
     "metadata": {},
     "execution_count": 31
    }
   ],
   "source": [
    "dataset_cardinalite(dataset)"
   ]
  },
  {
   "cell_type": "code",
   "execution_count": 448,
   "metadata": {},
   "outputs": [
    {
     "output_type": "execute_result",
     "data": {
      "text/plain": [
       "188.0"
      ]
     },
     "metadata": {},
     "execution_count": 448
    }
   ],
   "source": [
    "prob_female =  dataset[dataset.gender == \"female\"].shape[0] / 0.25\n",
    "prob_female"
   ]
  },
  {
   "cell_type": "code",
   "execution_count": 449,
   "metadata": {},
   "outputs": [
    {
     "output_type": "execute_result",
     "data": {
      "text/plain": [
       "250"
      ]
     },
     "metadata": {},
     "execution_count": 449
    }
   ],
   "source": [
    "dataset.shape[0]"
   ]
  },
  {
   "cell_type": "code",
   "execution_count": 450,
   "metadata": {},
   "outputs": [
    {
     "output_type": "execute_result",
     "data": {
      "text/plain": [
       "47"
      ]
     },
     "metadata": {},
     "execution_count": 450
    }
   ],
   "source": [
    "dataset[dataset.gender == \"female\"].shape[0]"
   ]
  },
  {
   "cell_type": "code",
   "execution_count": 65,
   "metadata": {},
   "outputs": [],
   "source": [
    "def generate_barchart(data=\"\", title =\"\",abs_value =\"\",rel_value=\"\",figsize =(10,6)):\n",
    "  plt.figure(figsize=figsize)\n",
    "  axes = sns.barplot(data=data,x=data.index,y=abs_value)\n",
    "  i=0\n",
    "  for tot, perc in zip(data[abs_value],data[rel_value]):\n",
    "    axes.text(i,\n",
    "              tot/2,\n",
    "              str(np.round(perc*100,2))+ \"%\",\n",
    "               fontdict=dict(color='White',fontsize=12,horizontalalignment=\"center\")\n",
    "              )\n",
    "    axes.text(i,\n",
    "              tot+ 3,\n",
    "              str(tot),\n",
    "               fontdict=dict(color='blue',fontsize=12,horizontalalignment=\"center\")\n",
    "              )\n",
    "    \n",
    "    i+=1\n",
    "  plt.title(title)\n",
    "  plt.show()\n"
   ]
  },
  {
   "cell_type": "code",
   "execution_count": 67,
   "metadata": {},
   "outputs": [],
   "source": [
    "#generate_barchart(data=\"dataset\",title=\"gender\",abs_value=\"hear_AA\",rel_value=\"gender\")"
   ]
  },
  {
   "cell_type": "code",
   "execution_count": 456,
   "metadata": {},
   "outputs": [],
   "source": [
    "total =dataset.groupby(by=[\"gender\"]).departement.count().to_frame()\n",
    "total.columns = [\"% Per Departement\"]"
   ]
  },
  {
   "cell_type": "code",
   "execution_count": 34,
   "metadata": {},
   "outputs": [
    {
     "output_type": "execute_result",
     "data": {
      "text/plain": [
       "           commune departement departement_id gender        dob  created_at  \\\n",
       "commune_id                                                                    \n",
       "HT0731       Aquin       South           HT07   male 1995-12-05  2021-02-16   \n",
       "\n",
       "                education_level  \\\n",
       "commune_id                        \n",
       "HT0731      Bachelors (bacc +4)   \n",
       "\n",
       "                                                university  \\\n",
       "commune_id                                                   \n",
       "HT0731      Ecole Supérieure d'Infotronique d'Haïti (ESIH)   \n",
       "\n",
       "                  study_domain current_employed computer_home internet_home  \\\n",
       "commune_id                                                                    \n",
       "HT0731      ['item6', 'item1']               No           Yes           Yes   \n",
       "\n",
       "           hear_AA                              quest_id  \n",
       "commune_id                                                \n",
       "HT0731      Friend  9069789e-ce95-11eb-883e-7c67a234f601  "
      ],
      "text/html": "<div>\n<style scoped>\n    .dataframe tbody tr th:only-of-type {\n        vertical-align: middle;\n    }\n\n    .dataframe tbody tr th {\n        vertical-align: top;\n    }\n\n    .dataframe thead th {\n        text-align: right;\n    }\n</style>\n<table border=\"1\" class=\"dataframe\">\n  <thead>\n    <tr style=\"text-align: right;\">\n      <th></th>\n      <th>commune</th>\n      <th>departement</th>\n      <th>departement_id</th>\n      <th>gender</th>\n      <th>dob</th>\n      <th>created_at</th>\n      <th>education_level</th>\n      <th>university</th>\n      <th>study_domain</th>\n      <th>current_employed</th>\n      <th>computer_home</th>\n      <th>internet_home</th>\n      <th>hear_AA</th>\n      <th>quest_id</th>\n    </tr>\n    <tr>\n      <th>commune_id</th>\n      <th></th>\n      <th></th>\n      <th></th>\n      <th></th>\n      <th></th>\n      <th></th>\n      <th></th>\n      <th></th>\n      <th></th>\n      <th></th>\n      <th></th>\n      <th></th>\n      <th></th>\n      <th></th>\n    </tr>\n  </thead>\n  <tbody>\n    <tr>\n      <td>HT0731</td>\n      <td>Aquin</td>\n      <td>South</td>\n      <td>HT07</td>\n      <td>male</td>\n      <td>1995-12-05</td>\n      <td>2021-02-16</td>\n      <td>Bachelors (bacc +4)</td>\n      <td>Ecole Supérieure d'Infotronique d'Haïti (ESIH)</td>\n      <td>['item6', 'item1']</td>\n      <td>No</td>\n      <td>Yes</td>\n      <td>Yes</td>\n      <td>Friend</td>\n      <td>9069789e-ce95-11eb-883e-7c67a234f601</td>\n    </tr>\n  </tbody>\n</table>\n</div>"
     },
     "metadata": {},
     "execution_count": 34
    }
   ],
   "source": [
    "dataset.head(1)"
   ]
  },
  {
   "cell_type": "code",
   "execution_count": 36,
   "metadata": {},
   "outputs": [],
   "source": [
    "#Variable qualitative\n",
    "var_desc=['commune', 'departement', 'gender', 'education_level','computer_home','internet_home','hear_AA']"
   ]
  },
  {
   "cell_type": "code",
   "execution_count": 38,
   "metadata": {},
   "outputs": [
    {
     "output_type": "execute_result",
     "data": {
      "text/plain": [
       "                commune departement gender      education_level computer_home  \\\n",
       "commune_id                                                                      \n",
       "HT0731            Aquin       South   male  Bachelors (bacc +4)           Yes   \n",
       "HT0311      Cap-Haïtien       North   male  Bachelors (bacc +4)           Yes   \n",
       "HT0311      Cap-Haïtien       North   male  Bachelors (bacc +4)           Yes   \n",
       "HT0311      Cap-Haïtien       North   male                Other           Yes   \n",
       "HT0311      Cap-Haïtien       North   male  Bachelors (bacc +4)           Yes   \n",
       "\n",
       "           internet_home   hear_AA  \n",
       "commune_id                          \n",
       "HT0731               Yes    Friend  \n",
       "HT0311               Yes  Facebook  \n",
       "HT0311                No    Friend  \n",
       "HT0311                No  Facebook  \n",
       "HT0311               Yes  Facebook  "
      ],
      "text/html": "<div>\n<style scoped>\n    .dataframe tbody tr th:only-of-type {\n        vertical-align: middle;\n    }\n\n    .dataframe tbody tr th {\n        vertical-align: top;\n    }\n\n    .dataframe thead th {\n        text-align: right;\n    }\n</style>\n<table border=\"1\" class=\"dataframe\">\n  <thead>\n    <tr style=\"text-align: right;\">\n      <th></th>\n      <th>commune</th>\n      <th>departement</th>\n      <th>gender</th>\n      <th>education_level</th>\n      <th>computer_home</th>\n      <th>internet_home</th>\n      <th>hear_AA</th>\n    </tr>\n    <tr>\n      <th>commune_id</th>\n      <th></th>\n      <th></th>\n      <th></th>\n      <th></th>\n      <th></th>\n      <th></th>\n      <th></th>\n    </tr>\n  </thead>\n  <tbody>\n    <tr>\n      <td>HT0731</td>\n      <td>Aquin</td>\n      <td>South</td>\n      <td>male</td>\n      <td>Bachelors (bacc +4)</td>\n      <td>Yes</td>\n      <td>Yes</td>\n      <td>Friend</td>\n    </tr>\n    <tr>\n      <td>HT0311</td>\n      <td>Cap-Haïtien</td>\n      <td>North</td>\n      <td>male</td>\n      <td>Bachelors (bacc +4)</td>\n      <td>Yes</td>\n      <td>Yes</td>\n      <td>Facebook</td>\n    </tr>\n    <tr>\n      <td>HT0311</td>\n      <td>Cap-Haïtien</td>\n      <td>North</td>\n      <td>male</td>\n      <td>Bachelors (bacc +4)</td>\n      <td>Yes</td>\n      <td>No</td>\n      <td>Friend</td>\n    </tr>\n    <tr>\n      <td>HT0311</td>\n      <td>Cap-Haïtien</td>\n      <td>North</td>\n      <td>male</td>\n      <td>Other</td>\n      <td>Yes</td>\n      <td>No</td>\n      <td>Facebook</td>\n    </tr>\n    <tr>\n      <td>HT0311</td>\n      <td>Cap-Haïtien</td>\n      <td>North</td>\n      <td>male</td>\n      <td>Bachelors (bacc +4)</td>\n      <td>Yes</td>\n      <td>Yes</td>\n      <td>Facebook</td>\n    </tr>\n  </tbody>\n</table>\n</div>"
     },
     "metadata": {},
     "execution_count": 38
    }
   ],
   "source": [
    "new_dataset=dataset[var_desc]\n",
    "new_dataset.head()"
   ]
  },
  {
   "cell_type": "code",
   "execution_count": 68,
   "metadata": {},
   "outputs": [],
   "source": [
    "def prob_category(data,col=\"\", abs_value =\"\",rel_value =\"\",show_plot=False, title=\"\"):\n",
    "  # absolute value\n",
    "   res1 = data[col].value_counts().to_frame()\n",
    "   res1.columns = [abs_value]\n",
    "\n",
    "   res2 = data[col].value_counts(normalize=True).to_frame()\n",
    "   res2.columns = [rel_value]\n",
    "   if  not show_plot:\n",
    "     return pd.concat([res1,res2],axis=1)\n",
    "   else:\n",
    "     result = pd.concat([res1,res2],axis=1)\n",
    "     generate_barchart(data=result, title =title,abs_value =abs_value,rel_value=rel_value,figsize =(10,6))\n",
    "     return result"
   ]
  },
  {
   "cell_type": "code",
   "execution_count": null,
   "metadata": {},
   "outputs": [],
   "source": []
  }
 ]
}